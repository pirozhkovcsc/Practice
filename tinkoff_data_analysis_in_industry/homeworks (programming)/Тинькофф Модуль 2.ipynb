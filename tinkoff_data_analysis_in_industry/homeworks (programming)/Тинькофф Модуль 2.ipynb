{
 "cells": [
  {
   "cell_type": "markdown",
   "metadata": {},
   "source": [
    "# Задача 1"
   ]
  },
  {
   "attachments": {},
   "cell_type": "markdown",
   "metadata": {},
   "source": [
    "Найдем точечную оценку с помощью второго момента методом моментов\n",
    "\\begin{align*}\n",
    "    \\mathbb{E}_{\\lambda}\\left(X_1^2\\right) = \\overline{X^2} &\\Leftrightarrow \\\\\n",
    "    (16\\lambda^{*})^2 + 16\\lambda^{*} - \\overline{X^2} = 0 &\\Leftrightarrow \\\\\n",
    "    \\lambda^{*} = \\frac{\\sqrt{4 * \\overline{X^2} + 1} - 1}{32}.\n",
    "\\end{align*}\n",
    "Осталось лишь использовать ее для оценки истинного параметра $\\lambda$."
   ]
  },
  {
   "cell_type": "code",
   "execution_count": 1,
   "metadata": {},
   "outputs": [],
   "source": [
    "import pandas as pd\n",
    "import numpy as np\n",
    "from scipy.stats import norm\n",
    "from scipy.stats import chi2\n",
    "\n",
    "chat_id = 846523402 # Ваш chat ID, не меняйте название переменной"
   ]
  },
  {
   "cell_type": "code",
   "execution_count": 2,
   "metadata": {},
   "outputs": [],
   "source": [
    "def solution(x: np.array) -> float:\n",
    "    # Измените код этой функции\n",
    "    # Это будет вашим решением\n",
    "    # Не меняйте название функции и её аргументы\n",
    "    return (np.sqrt(4 * (x ** 2).mean() + 1) - 1) / (2 * 16) # Ваш ответ\n",
    "\n",
    "def experiment(N=1000, n=10, mu=10) -> float:\n",
    "    from scipy.stats import poisson\n",
    "    import numpy as np\n",
    "\n",
    "    total = []\n",
    "    for i in range(N):\n",
    "        total.append((mu - solution(poisson.rvs(mu=16 * mu, size=n))) ** 2)\n",
    "    total = np.array(total).mean()\n",
    "    return total"
   ]
  },
  {
   "cell_type": "code",
   "execution_count": 3,
   "metadata": {},
   "outputs": [
    {
     "data": {
      "text/plain": [
       "0.05992037525135366"
      ]
     },
     "execution_count": 3,
     "metadata": {},
     "output_type": "execute_result"
    }
   ],
   "source": [
    "experiment()"
   ]
  },
  {
   "attachments": {},
   "cell_type": "markdown",
   "metadata": {},
   "source": [
    "# Задача 2"
   ]
  },
  {
   "attachments": {},
   "cell_type": "markdown",
   "metadata": {},
   "source": [
    "Итак, на вход нам мы ожидаем получить реализацию случайных величин:\n",
    "\\begin{align*}\n",
    "    Z_i = \\sqrt{X_i^2 + Y_i^2}, i=1,...,n,\n",
    "\\end{align*}\n",
    "где $n$ - количество выпущенных Иваном стрел. Тогда заметим, что\n",
    "\\begin{align*}\n",
    "    \\sum\\limits_{k=1}^{n} \\frac{Z_k^2}{44\\sigma^2} &= \\sum\\limits_{k=1}^{n} \\left(\\frac{X_i^2 + Y_i^2}{44\\sigma^2}\\right) \\\\\n",
    "     &= \\sum\\limits_{k=1}^{n} \\left(\\left(\\frac{X_i}{\\sqrt{44\\sigma^2}}\\right)^2 + \\left(\\frac{Y_i}{\\sqrt{44\\sigma^2}}\\right)^2\\right) = \\eta \\sim {\\cal{X}}_{2n}^2,\n",
    "\\end{align*}\n",
    "т.е получили случайную величину, которая имеет распределение хи-квадрат с $2n$ степенями свободы (это распределение известное и уже не зависит от параметра!) Поэтому можно построить **точный** доверительный интервал уровня $1 - \\alpha$ для неизвестного стандартного отклонения $\\sigma$. Так как\n",
    "\\begin{align*}\n",
    "    \\mathbb{P}\\left(x_{\\alpha / 2, 2n}^2 < \\eta < x_{1 - \\alpha / 2, 2n}^2\\right) = 1 - \\alpha &\\Leftrightarrow \\\\\n",
    "    \\mathbb{P}\\left(x_{\\alpha / 2, 2n}^2 < n \\cdot \\frac{\\overline{Z^2}}{44\\sigma^2} < x_{1 - \\alpha / 2, 2n}^2\\right) = 1 - \\alpha &\\Leftrightarrow \\\\\n",
    "    \\mathbb{P}\\left(\\frac{n\\overline{Z^2}}{44 \\cdot x_{1 - \\alpha / 2, 2n}^2} < \\sigma^2 < \\frac{n\\overline{Z^2}}{44 \\cdot x_{\\alpha / 2, 2n}^2}\\right) = 1 - \\alpha &\\Leftrightarrow \\\\\n",
    "    \\mathbb{P}\\left(\\sqrt{\\frac{n\\overline{Z^2}}{44 \\cdot x_{1 - \\alpha / 2, 2n}^2}} < \\sigma < \\sqrt{\\frac{n\\overline{Z^2}}{44 \\cdot x_{\\alpha / 2, 2n}^2}}\\right)  = 1 - \\alpha,\n",
    "\\end{align*}\n",
    "где $x_{1 - \\alpha / 2, 2n}^2$ и $x_{\\alpha / 2, 2n}^2$ квантили распределения хи-квадрат с $2n$ степенями свободы уровней $1 - \\alpha / 2$ и $\\alpha / 2$ соответственно, а также\n",
    "\\begin{align*}\n",
    "    \\overline{Z^2} = \\frac{1}{n} \\cdot \\sum\\limits_{k=1}^{n} Z_k^2.\n",
    "\\end{align*}\n",
    "Поэтому доверительный интервал для $\\sigma$ при заданном уровне значимости $1 - \\alpha$ имеет вид:\n",
    "\\begin{align*}\n",
    "    \\sqrt{\\frac{n\\overline{Z^2}}{44 \\cdot x_{1 - \\alpha / 2, 2n}^2}}, \\sqrt{\\frac{n\\overline{Z^2}}{44 \\cdot x_{\\alpha / 2, 2n}^2}}\n",
    "\\end{align*}"
   ]
  },
  {
   "cell_type": "code",
   "execution_count": 4,
   "metadata": {},
   "outputs": [],
   "source": [
    "def solution(p: float, x: np.array) -> tuple:\n",
    "    alpha = 1 - p\n",
    "    size = len(x)\n",
    "    left = np.sqrt(size * (x ** 2).mean() / (44 * chi2.ppf(q=1 - alpha / 2, df=2 * size)))\n",
    "    right = np.sqrt(size * (x ** 2).mean() / (44 * chi2.ppf(q=alpha / 2, df=2 * size)))\n",
    "    \n",
    "    return left, \\\n",
    "           right\n",
    "\n",
    "\n",
    "def experiment(N: int, std: float) -> pd.DataFrame:\n",
    "    std = std\n",
    "    N = N\n",
    "\n",
    "    alphas = [0.99, 0.9, 0.7, 0.9, 0.95, 0.9]\n",
    "    sample_sizes = [1000, 1000, 100, 100, 10, 10]\n",
    "    df = []\n",
    "\n",
    "    data = zip(alphas, sample_sizes)\n",
    "\n",
    "    for p, size in data:\n",
    "        error_counter = 0\n",
    "        ci_length = []\n",
    "        \n",
    "        for i in range(N):\n",
    "            sample = np.sqrt(norm.rvs(loc=0, scale=np.sqrt(44 * std ** 2), size=size) ** 2 \\\n",
    "                + norm.rvs(loc=0, scale=np.sqrt(44 * std ** 2), size=size) ** 2)\n",
    "            \n",
    "            left, right = solution(p, sample)\n",
    "            error_counter += not [left < std < right][0]\n",
    "            ci_length.append(right - left)\n",
    "\n",
    "        error_counter /= N\n",
    "        ci_length = np.array(ci_length).mean()\n",
    "\n",
    "        df.append([size, p, round(error_counter, 3), round(ci_length, 3)])\n",
    "        \n",
    "    df = pd.DataFrame(df, columns=['Размер выборки', 'Доверие', 'Частота ошибок', 'Длина интервала'])\n",
    "\n",
    "    return df"
   ]
  },
  {
   "cell_type": "code",
   "execution_count": 5,
   "metadata": {},
   "outputs": [
    {
     "data": {
      "text/html": [
       "<div>\n",
       "<style scoped>\n",
       "    .dataframe tbody tr th:only-of-type {\n",
       "        vertical-align: middle;\n",
       "    }\n",
       "\n",
       "    .dataframe tbody tr th {\n",
       "        vertical-align: top;\n",
       "    }\n",
       "\n",
       "    .dataframe thead th {\n",
       "        text-align: right;\n",
       "    }\n",
       "</style>\n",
       "<table border=\"1\" class=\"dataframe\">\n",
       "  <thead>\n",
       "    <tr style=\"text-align: right;\">\n",
       "      <th></th>\n",
       "      <th>Размер выборки</th>\n",
       "      <th>Доверие</th>\n",
       "      <th>Частота ошибок</th>\n",
       "      <th>Длина интервала</th>\n",
       "    </tr>\n",
       "  </thead>\n",
       "  <tbody>\n",
       "    <tr>\n",
       "      <th>0</th>\n",
       "      <td>1000</td>\n",
       "      <td>0.99</td>\n",
       "      <td>0.010</td>\n",
       "      <td>0.082</td>\n",
       "    </tr>\n",
       "    <tr>\n",
       "      <th>1</th>\n",
       "      <td>1000</td>\n",
       "      <td>0.90</td>\n",
       "      <td>0.093</td>\n",
       "      <td>0.052</td>\n",
       "    </tr>\n",
       "    <tr>\n",
       "      <th>2</th>\n",
       "      <td>100</td>\n",
       "      <td>0.70</td>\n",
       "      <td>0.289</td>\n",
       "      <td>0.104</td>\n",
       "    </tr>\n",
       "    <tr>\n",
       "      <th>3</th>\n",
       "      <td>100</td>\n",
       "      <td>0.90</td>\n",
       "      <td>0.095</td>\n",
       "      <td>0.165</td>\n",
       "    </tr>\n",
       "    <tr>\n",
       "      <th>4</th>\n",
       "      <td>10</td>\n",
       "      <td>0.95</td>\n",
       "      <td>0.053</td>\n",
       "      <td>0.672</td>\n",
       "    </tr>\n",
       "    <tr>\n",
       "      <th>5</th>\n",
       "      <td>10</td>\n",
       "      <td>0.90</td>\n",
       "      <td>0.095</td>\n",
       "      <td>0.553</td>\n",
       "    </tr>\n",
       "  </tbody>\n",
       "</table>\n",
       "</div>"
      ],
      "text/plain": [
       "   Размер выборки  Доверие  Частота ошибок  Длина интервала\n",
       "0            1000     0.99           0.010            0.082\n",
       "1            1000     0.90           0.093            0.052\n",
       "2             100     0.70           0.289            0.104\n",
       "3             100     0.90           0.095            0.165\n",
       "4              10     0.95           0.053            0.672\n",
       "5              10     0.90           0.095            0.553"
      ]
     },
     "execution_count": 5,
     "metadata": {},
     "output_type": "execute_result"
    }
   ],
   "source": [
    "experiment(5000, 1)"
   ]
  }
 ],
 "metadata": {
  "kernelspec": {
   "display_name": "base",
   "language": "python",
   "name": "python3"
  },
  "language_info": {
   "codemirror_mode": {
    "name": "ipython",
    "version": 3
   },
   "file_extension": ".py",
   "mimetype": "text/x-python",
   "name": "python",
   "nbconvert_exporter": "python",
   "pygments_lexer": "ipython3",
   "version": "3.10.9"
  },
  "orig_nbformat": 4
 },
 "nbformat": 4,
 "nbformat_minor": 2
}
