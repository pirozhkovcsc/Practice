{
 "cells": [
  {
   "cell_type": "markdown",
   "id": "c243c766",
   "metadata": {},
   "source": [
    "## Problems_1"
   ]
  },
  {
   "cell_type": "code",
   "execution_count": 4,
   "id": "7424c25f",
   "metadata": {},
   "outputs": [],
   "source": [
    "import torch"
   ]
  },
  {
   "cell_type": "markdown",
   "id": "95ea195d",
   "metadata": {},
   "source": [
    "**Задача 1.**"
   ]
  },
  {
   "cell_type": "markdown",
   "id": "553889fa",
   "metadata": {},
   "source": [
    "[Ссылка на задание](https://stepik.org/lesson/210103/step/9?unit=183580)"
   ]
  },
  {
   "cell_type": "code",
   "execution_count": 5,
   "id": "59e33565",
   "metadata": {},
   "outputs": [
    {
     "name": "stdout",
     "output_type": "stream",
     "text": [
      "1\n",
      "tensor(44)\n"
     ]
    }
   ],
   "source": [
    "import torch\n",
    "\n",
    "X = torch.tensor([[1, 2, 3], [4, 5, 6], [7, 8, 9]])\n",
    "limit = int(input())\n",
    "\n",
    "larger_than_limit_sum = (X[X > limit]).sum() # Добавил X[X > limit]\n",
    "\n",
    "print(larger_than_limit_sum)"
   ]
  }
 ],
 "metadata": {
  "kernelspec": {
   "display_name": "Python 3 (ipykernel)",
   "language": "python",
   "name": "python3"
  },
  "language_info": {
   "codemirror_mode": {
    "name": "ipython",
    "version": 3
   },
   "file_extension": ".py",
   "mimetype": "text/x-python",
   "name": "python",
   "nbconvert_exporter": "python",
   "pygments_lexer": "ipython3",
   "version": "3.9.12"
  }
 },
 "nbformat": 4,
 "nbformat_minor": 5
}
