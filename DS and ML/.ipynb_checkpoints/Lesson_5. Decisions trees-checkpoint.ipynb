{
 "cells": [
  {
   "cell_type": "markdown",
   "metadata": {},
   "source": [
    "# Lesson_5. Decisions trees."
   ]
  },
  {
   "cell_type": "markdown",
   "metadata": {},
   "source": [
    "# Решающие деревья"
   ]
  },
  {
   "cell_type": "code",
   "execution_count": 58,
   "metadata": {},
   "outputs": [],
   "source": [
    "import pandas as pd\n",
    "import numpy as np\n",
    "\n",
    "from sklearn import tree\n",
    "from sklearn.model_selection import train_test_split\n",
    "from sklearn.model_selection import cross_val_score\n",
    "from sklearn.model_selection import GridSearchCV\n",
    "from sklearn.metrics import precision_score, recall_score, plot_roc_curve, plot_confusion_matrix, \\\n",
    "    plot_precision_recall_curve\n",
    "\n",
    "import matplotlib.pyplot as plt\n",
    "import seaborn as sns\n",
    "sns.set(rc={'figure.figsize': (9, 6)})"
   ]
  },
  {
   "cell_type": "markdown",
   "metadata": {},
   "source": [
    "Сначала рассмотрим пример, а для этого создадим датафрейм:"
   ]
  },
  {
   "cell_type": "code",
   "execution_count": 59,
   "metadata": {},
   "outputs": [
    {
     "data": {
      "text/html": [
       "<div>\n",
       "<style scoped>\n",
       "    .dataframe tbody tr th:only-of-type {\n",
       "        vertical-align: middle;\n",
       "    }\n",
       "\n",
       "    .dataframe tbody tr th {\n",
       "        vertical-align: top;\n",
       "    }\n",
       "\n",
       "    .dataframe thead th {\n",
       "        text-align: right;\n",
       "    }\n",
       "</style>\n",
       "<table border=\"1\" class=\"dataframe\">\n",
       "  <thead>\n",
       "    <tr style=\"text-align: right;\">\n",
       "      <th></th>\n",
       "      <th>X_1</th>\n",
       "      <th>X_2</th>\n",
       "      <th>Y</th>\n",
       "    </tr>\n",
       "  </thead>\n",
       "  <tbody>\n",
       "    <tr>\n",
       "      <th>0</th>\n",
       "      <td>1</td>\n",
       "      <td>0</td>\n",
       "      <td>1</td>\n",
       "    </tr>\n",
       "    <tr>\n",
       "      <th>1</th>\n",
       "      <td>1</td>\n",
       "      <td>0</td>\n",
       "      <td>1</td>\n",
       "    </tr>\n",
       "    <tr>\n",
       "      <th>2</th>\n",
       "      <td>1</td>\n",
       "      <td>0</td>\n",
       "      <td>1</td>\n",
       "    </tr>\n",
       "    <tr>\n",
       "      <th>3</th>\n",
       "      <td>0</td>\n",
       "      <td>1</td>\n",
       "      <td>1</td>\n",
       "    </tr>\n",
       "    <tr>\n",
       "      <th>4</th>\n",
       "      <td>0</td>\n",
       "      <td>0</td>\n",
       "      <td>0</td>\n",
       "    </tr>\n",
       "    <tr>\n",
       "      <th>5</th>\n",
       "      <td>0</td>\n",
       "      <td>0</td>\n",
       "      <td>0</td>\n",
       "    </tr>\n",
       "    <tr>\n",
       "      <th>6</th>\n",
       "      <td>0</td>\n",
       "      <td>0</td>\n",
       "      <td>0</td>\n",
       "    </tr>\n",
       "    <tr>\n",
       "      <th>7</th>\n",
       "      <td>1</td>\n",
       "      <td>1</td>\n",
       "      <td>0</td>\n",
       "    </tr>\n",
       "  </tbody>\n",
       "</table>\n",
       "</div>"
      ],
      "text/plain": [
       "   X_1  X_2  Y\n",
       "0    1    0  1\n",
       "1    1    0  1\n",
       "2    1    0  1\n",
       "3    0    1  1\n",
       "4    0    0  0\n",
       "5    0    0  0\n",
       "6    0    0  0\n",
       "7    1    1  0"
      ]
     },
     "execution_count": 59,
     "metadata": {},
     "output_type": "execute_result"
    }
   ],
   "source": [
    "df = pd.DataFrame({\n",
    "    'X_1': [1, 1, 1, 0, 0, 0, 0, 1],\n",
    "    'X_2': [0, 0, 0, 1, 0, 0, 0, 1],\n",
    "    'Y': [1, 1, 1, 1, 0, 0, 0, 0]\n",
    "})\n",
    "df"
   ]
  },
  {
   "cell_type": "markdown",
   "metadata": {},
   "source": [
    "Создадим решающее дерево: (посадим его, в качестве критерия будем использовать энтропию)"
   ]
  },
  {
   "cell_type": "code",
   "execution_count": 60,
   "metadata": {},
   "outputs": [
    {
     "data": {
      "text/plain": [
       "DecisionTreeClassifier(criterion='entropy')"
      ]
     },
     "execution_count": 60,
     "metadata": {},
     "output_type": "execute_result"
    }
   ],
   "source": [
    "clf = tree.DecisionTreeClassifier(criterion='entropy')\n",
    "clf"
   ]
  },
  {
   "cell_type": "markdown",
   "metadata": {},
   "source": [
    "Теперь отдельно возьмем датафрейм с фичами и отдельно возьмем зависимую переменную (она имеет вид серии)"
   ]
  },
  {
   "cell_type": "code",
   "execution_count": 61,
   "metadata": {},
   "outputs": [],
   "source": [
    "# В икс помещаем фичи:\n",
    "X = df[['X_1', 'X_2']]\n",
    "\n",
    "# В игрек помещаем поле, которое предсказываем:\n",
    "y = df.Y"
   ]
  },
  {
   "cell_type": "code",
   "execution_count": 62,
   "metadata": {},
   "outputs": [
    {
     "data": {
      "text/plain": [
       "DecisionTreeClassifier(criterion='entropy')"
      ]
     },
     "execution_count": 62,
     "metadata": {},
     "output_type": "execute_result"
    }
   ],
   "source": [
    "# Обучаем модель:\n",
    "clf.fit(X, y)"
   ]
  },
  {
   "cell_type": "code",
   "execution_count": 63,
   "metadata": {},
   "outputs": [
    {
     "data": {
      "image/png": "[encoded data removed]",
      "text/plain": [
       "<Figure size 800x400 with 1 Axes>"
      ]
     },
     "metadata": {},
     "output_type": "display_data"
    }
   ],
   "source": [
    "# Визуализируем решающее дерево:\n",
    "plt.figure(figsize=(10, 5), dpi=80)\n",
    "tree.plot_tree(clf, feature_names=X.columns, class_names=['Negative', 'Positive'], filled=True);\n",
    "\n",
    "# аргументы - имена фичей, имена классов (они соответствуют значениям 0 и 1 зависимой переменной), заполнение"
   ]
  },
  {
   "cell_type": "markdown",
   "metadata": {},
   "source": [
    "## Титаник"
   ]
  },
  {
   "cell_type": "markdown",
   "metadata": {},
   "source": [
    "Теперь поработаем с датасетом Титаник, который легко можно найти на Kaggle.\n",
    "Основная задача - выбрать фичи, которые будут предсказывать выжил человек или нет (Survived). Затем обучим модель и посмотрим, насколько хорошо она предсказывает:)"
   ]
  },
  {
   "cell_type": "code",
   "execution_count": 64,
   "metadata": {},
   "outputs": [],
   "source": [
    "df = pd.read_csv('train.csv')"
   ]
  },
  {
   "cell_type": "markdown",
   "metadata": {},
   "source": [
    "Как обычно сначала посмотрим на структуру наших данных:"
   ]
  },
  {
   "cell_type": "code",
   "execution_count": 65,
   "metadata": {},
   "outputs": [
    {
     "data": {
      "text/html": [
       "<div>\n",
       "<style scoped>\n",
       "    .dataframe tbody tr th:only-of-type {\n",
       "        vertical-align: middle;\n",
       "    }\n",
       "\n",
       "    .dataframe tbody tr th {\n",
       "        vertical-align: top;\n",
       "    }\n",
       "\n",
       "    .dataframe thead th {\n",
       "        text-align: right;\n",
       "    }\n",
       "</style>\n",
       "<table border=\"1\" class=\"dataframe\">\n",
       "  <thead>\n",
       "    <tr style=\"text-align: right;\">\n",
       "      <th></th>\n",
       "      <th>PassengerId</th>\n",
       "      <th>Survived</th>\n",
       "      <th>Pclass</th>\n",
       "      <th>Name</th>\n",
       "      <th>Sex</th>\n",
       "      <th>Age</th>\n",
       "      <th>SibSp</th>\n",
       "      <th>Parch</th>\n",
       "      <th>Ticket</th>\n",
       "      <th>Fare</th>\n",
       "      <th>Cabin</th>\n",
       "      <th>Embarked</th>\n",
       "    </tr>\n",
       "  </thead>\n",
       "  <tbody>\n",
       "    <tr>\n",
       "      <th>0</th>\n",
       "      <td>1</td>\n",
       "      <td>0</td>\n",
       "      <td>3</td>\n",
       "      <td>Braund, Mr. Owen Harris</td>\n",
       "      <td>male</td>\n",
       "      <td>22.0</td>\n",
       "      <td>1</td>\n",
       "      <td>0</td>\n",
       "      <td>A/5 21171</td>\n",
       "      <td>7.2500</td>\n",
       "      <td>NaN</td>\n",
       "      <td>S</td>\n",
       "    </tr>\n",
       "    <tr>\n",
       "      <th>1</th>\n",
       "      <td>2</td>\n",
       "      <td>1</td>\n",
       "      <td>1</td>\n",
       "      <td>Cumings, Mrs. John Bradley (Florence Briggs Th...</td>\n",
       "      <td>female</td>\n",
       "      <td>38.0</td>\n",
       "      <td>1</td>\n",
       "      <td>0</td>\n",
       "      <td>PC 17599</td>\n",
       "      <td>71.2833</td>\n",
       "      <td>C85</td>\n",
       "      <td>C</td>\n",
       "    </tr>\n",
       "    <tr>\n",
       "      <th>2</th>\n",
       "      <td>3</td>\n",
       "      <td>1</td>\n",
       "      <td>3</td>\n",
       "      <td>Heikkinen, Miss. Laina</td>\n",
       "      <td>female</td>\n",
       "      <td>26.0</td>\n",
       "      <td>0</td>\n",
       "      <td>0</td>\n",
       "      <td>STON/O2. 3101282</td>\n",
       "      <td>7.9250</td>\n",
       "      <td>NaN</td>\n",
       "      <td>S</td>\n",
       "    </tr>\n",
       "    <tr>\n",
       "      <th>3</th>\n",
       "      <td>4</td>\n",
       "      <td>1</td>\n",
       "      <td>1</td>\n",
       "      <td>Futrelle, Mrs. Jacques Heath (Lily May Peel)</td>\n",
       "      <td>female</td>\n",
       "      <td>35.0</td>\n",
       "      <td>1</td>\n",
       "      <td>0</td>\n",
       "      <td>113803</td>\n",
       "      <td>53.1000</td>\n",
       "      <td>C123</td>\n",
       "      <td>S</td>\n",
       "    </tr>\n",
       "    <tr>\n",
       "      <th>4</th>\n",
       "      <td>5</td>\n",
       "      <td>0</td>\n",
       "      <td>3</td>\n",
       "      <td>Allen, Mr. William Henry</td>\n",
       "      <td>male</td>\n",
       "      <td>35.0</td>\n",
       "      <td>0</td>\n",
       "      <td>0</td>\n",
       "      <td>373450</td>\n",
       "      <td>8.0500</td>\n",
       "      <td>NaN</td>\n",
       "      <td>S</td>\n",
       "    </tr>\n",
       "  </tbody>\n",
       "</table>\n",
       "</div>"
      ],
      "text/plain": [
       "   PassengerId  Survived  Pclass  \\\n",
       "0            1         0       3   \n",
       "1            2         1       1   \n",
       "2            3         1       3   \n",
       "3            4         1       1   \n",
       "4            5         0       3   \n",
       "\n",
       "                                                Name     Sex   Age  SibSp  \\\n",
       "0                            Braund, Mr. Owen Harris    male  22.0      1   \n",
       "1  Cumings, Mrs. John Bradley (Florence Briggs Th...  female  38.0      1   \n",
       "2                             Heikkinen, Miss. Laina  female  26.0      0   \n",
       "3       Futrelle, Mrs. Jacques Heath (Lily May Peel)  female  35.0      1   \n",
       "4                           Allen, Mr. William Henry    male  35.0      0   \n",
       "\n",
       "   Parch            Ticket     Fare Cabin Embarked  \n",
       "0      0         A/5 21171   7.2500   NaN        S  \n",
       "1      0          PC 17599  71.2833   C85        C  \n",
       "2      0  STON/O2. 3101282   7.9250   NaN        S  \n",
       "3      0            113803  53.1000  C123        S  \n",
       "4      0            373450   8.0500   NaN        S  "
      ]
     },
     "execution_count": 65,
     "metadata": {},
     "output_type": "execute_result"
    }
   ],
   "source": [
    "df.head()"
   ]
  },
  {
   "cell_type": "markdown",
   "metadata": {},
   "source": [
    "Легко видеть, что в поле Cabin есть пропущенные значение (NaN), а давайте посмотрим, есть ли они где - то еще:"
   ]
  },
  {
   "cell_type": "code",
   "execution_count": 66,
   "metadata": {},
   "outputs": [
    {
     "data": {
      "text/plain": [
       "PassengerId      0\n",
       "Survived         0\n",
       "Pclass           0\n",
       "Name             0\n",
       "Sex              0\n",
       "Age            177\n",
       "SibSp            0\n",
       "Parch            0\n",
       "Ticket           0\n",
       "Fare             0\n",
       "Cabin          687\n",
       "Embarked         2\n",
       "dtype: int64"
      ]
     },
     "execution_count": 66,
     "metadata": {},
     "output_type": "execute_result"
    }
   ],
   "source": [
    "df.isnull().sum()"
   ]
  },
  {
   "cell_type": "markdown",
   "metadata": {},
   "source": [
    "В итоге видим, сколько пропущенных значений в каждой колонке.\n",
    "\n",
    "Так как мы хотим сейчас найти фичи, которые будем использовать для предсказания переменной Survived, то логично было бы исключить поле Cabin, ведь там пропущенных значений очень много. Исключим также переменную Survived (ведь мы ее будем предсказывать, она уйдет в $y$). А также исключим PassengerId, Name и Ticket, так как никакой информативности они нести не будут."
   ]
  },
  {
   "cell_type": "code",
   "execution_count": 67,
   "metadata": {},
   "outputs": [
    {
     "data": {
      "text/html": [
       "<div>\n",
       "<style scoped>\n",
       "    .dataframe tbody tr th:only-of-type {\n",
       "        vertical-align: middle;\n",
       "    }\n",
       "\n",
       "    .dataframe tbody tr th {\n",
       "        vertical-align: top;\n",
       "    }\n",
       "\n",
       "    .dataframe thead th {\n",
       "        text-align: right;\n",
       "    }\n",
       "</style>\n",
       "<table border=\"1\" class=\"dataframe\">\n",
       "  <thead>\n",
       "    <tr style=\"text-align: right;\">\n",
       "      <th></th>\n",
       "      <th>Pclass</th>\n",
       "      <th>Sex</th>\n",
       "      <th>Age</th>\n",
       "      <th>SibSp</th>\n",
       "      <th>Parch</th>\n",
       "      <th>Fare</th>\n",
       "      <th>Embarked</th>\n",
       "    </tr>\n",
       "  </thead>\n",
       "  <tbody>\n",
       "    <tr>\n",
       "      <th>0</th>\n",
       "      <td>3</td>\n",
       "      <td>male</td>\n",
       "      <td>22.0</td>\n",
       "      <td>1</td>\n",
       "      <td>0</td>\n",
       "      <td>7.2500</td>\n",
       "      <td>S</td>\n",
       "    </tr>\n",
       "    <tr>\n",
       "      <th>1</th>\n",
       "      <td>1</td>\n",
       "      <td>female</td>\n",
       "      <td>38.0</td>\n",
       "      <td>1</td>\n",
       "      <td>0</td>\n",
       "      <td>71.2833</td>\n",
       "      <td>C</td>\n",
       "    </tr>\n",
       "    <tr>\n",
       "      <th>2</th>\n",
       "      <td>3</td>\n",
       "      <td>female</td>\n",
       "      <td>26.0</td>\n",
       "      <td>0</td>\n",
       "      <td>0</td>\n",
       "      <td>7.9250</td>\n",
       "      <td>S</td>\n",
       "    </tr>\n",
       "    <tr>\n",
       "      <th>3</th>\n",
       "      <td>1</td>\n",
       "      <td>female</td>\n",
       "      <td>35.0</td>\n",
       "      <td>1</td>\n",
       "      <td>0</td>\n",
       "      <td>53.1000</td>\n",
       "      <td>S</td>\n",
       "    </tr>\n",
       "    <tr>\n",
       "      <th>4</th>\n",
       "      <td>3</td>\n",
       "      <td>male</td>\n",
       "      <td>35.0</td>\n",
       "      <td>0</td>\n",
       "      <td>0</td>\n",
       "      <td>8.0500</td>\n",
       "      <td>S</td>\n",
       "    </tr>\n",
       "  </tbody>\n",
       "</table>\n",
       "</div>"
      ],
      "text/plain": [
       "   Pclass     Sex   Age  SibSp  Parch     Fare Embarked\n",
       "0       3    male  22.0      1      0   7.2500        S\n",
       "1       1  female  38.0      1      0  71.2833        C\n",
       "2       3  female  26.0      0      0   7.9250        S\n",
       "3       1  female  35.0      1      0  53.1000        S\n",
       "4       3    male  35.0      0      0   8.0500        S"
      ]
     },
     "execution_count": 67,
     "metadata": {},
     "output_type": "execute_result"
    }
   ],
   "source": [
    "X = df.drop(['PassengerId', 'Survived', 'Name', 'Ticket', 'Cabin'], axis=1)\n",
    "X.head()"
   ]
  },
  {
   "cell_type": "code",
   "execution_count": 68,
   "metadata": {},
   "outputs": [],
   "source": [
    "y = df.Survived"
   ]
  },
  {
   "cell_type": "markdown",
   "metadata": {},
   "source": [
    "Дерево решений умеет работать только с числовыми переменными. Поэтому преобразуем сразу нечисловые переменные в числовой вид, это легко кодируется нулями и единицами. В пандасе есть хорошая функция `pd.get_dummies()`, принимающая своим аргументом датафрейм. Она реализует требуемую задачу."
   ]
  },
  {
   "cell_type": "code",
   "execution_count": 69,
   "metadata": {},
   "outputs": [
    {
     "data": {
      "text/html": [
       "<div>\n",
       "<style scoped>\n",
       "    .dataframe tbody tr th:only-of-type {\n",
       "        vertical-align: middle;\n",
       "    }\n",
       "\n",
       "    .dataframe tbody tr th {\n",
       "        vertical-align: top;\n",
       "    }\n",
       "\n",
       "    .dataframe thead th {\n",
       "        text-align: right;\n",
       "    }\n",
       "</style>\n",
       "<table border=\"1\" class=\"dataframe\">\n",
       "  <thead>\n",
       "    <tr style=\"text-align: right;\">\n",
       "      <th></th>\n",
       "      <th>Pclass</th>\n",
       "      <th>Age</th>\n",
       "      <th>SibSp</th>\n",
       "      <th>Parch</th>\n",
       "      <th>Fare</th>\n",
       "      <th>Sex_female</th>\n",
       "      <th>Sex_male</th>\n",
       "      <th>Embarked_C</th>\n",
       "      <th>Embarked_Q</th>\n",
       "      <th>Embarked_S</th>\n",
       "    </tr>\n",
       "  </thead>\n",
       "  <tbody>\n",
       "    <tr>\n",
       "      <th>0</th>\n",
       "      <td>3</td>\n",
       "      <td>22.0</td>\n",
       "      <td>1</td>\n",
       "      <td>0</td>\n",
       "      <td>7.2500</td>\n",
       "      <td>0</td>\n",
       "      <td>1</td>\n",
       "      <td>0</td>\n",
       "      <td>0</td>\n",
       "      <td>1</td>\n",
       "    </tr>\n",
       "    <tr>\n",
       "      <th>1</th>\n",
       "      <td>1</td>\n",
       "      <td>38.0</td>\n",
       "      <td>1</td>\n",
       "      <td>0</td>\n",
       "      <td>71.2833</td>\n",
       "      <td>1</td>\n",
       "      <td>0</td>\n",
       "      <td>1</td>\n",
       "      <td>0</td>\n",
       "      <td>0</td>\n",
       "    </tr>\n",
       "    <tr>\n",
       "      <th>2</th>\n",
       "      <td>3</td>\n",
       "      <td>26.0</td>\n",
       "      <td>0</td>\n",
       "      <td>0</td>\n",
       "      <td>7.9250</td>\n",
       "      <td>1</td>\n",
       "      <td>0</td>\n",
       "      <td>0</td>\n",
       "      <td>0</td>\n",
       "      <td>1</td>\n",
       "    </tr>\n",
       "    <tr>\n",
       "      <th>3</th>\n",
       "      <td>1</td>\n",
       "      <td>35.0</td>\n",
       "      <td>1</td>\n",
       "      <td>0</td>\n",
       "      <td>53.1000</td>\n",
       "      <td>1</td>\n",
       "      <td>0</td>\n",
       "      <td>0</td>\n",
       "      <td>0</td>\n",
       "      <td>1</td>\n",
       "    </tr>\n",
       "    <tr>\n",
       "      <th>4</th>\n",
       "      <td>3</td>\n",
       "      <td>35.0</td>\n",
       "      <td>0</td>\n",
       "      <td>0</td>\n",
       "      <td>8.0500</td>\n",
       "      <td>0</td>\n",
       "      <td>1</td>\n",
       "      <td>0</td>\n",
       "      <td>0</td>\n",
       "      <td>1</td>\n",
       "    </tr>\n",
       "  </tbody>\n",
       "</table>\n",
       "</div>"
      ],
      "text/plain": [
       "   Pclass   Age  SibSp  Parch     Fare  Sex_female  Sex_male  Embarked_C  \\\n",
       "0       3  22.0      1      0   7.2500           0         1           0   \n",
       "1       1  38.0      1      0  71.2833           1         0           1   \n",
       "2       3  26.0      0      0   7.9250           1         0           0   \n",
       "3       1  35.0      1      0  53.1000           1         0           0   \n",
       "4       3  35.0      0      0   8.0500           0         1           0   \n",
       "\n",
       "   Embarked_Q  Embarked_S  \n",
       "0           0           1  \n",
       "1           0           0  \n",
       "2           0           1  \n",
       "3           0           1  \n",
       "4           0           1  "
      ]
     },
     "execution_count": 69,
     "metadata": {},
     "output_type": "execute_result"
    }
   ],
   "source": [
    "X = pd.get_dummies(X)\n",
    "X.head()"
   ]
  },
  {
   "cell_type": "markdown",
   "metadata": {},
   "source": [
    "Также отметим, что дерево решений не умеет работать с пропущенными значениями. Поэтому заполним их (для простоты) медианным возрастом всех людей, у которых возраст известен, конечно. \n",
    "\n",
    "`X.fillna({'name_column': 'value'})` легко справляется с этим. Достаточно в словарь по ключу передать столбец (столбцы), в которых хотим заменить пропущенные значения, и значение (значения), которыми заменим эти пропущенные значения."
   ]
  },
  {
   "cell_type": "code",
   "execution_count": 70,
   "metadata": {},
   "outputs": [],
   "source": [
    "X = X.fillna({'Age': X.Age.median()})"
   ]
  },
  {
   "cell_type": "code",
   "execution_count": 71,
   "metadata": {},
   "outputs": [
    {
     "data": {
      "text/plain": [
       "Pclass        0\n",
       "Age           0\n",
       "SibSp         0\n",
       "Parch         0\n",
       "Fare          0\n",
       "Sex_female    0\n",
       "Sex_male      0\n",
       "Embarked_C    0\n",
       "Embarked_Q    0\n",
       "Embarked_S    0\n",
       "dtype: int64"
      ]
     },
     "execution_count": 71,
     "metadata": {},
     "output_type": "execute_result"
    }
   ],
   "source": [
    "X.isnull().sum() # Как мы видим, теперь пропущенных значений нет."
   ]
  },
  {
   "cell_type": "markdown",
   "metadata": {},
   "source": [
    "## Тренировочная и тестовая выборки"
   ]
  },
  {
   "cell_type": "markdown",
   "metadata": {},
   "source": [
    "Давайте заного построим модель, но с конкретным random_state. Random_state - это рандомный сид, здесь выберем 42, как у Толи."
   ]
  },
  {
   "cell_type": "code",
   "execution_count": 72,
   "metadata": {},
   "outputs": [
    {
     "data": {
      "text/plain": [
       "DecisionTreeClassifier(criterion='entropy', random_state=42)"
      ]
     },
     "execution_count": 72,
     "metadata": {},
     "output_type": "execute_result"
    }
   ],
   "source": [
    "clf = tree.DecisionTreeClassifier(criterion='entropy', random_state=42)\n",
    "clf"
   ]
  },
  {
   "cell_type": "markdown",
   "metadata": {},
   "source": [
    "Итак, разобьем теперь наши данные на тренировочные и тестовые. Мы возьмем 33 процента случайных строк в таблице $X$ и 33 процента случайных элементов серии $y$, это и будут наши тестовые данные. На остальных 67 процентах мы будем тренироваться.\n",
    "\n",
    "`train_test_split('дата с фичами', 'переменная, которую предсказываем', 'доля тестовой выборки', 'рандомный сид')` реализует это и возвращает 4 обьекта в виде:\n",
    "```\n",
    "X_train, X_test, y_train, y_test\n",
    "```"
   ]
  },
  {
   "cell_type": "code",
   "execution_count": 73,
   "metadata": {},
   "outputs": [],
   "source": [
    "X_train, X_test, y_train, y_test = train_test_split(X, y, test_size=0.33, random_state=42)"
   ]
  },
  {
   "cell_type": "code",
   "execution_count": 74,
   "metadata": {},
   "outputs": [
    {
     "data": {
      "text/plain": [
       "(596, 10)"
      ]
     },
     "execution_count": 74,
     "metadata": {},
     "output_type": "execute_result"
    }
   ],
   "source": [
    "X_train.shape"
   ]
  },
  {
   "cell_type": "code",
   "execution_count": 75,
   "metadata": {},
   "outputs": [
    {
     "data": {
      "text/plain": [
       "(295, 10)"
      ]
     },
     "execution_count": 75,
     "metadata": {},
     "output_type": "execute_result"
    }
   ],
   "source": [
    "X_test.shape"
   ]
  },
  {
   "cell_type": "markdown",
   "metadata": {},
   "source": [
    "Обучим теперь модель на тренировочных данных:"
   ]
  },
  {
   "cell_type": "code",
   "execution_count": 76,
   "metadata": {},
   "outputs": [
    {
     "data": {
      "text/plain": [
       "DecisionTreeClassifier(criterion='entropy', random_state=42)"
      ]
     },
     "execution_count": 76,
     "metadata": {},
     "output_type": "execute_result"
    }
   ],
   "source": [
    "clf.fit(X_train, y_train)"
   ]
  },
  {
   "cell_type": "markdown",
   "metadata": {},
   "source": [
    "Метод `.score()` отлично справляется с этим."
   ]
  },
  {
   "cell_type": "code",
   "execution_count": 77,
   "metadata": {},
   "outputs": [
    {
     "data": {
      "text/plain": [
       "0.9798657718120806"
      ]
     },
     "execution_count": 77,
     "metadata": {},
     "output_type": "execute_result"
    }
   ],
   "source": [
    "clf.score(X_train, y_train)"
   ]
  },
  {
   "cell_type": "markdown",
   "metadata": {},
   "source": [
    "Естественный вопрос, а почему мы обучали модель (дерево) на данных X_train, y_train, а в итоге эта модель предсказывает y_train по данным X_train не с вероятностью 1?\n",
    "\n",
    "Это происходит, так как мы выкинули некоторые переменные из данных, поэтому у нас могут в данных X_train полностью совпасть строки, но значения y_train отличаться. А значит, мы не сможем отнести эти оба наблюдения к какому - то классу. Т.е нарушается однозначность. Отсюда также следует, что где - то энтропия не будет равна нулю в конце ветки.\n",
    "\n",
    "Итак, теперь посмотрим, как хорошо наша модель предсказывает, выжил ли пассажир или нет, на тестовых данных."
   ]
  },
  {
   "cell_type": "code",
   "execution_count": 78,
   "metadata": {},
   "outputs": [
    {
     "data": {
      "text/plain": [
       "0.7762711864406779"
      ]
     },
     "execution_count": 78,
     "metadata": {},
     "output_type": "execute_result"
    }
   ],
   "source": [
    "clf.score(X_test, y_test)"
   ]
  },
  {
   "cell_type": "markdown",
   "metadata": {},
   "source": [
    "Разница в скорах большая, что - то не так, скорее всего, модель переобучена. Т.е мы просто очень сильно подогнали ее под тренировочную выборку. Это ведь же не значит, что на тестовой она поведет себя так же хорошо."
   ]
  },
  {
   "cell_type": "markdown",
   "metadata": {},
   "source": [
    "## Глубина дерева"
   ]
  },
  {
   "cell_type": "markdown",
   "metadata": {},
   "source": [
    "`tree.DecisionTreeClassifier()` принимает еще один аргумент - это глубина дерева. Зададим ее сейчас равной 5 и посмотрим, что происходит."
   ]
  },
  {
   "cell_type": "code",
   "execution_count": 79,
   "metadata": {},
   "outputs": [],
   "source": [
    "clf = tree.DecisionTreeClassifier(criterion='entropy', max_depth=5, random_state=42)"
   ]
  },
  {
   "cell_type": "markdown",
   "metadata": {},
   "source": [
    "Обучим модель снова на тренировочной выборке."
   ]
  },
  {
   "cell_type": "code",
   "execution_count": 80,
   "metadata": {},
   "outputs": [
    {
     "data": {
      "text/plain": [
       "DecisionTreeClassifier(criterion='entropy', max_depth=5, random_state=42)"
      ]
     },
     "execution_count": 80,
     "metadata": {},
     "output_type": "execute_result"
    }
   ],
   "source": [
    "clf.fit(X_train, y_train)"
   ]
  },
  {
   "cell_type": "code",
   "execution_count": 81,
   "metadata": {},
   "outputs": [
    {
     "data": {
      "text/plain": [
       "0.8406040268456376"
      ]
     },
     "execution_count": 81,
     "metadata": {},
     "output_type": "execute_result"
    }
   ],
   "source": [
    "clf.score(X_train, y_train)"
   ]
  },
  {
   "cell_type": "markdown",
   "metadata": {},
   "source": [
    "Результат стал хуже на тренировочной выборке, так будет всегда при уменьшении глубины дерева, ведь это монотонная функция:)"
   ]
  },
  {
   "cell_type": "code",
   "execution_count": 82,
   "metadata": {},
   "outputs": [
    {
     "data": {
      "text/plain": [
       "0.8067796610169492"
      ]
     },
     "execution_count": 82,
     "metadata": {},
     "output_type": "execute_result"
    }
   ],
   "source": [
    "clf.score(X_test, y_test)"
   ]
  },
  {
   "cell_type": "markdown",
   "metadata": {},
   "source": [
    "А на тестовой выборке у нас совпадений аж 80 процентов, это больше, чем было. Хотя глубина меньше. Это и значит, что наша модель была переучена."
   ]
  },
  {
   "cell_type": "markdown",
   "metadata": {},
   "source": [
    "Выясним, как ведут себя значения скоров для трейна и теста при разной глубине дерева:\n",
    "\n",
    "(здесь результат - суть отношение правильно угаданных значений survived к неправильным)"
   ]
  },
  {
   "cell_type": "code",
   "execution_count": 83,
   "metadata": {},
   "outputs": [
    {
     "name": "stderr",
     "output_type": "stream",
     "text": [
      "C:\\Users\\csc20\\AppData\\Local\\Temp\\ipykernel_10124\\2486972115.py:10: FutureWarning: The frame.append method is deprecated and will be removed from pandas in a future version. Use pandas.concat instead.\n",
      "  scores = scores.append(temp) # Заносим в датафрейм глубину дерева, а также train_score и test_score\n",
      "C:\\Users\\csc20\\AppData\\Local\\Temp\\ipykernel_10124\\2486972115.py:10: FutureWarning: The frame.append method is deprecated and will be removed from pandas in a future version. Use pandas.concat instead.\n",
      "  scores = scores.append(temp) # Заносим в датафрейм глубину дерева, а также train_score и test_score\n",
      "C:\\Users\\csc20\\AppData\\Local\\Temp\\ipykernel_10124\\2486972115.py:10: FutureWarning: The frame.append method is deprecated and will be removed from pandas in a future version. Use pandas.concat instead.\n",
      "  scores = scores.append(temp) # Заносим в датафрейм глубину дерева, а также train_score и test_score\n",
      "C:\\Users\\csc20\\AppData\\Local\\Temp\\ipykernel_10124\\2486972115.py:10: FutureWarning: The frame.append method is deprecated and will be removed from pandas in a future version. Use pandas.concat instead.\n",
      "  scores = scores.append(temp) # Заносим в датафрейм глубину дерева, а также train_score и test_score\n",
      "C:\\Users\\csc20\\AppData\\Local\\Temp\\ipykernel_10124\\2486972115.py:10: FutureWarning: The frame.append method is deprecated and will be removed from pandas in a future version. Use pandas.concat instead.\n",
      "  scores = scores.append(temp) # Заносим в датафрейм глубину дерева, а также train_score и test_score\n",
      "C:\\Users\\csc20\\AppData\\Local\\Temp\\ipykernel_10124\\2486972115.py:10: FutureWarning: The frame.append method is deprecated and will be removed from pandas in a future version. Use pandas.concat instead.\n",
      "  scores = scores.append(temp) # Заносим в датафрейм глубину дерева, а также train_score и test_score\n",
      "C:\\Users\\csc20\\AppData\\Local\\Temp\\ipykernel_10124\\2486972115.py:10: FutureWarning: The frame.append method is deprecated and will be removed from pandas in a future version. Use pandas.concat instead.\n",
      "  scores = scores.append(temp) # Заносим в датафрейм глубину дерева, а также train_score и test_score\n",
      "C:\\Users\\csc20\\AppData\\Local\\Temp\\ipykernel_10124\\2486972115.py:10: FutureWarning: The frame.append method is deprecated and will be removed from pandas in a future version. Use pandas.concat instead.\n",
      "  scores = scores.append(temp) # Заносим в датафрейм глубину дерева, а также train_score и test_score\n",
      "C:\\Users\\csc20\\AppData\\Local\\Temp\\ipykernel_10124\\2486972115.py:10: FutureWarning: The frame.append method is deprecated and will be removed from pandas in a future version. Use pandas.concat instead.\n",
      "  scores = scores.append(temp) # Заносим в датафрейм глубину дерева, а также train_score и test_score\n",
      "C:\\Users\\csc20\\AppData\\Local\\Temp\\ipykernel_10124\\2486972115.py:10: FutureWarning: The frame.append method is deprecated and will be removed from pandas in a future version. Use pandas.concat instead.\n",
      "  scores = scores.append(temp) # Заносим в датафрейм глубину дерева, а также train_score и test_score\n",
      "C:\\Users\\csc20\\AppData\\Local\\Temp\\ipykernel_10124\\2486972115.py:10: FutureWarning: The frame.append method is deprecated and will be removed from pandas in a future version. Use pandas.concat instead.\n",
      "  scores = scores.append(temp) # Заносим в датафрейм глубину дерева, а также train_score и test_score\n",
      "C:\\Users\\csc20\\AppData\\Local\\Temp\\ipykernel_10124\\2486972115.py:10: FutureWarning: The frame.append method is deprecated and will be removed from pandas in a future version. Use pandas.concat instead.\n",
      "  scores = scores.append(temp) # Заносим в датафрейм глубину дерева, а также train_score и test_score\n",
      "C:\\Users\\csc20\\AppData\\Local\\Temp\\ipykernel_10124\\2486972115.py:10: FutureWarning: The frame.append method is deprecated and will be removed from pandas in a future version. Use pandas.concat instead.\n",
      "  scores = scores.append(temp) # Заносим в датафрейм глубину дерева, а также train_score и test_score\n",
      "C:\\Users\\csc20\\AppData\\Local\\Temp\\ipykernel_10124\\2486972115.py:10: FutureWarning: The frame.append method is deprecated and will be removed from pandas in a future version. Use pandas.concat instead.\n",
      "  scores = scores.append(temp) # Заносим в датафрейм глубину дерева, а также train_score и test_score\n",
      "C:\\Users\\csc20\\AppData\\Local\\Temp\\ipykernel_10124\\2486972115.py:10: FutureWarning: The frame.append method is deprecated and will be removed from pandas in a future version. Use pandas.concat instead.\n",
      "  scores = scores.append(temp) # Заносим в датафрейм глубину дерева, а также train_score и test_score\n",
      "C:\\Users\\csc20\\AppData\\Local\\Temp\\ipykernel_10124\\2486972115.py:10: FutureWarning: The frame.append method is deprecated and will be removed from pandas in a future version. Use pandas.concat instead.\n",
      "  scores = scores.append(temp) # Заносим в датафрейм глубину дерева, а также train_score и test_score\n",
      "C:\\Users\\csc20\\AppData\\Local\\Temp\\ipykernel_10124\\2486972115.py:10: FutureWarning: The frame.append method is deprecated and will be removed from pandas in a future version. Use pandas.concat instead.\n",
      "  scores = scores.append(temp) # Заносим в датафрейм глубину дерева, а также train_score и test_score\n",
      "C:\\Users\\csc20\\AppData\\Local\\Temp\\ipykernel_10124\\2486972115.py:10: FutureWarning: The frame.append method is deprecated and will be removed from pandas in a future version. Use pandas.concat instead.\n",
      "  scores = scores.append(temp) # Заносим в датафрейм глубину дерева, а также train_score и test_score\n",
      "C:\\Users\\csc20\\AppData\\Local\\Temp\\ipykernel_10124\\2486972115.py:10: FutureWarning: The frame.append method is deprecated and will be removed from pandas in a future version. Use pandas.concat instead.\n",
      "  scores = scores.append(temp) # Заносим в датафрейм глубину дерева, а также train_score и test_score\n",
      "C:\\Users\\csc20\\AppData\\Local\\Temp\\ipykernel_10124\\2486972115.py:10: FutureWarning: The frame.append method is deprecated and will be removed from pandas in a future version. Use pandas.concat instead.\n",
      "  scores = scores.append(temp) # Заносим в датафрейм глубину дерева, а также train_score и test_score\n",
      "C:\\Users\\csc20\\AppData\\Local\\Temp\\ipykernel_10124\\2486972115.py:10: FutureWarning: The frame.append method is deprecated and will be removed from pandas in a future version. Use pandas.concat instead.\n",
      "  scores = scores.append(temp) # Заносим в датафрейм глубину дерева, а также train_score и test_score\n",
      "C:\\Users\\csc20\\AppData\\Local\\Temp\\ipykernel_10124\\2486972115.py:10: FutureWarning: The frame.append method is deprecated and will be removed from pandas in a future version. Use pandas.concat instead.\n",
      "  scores = scores.append(temp) # Заносим в датафрейм глубину дерева, а также train_score и test_score\n",
      "C:\\Users\\csc20\\AppData\\Local\\Temp\\ipykernel_10124\\2486972115.py:10: FutureWarning: The frame.append method is deprecated and will be removed from pandas in a future version. Use pandas.concat instead.\n",
      "  scores = scores.append(temp) # Заносим в датафрейм глубину дерева, а также train_score и test_score\n",
      "C:\\Users\\csc20\\AppData\\Local\\Temp\\ipykernel_10124\\2486972115.py:10: FutureWarning: The frame.append method is deprecated and will be removed from pandas in a future version. Use pandas.concat instead.\n",
      "  scores = scores.append(temp) # Заносим в датафрейм глубину дерева, а также train_score и test_score\n",
      "C:\\Users\\csc20\\AppData\\Local\\Temp\\ipykernel_10124\\2486972115.py:10: FutureWarning: The frame.append method is deprecated and will be removed from pandas in a future version. Use pandas.concat instead.\n",
      "  scores = scores.append(temp) # Заносим в датафрейм глубину дерева, а также train_score и test_score\n",
      "C:\\Users\\csc20\\AppData\\Local\\Temp\\ipykernel_10124\\2486972115.py:10: FutureWarning: The frame.append method is deprecated and will be removed from pandas in a future version. Use pandas.concat instead.\n",
      "  scores = scores.append(temp) # Заносим в датафрейм глубину дерева, а также train_score и test_score\n",
      "C:\\Users\\csc20\\AppData\\Local\\Temp\\ipykernel_10124\\2486972115.py:10: FutureWarning: The frame.append method is deprecated and will be removed from pandas in a future version. Use pandas.concat instead.\n",
      "  scores = scores.append(temp) # Заносим в датафрейм глубину дерева, а также train_score и test_score\n",
      "C:\\Users\\csc20\\AppData\\Local\\Temp\\ipykernel_10124\\2486972115.py:10: FutureWarning: The frame.append method is deprecated and will be removed from pandas in a future version. Use pandas.concat instead.\n",
      "  scores = scores.append(temp) # Заносим в датафрейм глубину дерева, а также train_score и test_score\n",
      "C:\\Users\\csc20\\AppData\\Local\\Temp\\ipykernel_10124\\2486972115.py:10: FutureWarning: The frame.append method is deprecated and will be removed from pandas in a future version. Use pandas.concat instead.\n",
      "  scores = scores.append(temp) # Заносим в датафрейм глубину дерева, а также train_score и test_score\n",
      "C:\\Users\\csc20\\AppData\\Local\\Temp\\ipykernel_10124\\2486972115.py:10: FutureWarning: The frame.append method is deprecated and will be removed from pandas in a future version. Use pandas.concat instead.\n",
      "  scores = scores.append(temp) # Заносим в датафрейм глубину дерева, а также train_score и test_score\n",
      "C:\\Users\\csc20\\AppData\\Local\\Temp\\ipykernel_10124\\2486972115.py:10: FutureWarning: The frame.append method is deprecated and will be removed from pandas in a future version. Use pandas.concat instead.\n",
      "  scores = scores.append(temp) # Заносим в датафрейм глубину дерева, а также train_score и test_score\n",
      "C:\\Users\\csc20\\AppData\\Local\\Temp\\ipykernel_10124\\2486972115.py:10: FutureWarning: The frame.append method is deprecated and will be removed from pandas in a future version. Use pandas.concat instead.\n",
      "  scores = scores.append(temp) # Заносим в датафрейм глубину дерева, а также train_score и test_score\n"
     ]
    },
    {
     "name": "stderr",
     "output_type": "stream",
     "text": [
      "C:\\Users\\csc20\\AppData\\Local\\Temp\\ipykernel_10124\\2486972115.py:10: FutureWarning: The frame.append method is deprecated and will be removed from pandas in a future version. Use pandas.concat instead.\n",
      "  scores = scores.append(temp) # Заносим в датафрейм глубину дерева, а также train_score и test_score\n",
      "C:\\Users\\csc20\\AppData\\Local\\Temp\\ipykernel_10124\\2486972115.py:10: FutureWarning: The frame.append method is deprecated and will be removed from pandas in a future version. Use pandas.concat instead.\n",
      "  scores = scores.append(temp) # Заносим в датафрейм глубину дерева, а также train_score и test_score\n",
      "C:\\Users\\csc20\\AppData\\Local\\Temp\\ipykernel_10124\\2486972115.py:10: FutureWarning: The frame.append method is deprecated and will be removed from pandas in a future version. Use pandas.concat instead.\n",
      "  scores = scores.append(temp) # Заносим в датафрейм глубину дерева, а также train_score и test_score\n",
      "C:\\Users\\csc20\\AppData\\Local\\Temp\\ipykernel_10124\\2486972115.py:10: FutureWarning: The frame.append method is deprecated and will be removed from pandas in a future version. Use pandas.concat instead.\n",
      "  scores = scores.append(temp) # Заносим в датафрейм глубину дерева, а также train_score и test_score\n",
      "C:\\Users\\csc20\\AppData\\Local\\Temp\\ipykernel_10124\\2486972115.py:10: FutureWarning: The frame.append method is deprecated and will be removed from pandas in a future version. Use pandas.concat instead.\n",
      "  scores = scores.append(temp) # Заносим в датафрейм глубину дерева, а также train_score и test_score\n",
      "C:\\Users\\csc20\\AppData\\Local\\Temp\\ipykernel_10124\\2486972115.py:10: FutureWarning: The frame.append method is deprecated and will be removed from pandas in a future version. Use pandas.concat instead.\n",
      "  scores = scores.append(temp) # Заносим в датафрейм глубину дерева, а также train_score и test_score\n",
      "C:\\Users\\csc20\\AppData\\Local\\Temp\\ipykernel_10124\\2486972115.py:10: FutureWarning: The frame.append method is deprecated and will be removed from pandas in a future version. Use pandas.concat instead.\n",
      "  scores = scores.append(temp) # Заносим в датафрейм глубину дерева, а также train_score и test_score\n",
      "C:\\Users\\csc20\\AppData\\Local\\Temp\\ipykernel_10124\\2486972115.py:10: FutureWarning: The frame.append method is deprecated and will be removed from pandas in a future version. Use pandas.concat instead.\n",
      "  scores = scores.append(temp) # Заносим в датафрейм глубину дерева, а также train_score и test_score\n",
      "C:\\Users\\csc20\\AppData\\Local\\Temp\\ipykernel_10124\\2486972115.py:10: FutureWarning: The frame.append method is deprecated and will be removed from pandas in a future version. Use pandas.concat instead.\n",
      "  scores = scores.append(temp) # Заносим в датафрейм глубину дерева, а также train_score и test_score\n",
      "C:\\Users\\csc20\\AppData\\Local\\Temp\\ipykernel_10124\\2486972115.py:10: FutureWarning: The frame.append method is deprecated and will be removed from pandas in a future version. Use pandas.concat instead.\n",
      "  scores = scores.append(temp) # Заносим в датафрейм глубину дерева, а также train_score и test_score\n",
      "C:\\Users\\csc20\\AppData\\Local\\Temp\\ipykernel_10124\\2486972115.py:10: FutureWarning: The frame.append method is deprecated and will be removed from pandas in a future version. Use pandas.concat instead.\n",
      "  scores = scores.append(temp) # Заносим в датафрейм глубину дерева, а также train_score и test_score\n",
      "C:\\Users\\csc20\\AppData\\Local\\Temp\\ipykernel_10124\\2486972115.py:10: FutureWarning: The frame.append method is deprecated and will be removed from pandas in a future version. Use pandas.concat instead.\n",
      "  scores = scores.append(temp) # Заносим в датафрейм глубину дерева, а также train_score и test_score\n",
      "C:\\Users\\csc20\\AppData\\Local\\Temp\\ipykernel_10124\\2486972115.py:10: FutureWarning: The frame.append method is deprecated and will be removed from pandas in a future version. Use pandas.concat instead.\n",
      "  scores = scores.append(temp) # Заносим в датафрейм глубину дерева, а также train_score и test_score\n",
      "C:\\Users\\csc20\\AppData\\Local\\Temp\\ipykernel_10124\\2486972115.py:10: FutureWarning: The frame.append method is deprecated and will be removed from pandas in a future version. Use pandas.concat instead.\n",
      "  scores = scores.append(temp) # Заносим в датафрейм глубину дерева, а также train_score и test_score\n",
      "C:\\Users\\csc20\\AppData\\Local\\Temp\\ipykernel_10124\\2486972115.py:10: FutureWarning: The frame.append method is deprecated and will be removed from pandas in a future version. Use pandas.concat instead.\n",
      "  scores = scores.append(temp) # Заносим в датафрейм глубину дерева, а также train_score и test_score\n",
      "C:\\Users\\csc20\\AppData\\Local\\Temp\\ipykernel_10124\\2486972115.py:10: FutureWarning: The frame.append method is deprecated and will be removed from pandas in a future version. Use pandas.concat instead.\n",
      "  scores = scores.append(temp) # Заносим в датафрейм глубину дерева, а также train_score и test_score\n",
      "C:\\Users\\csc20\\AppData\\Local\\Temp\\ipykernel_10124\\2486972115.py:10: FutureWarning: The frame.append method is deprecated and will be removed from pandas in a future version. Use pandas.concat instead.\n",
      "  scores = scores.append(temp) # Заносим в датафрейм глубину дерева, а также train_score и test_score\n",
      "C:\\Users\\csc20\\AppData\\Local\\Temp\\ipykernel_10124\\2486972115.py:10: FutureWarning: The frame.append method is deprecated and will be removed from pandas in a future version. Use pandas.concat instead.\n",
      "  scores = scores.append(temp) # Заносим в датафрейм глубину дерева, а также train_score и test_score\n",
      "C:\\Users\\csc20\\AppData\\Local\\Temp\\ipykernel_10124\\2486972115.py:10: FutureWarning: The frame.append method is deprecated and will be removed from pandas in a future version. Use pandas.concat instead.\n",
      "  scores = scores.append(temp) # Заносим в датафрейм глубину дерева, а также train_score и test_score\n",
      "C:\\Users\\csc20\\AppData\\Local\\Temp\\ipykernel_10124\\2486972115.py:10: FutureWarning: The frame.append method is deprecated and will be removed from pandas in a future version. Use pandas.concat instead.\n",
      "  scores = scores.append(temp) # Заносим в датафрейм глубину дерева, а также train_score и test_score\n",
      "C:\\Users\\csc20\\AppData\\Local\\Temp\\ipykernel_10124\\2486972115.py:10: FutureWarning: The frame.append method is deprecated and will be removed from pandas in a future version. Use pandas.concat instead.\n",
      "  scores = scores.append(temp) # Заносим в датафрейм глубину дерева, а также train_score и test_score\n",
      "C:\\Users\\csc20\\AppData\\Local\\Temp\\ipykernel_10124\\2486972115.py:10: FutureWarning: The frame.append method is deprecated and will be removed from pandas in a future version. Use pandas.concat instead.\n",
      "  scores = scores.append(temp) # Заносим в датафрейм глубину дерева, а также train_score и test_score\n",
      "C:\\Users\\csc20\\AppData\\Local\\Temp\\ipykernel_10124\\2486972115.py:10: FutureWarning: The frame.append method is deprecated and will be removed from pandas in a future version. Use pandas.concat instead.\n",
      "  scores = scores.append(temp) # Заносим в датафрейм глубину дерева, а также train_score и test_score\n",
      "C:\\Users\\csc20\\AppData\\Local\\Temp\\ipykernel_10124\\2486972115.py:10: FutureWarning: The frame.append method is deprecated and will be removed from pandas in a future version. Use pandas.concat instead.\n",
      "  scores = scores.append(temp) # Заносим в датафрейм глубину дерева, а также train_score и test_score\n",
      "C:\\Users\\csc20\\AppData\\Local\\Temp\\ipykernel_10124\\2486972115.py:10: FutureWarning: The frame.append method is deprecated and will be removed from pandas in a future version. Use pandas.concat instead.\n",
      "  scores = scores.append(temp) # Заносим в датафрейм глубину дерева, а также train_score и test_score\n",
      "C:\\Users\\csc20\\AppData\\Local\\Temp\\ipykernel_10124\\2486972115.py:10: FutureWarning: The frame.append method is deprecated and will be removed from pandas in a future version. Use pandas.concat instead.\n",
      "  scores = scores.append(temp) # Заносим в датафрейм глубину дерева, а также train_score и test_score\n",
      "C:\\Users\\csc20\\AppData\\Local\\Temp\\ipykernel_10124\\2486972115.py:10: FutureWarning: The frame.append method is deprecated and will be removed from pandas in a future version. Use pandas.concat instead.\n",
      "  scores = scores.append(temp) # Заносим в датафрейм глубину дерева, а также train_score и test_score\n",
      "C:\\Users\\csc20\\AppData\\Local\\Temp\\ipykernel_10124\\2486972115.py:10: FutureWarning: The frame.append method is deprecated and will be removed from pandas in a future version. Use pandas.concat instead.\n",
      "  scores = scores.append(temp) # Заносим в датафрейм глубину дерева, а также train_score и test_score\n",
      "C:\\Users\\csc20\\AppData\\Local\\Temp\\ipykernel_10124\\2486972115.py:10: FutureWarning: The frame.append method is deprecated and will be removed from pandas in a future version. Use pandas.concat instead.\n",
      "  scores = scores.append(temp) # Заносим в датафрейм глубину дерева, а также train_score и test_score\n"
     ]
    },
    {
     "name": "stderr",
     "output_type": "stream",
     "text": [
      "C:\\Users\\csc20\\AppData\\Local\\Temp\\ipykernel_10124\\2486972115.py:10: FutureWarning: The frame.append method is deprecated and will be removed from pandas in a future version. Use pandas.concat instead.\n",
      "  scores = scores.append(temp) # Заносим в датафрейм глубину дерева, а также train_score и test_score\n",
      "C:\\Users\\csc20\\AppData\\Local\\Temp\\ipykernel_10124\\2486972115.py:10: FutureWarning: The frame.append method is deprecated and will be removed from pandas in a future version. Use pandas.concat instead.\n",
      "  scores = scores.append(temp) # Заносим в датафрейм глубину дерева, а также train_score и test_score\n",
      "C:\\Users\\csc20\\AppData\\Local\\Temp\\ipykernel_10124\\2486972115.py:10: FutureWarning: The frame.append method is deprecated and will be removed from pandas in a future version. Use pandas.concat instead.\n",
      "  scores = scores.append(temp) # Заносим в датафрейм глубину дерева, а также train_score и test_score\n",
      "C:\\Users\\csc20\\AppData\\Local\\Temp\\ipykernel_10124\\2486972115.py:10: FutureWarning: The frame.append method is deprecated and will be removed from pandas in a future version. Use pandas.concat instead.\n",
      "  scores = scores.append(temp) # Заносим в датафрейм глубину дерева, а также train_score и test_score\n",
      "C:\\Users\\csc20\\AppData\\Local\\Temp\\ipykernel_10124\\2486972115.py:10: FutureWarning: The frame.append method is deprecated and will be removed from pandas in a future version. Use pandas.concat instead.\n",
      "  scores = scores.append(temp) # Заносим в датафрейм глубину дерева, а также train_score и test_score\n",
      "C:\\Users\\csc20\\AppData\\Local\\Temp\\ipykernel_10124\\2486972115.py:10: FutureWarning: The frame.append method is deprecated and will be removed from pandas in a future version. Use pandas.concat instead.\n",
      "  scores = scores.append(temp) # Заносим в датафрейм глубину дерева, а также train_score и test_score\n",
      "C:\\Users\\csc20\\AppData\\Local\\Temp\\ipykernel_10124\\2486972115.py:10: FutureWarning: The frame.append method is deprecated and will be removed from pandas in a future version. Use pandas.concat instead.\n",
      "  scores = scores.append(temp) # Заносим в датафрейм глубину дерева, а также train_score и test_score\n",
      "C:\\Users\\csc20\\AppData\\Local\\Temp\\ipykernel_10124\\2486972115.py:10: FutureWarning: The frame.append method is deprecated and will be removed from pandas in a future version. Use pandas.concat instead.\n",
      "  scores = scores.append(temp) # Заносим в датафрейм глубину дерева, а также train_score и test_score\n",
      "C:\\Users\\csc20\\AppData\\Local\\Temp\\ipykernel_10124\\2486972115.py:10: FutureWarning: The frame.append method is deprecated and will be removed from pandas in a future version. Use pandas.concat instead.\n",
      "  scores = scores.append(temp) # Заносим в датафрейм глубину дерева, а также train_score и test_score\n",
      "C:\\Users\\csc20\\AppData\\Local\\Temp\\ipykernel_10124\\2486972115.py:10: FutureWarning: The frame.append method is deprecated and will be removed from pandas in a future version. Use pandas.concat instead.\n",
      "  scores = scores.append(temp) # Заносим в датафрейм глубину дерева, а также train_score и test_score\n",
      "C:\\Users\\csc20\\AppData\\Local\\Temp\\ipykernel_10124\\2486972115.py:10: FutureWarning: The frame.append method is deprecated and will be removed from pandas in a future version. Use pandas.concat instead.\n",
      "  scores = scores.append(temp) # Заносим в датафрейм глубину дерева, а также train_score и test_score\n",
      "C:\\Users\\csc20\\AppData\\Local\\Temp\\ipykernel_10124\\2486972115.py:10: FutureWarning: The frame.append method is deprecated and will be removed from pandas in a future version. Use pandas.concat instead.\n",
      "  scores = scores.append(temp) # Заносим в датафрейм глубину дерева, а также train_score и test_score\n",
      "C:\\Users\\csc20\\AppData\\Local\\Temp\\ipykernel_10124\\2486972115.py:10: FutureWarning: The frame.append method is deprecated and will be removed from pandas in a future version. Use pandas.concat instead.\n",
      "  scores = scores.append(temp) # Заносим в датафрейм глубину дерева, а также train_score и test_score\n",
      "C:\\Users\\csc20\\AppData\\Local\\Temp\\ipykernel_10124\\2486972115.py:10: FutureWarning: The frame.append method is deprecated and will be removed from pandas in a future version. Use pandas.concat instead.\n",
      "  scores = scores.append(temp) # Заносим в датафрейм глубину дерева, а также train_score и test_score\n",
      "C:\\Users\\csc20\\AppData\\Local\\Temp\\ipykernel_10124\\2486972115.py:10: FutureWarning: The frame.append method is deprecated and will be removed from pandas in a future version. Use pandas.concat instead.\n",
      "  scores = scores.append(temp) # Заносим в датафрейм глубину дерева, а также train_score и test_score\n",
      "C:\\Users\\csc20\\AppData\\Local\\Temp\\ipykernel_10124\\2486972115.py:10: FutureWarning: The frame.append method is deprecated and will be removed from pandas in a future version. Use pandas.concat instead.\n",
      "  scores = scores.append(temp) # Заносим в датафрейм глубину дерева, а также train_score и test_score\n",
      "C:\\Users\\csc20\\AppData\\Local\\Temp\\ipykernel_10124\\2486972115.py:10: FutureWarning: The frame.append method is deprecated and will be removed from pandas in a future version. Use pandas.concat instead.\n",
      "  scores = scores.append(temp) # Заносим в датафрейм глубину дерева, а также train_score и test_score\n",
      "C:\\Users\\csc20\\AppData\\Local\\Temp\\ipykernel_10124\\2486972115.py:10: FutureWarning: The frame.append method is deprecated and will be removed from pandas in a future version. Use pandas.concat instead.\n",
      "  scores = scores.append(temp) # Заносим в датафрейм глубину дерева, а также train_score и test_score\n",
      "C:\\Users\\csc20\\AppData\\Local\\Temp\\ipykernel_10124\\2486972115.py:10: FutureWarning: The frame.append method is deprecated and will be removed from pandas in a future version. Use pandas.concat instead.\n",
      "  scores = scores.append(temp) # Заносим в датафрейм глубину дерева, а также train_score и test_score\n",
      "C:\\Users\\csc20\\AppData\\Local\\Temp\\ipykernel_10124\\2486972115.py:10: FutureWarning: The frame.append method is deprecated and will be removed from pandas in a future version. Use pandas.concat instead.\n",
      "  scores = scores.append(temp) # Заносим в датафрейм глубину дерева, а также train_score и test_score\n",
      "C:\\Users\\csc20\\AppData\\Local\\Temp\\ipykernel_10124\\2486972115.py:10: FutureWarning: The frame.append method is deprecated and will be removed from pandas in a future version. Use pandas.concat instead.\n",
      "  scores = scores.append(temp) # Заносим в датафрейм глубину дерева, а также train_score и test_score\n",
      "C:\\Users\\csc20\\AppData\\Local\\Temp\\ipykernel_10124\\2486972115.py:10: FutureWarning: The frame.append method is deprecated and will be removed from pandas in a future version. Use pandas.concat instead.\n",
      "  scores = scores.append(temp) # Заносим в датафрейм глубину дерева, а также train_score и test_score\n",
      "C:\\Users\\csc20\\AppData\\Local\\Temp\\ipykernel_10124\\2486972115.py:10: FutureWarning: The frame.append method is deprecated and will be removed from pandas in a future version. Use pandas.concat instead.\n",
      "  scores = scores.append(temp) # Заносим в датафрейм глубину дерева, а также train_score и test_score\n",
      "C:\\Users\\csc20\\AppData\\Local\\Temp\\ipykernel_10124\\2486972115.py:10: FutureWarning: The frame.append method is deprecated and will be removed from pandas in a future version. Use pandas.concat instead.\n",
      "  scores = scores.append(temp) # Заносим в датафрейм глубину дерева, а также train_score и test_score\n",
      "C:\\Users\\csc20\\AppData\\Local\\Temp\\ipykernel_10124\\2486972115.py:10: FutureWarning: The frame.append method is deprecated and will be removed from pandas in a future version. Use pandas.concat instead.\n",
      "  scores = scores.append(temp) # Заносим в датафрейм глубину дерева, а также train_score и test_score\n",
      "C:\\Users\\csc20\\AppData\\Local\\Temp\\ipykernel_10124\\2486972115.py:10: FutureWarning: The frame.append method is deprecated and will be removed from pandas in a future version. Use pandas.concat instead.\n",
      "  scores = scores.append(temp) # Заносим в датафрейм глубину дерева, а также train_score и test_score\n",
      "C:\\Users\\csc20\\AppData\\Local\\Temp\\ipykernel_10124\\2486972115.py:10: FutureWarning: The frame.append method is deprecated and will be removed from pandas in a future version. Use pandas.concat instead.\n",
      "  scores = scores.append(temp) # Заносим в датафрейм глубину дерева, а также train_score и test_score\n",
      "C:\\Users\\csc20\\AppData\\Local\\Temp\\ipykernel_10124\\2486972115.py:10: FutureWarning: The frame.append method is deprecated and will be removed from pandas in a future version. Use pandas.concat instead.\n",
      "  scores = scores.append(temp) # Заносим в датафрейм глубину дерева, а также train_score и test_score\n",
      "C:\\Users\\csc20\\AppData\\Local\\Temp\\ipykernel_10124\\2486972115.py:10: FutureWarning: The frame.append method is deprecated and will be removed from pandas in a future version. Use pandas.concat instead.\n",
      "  scores = scores.append(temp) # Заносим в датафрейм глубину дерева, а также train_score и test_score\n",
      "C:\\Users\\csc20\\AppData\\Local\\Temp\\ipykernel_10124\\2486972115.py:10: FutureWarning: The frame.append method is deprecated and will be removed from pandas in a future version. Use pandas.concat instead.\n",
      "  scores = scores.append(temp) # Заносим в датафрейм глубину дерева, а также train_score и test_score\n",
      "C:\\Users\\csc20\\AppData\\Local\\Temp\\ipykernel_10124\\2486972115.py:10: FutureWarning: The frame.append method is deprecated and will be removed from pandas in a future version. Use pandas.concat instead.\n",
      "  scores = scores.append(temp) # Заносим в датафрейм глубину дерева, а также train_score и test_score\n",
      "C:\\Users\\csc20\\AppData\\Local\\Temp\\ipykernel_10124\\2486972115.py:10: FutureWarning: The frame.append method is deprecated and will be removed from pandas in a future version. Use pandas.concat instead.\n",
      "  scores = scores.append(temp) # Заносим в датафрейм глубину дерева, а также train_score и test_score\n",
      "C:\\Users\\csc20\\AppData\\Local\\Temp\\ipykernel_10124\\2486972115.py:10: FutureWarning: The frame.append method is deprecated and will be removed from pandas in a future version. Use pandas.concat instead.\n",
      "  scores = scores.append(temp) # Заносим в датафрейм глубину дерева, а также train_score и test_score\n"
     ]
    },
    {
     "name": "stderr",
     "output_type": "stream",
     "text": [
      "C:\\Users\\csc20\\AppData\\Local\\Temp\\ipykernel_10124\\2486972115.py:10: FutureWarning: The frame.append method is deprecated and will be removed from pandas in a future version. Use pandas.concat instead.\n",
      "  scores = scores.append(temp) # Заносим в датафрейм глубину дерева, а также train_score и test_score\n",
      "C:\\Users\\csc20\\AppData\\Local\\Temp\\ipykernel_10124\\2486972115.py:10: FutureWarning: The frame.append method is deprecated and will be removed from pandas in a future version. Use pandas.concat instead.\n",
      "  scores = scores.append(temp) # Заносим в датафрейм глубину дерева, а также train_score и test_score\n",
      "C:\\Users\\csc20\\AppData\\Local\\Temp\\ipykernel_10124\\2486972115.py:10: FutureWarning: The frame.append method is deprecated and will be removed from pandas in a future version. Use pandas.concat instead.\n",
      "  scores = scores.append(temp) # Заносим в датафрейм глубину дерева, а также train_score и test_score\n",
      "C:\\Users\\csc20\\AppData\\Local\\Temp\\ipykernel_10124\\2486972115.py:10: FutureWarning: The frame.append method is deprecated and will be removed from pandas in a future version. Use pandas.concat instead.\n",
      "  scores = scores.append(temp) # Заносим в датафрейм глубину дерева, а также train_score и test_score\n",
      "C:\\Users\\csc20\\AppData\\Local\\Temp\\ipykernel_10124\\2486972115.py:10: FutureWarning: The frame.append method is deprecated and will be removed from pandas in a future version. Use pandas.concat instead.\n",
      "  scores = scores.append(temp) # Заносим в датафрейм глубину дерева, а также train_score и test_score\n"
     ]
    },
    {
     "data": {
      "text/html": [
       "<div>\n",
       "<style scoped>\n",
       "    .dataframe tbody tr th:only-of-type {\n",
       "        vertical-align: middle;\n",
       "    }\n",
       "\n",
       "    .dataframe tbody tr th {\n",
       "        vertical-align: top;\n",
       "    }\n",
       "\n",
       "    .dataframe thead th {\n",
       "        text-align: right;\n",
       "    }\n",
       "</style>\n",
       "<table border=\"1\" class=\"dataframe\">\n",
       "  <thead>\n",
       "    <tr style=\"text-align: right;\">\n",
       "      <th></th>\n",
       "      <th>max_depth</th>\n",
       "      <th>train_score</th>\n",
       "      <th>test_score</th>\n",
       "    </tr>\n",
       "  </thead>\n",
       "  <tbody>\n",
       "    <tr>\n",
       "      <th>0</th>\n",
       "      <td>1</td>\n",
       "      <td>0.781879</td>\n",
       "      <td>0.796610</td>\n",
       "    </tr>\n",
       "    <tr>\n",
       "      <th>0</th>\n",
       "      <td>2</td>\n",
       "      <td>0.805369</td>\n",
       "      <td>0.776271</td>\n",
       "    </tr>\n",
       "    <tr>\n",
       "      <th>0</th>\n",
       "      <td>3</td>\n",
       "      <td>0.823826</td>\n",
       "      <td>0.820339</td>\n",
       "    </tr>\n",
       "    <tr>\n",
       "      <th>0</th>\n",
       "      <td>4</td>\n",
       "      <td>0.833893</td>\n",
       "      <td>0.823729</td>\n",
       "    </tr>\n",
       "    <tr>\n",
       "      <th>0</th>\n",
       "      <td>5</td>\n",
       "      <td>0.840604</td>\n",
       "      <td>0.806780</td>\n",
       "    </tr>\n",
       "  </tbody>\n",
       "</table>\n",
       "</div>"
      ],
      "text/plain": [
       "   max_depth  train_score  test_score\n",
       "0          1     0.781879    0.796610\n",
       "0          2     0.805369    0.776271\n",
       "0          3     0.823826    0.820339\n",
       "0          4     0.833893    0.823729\n",
       "0          5     0.840604    0.806780"
      ]
     },
     "execution_count": 83,
     "metadata": {},
     "output_type": "execute_result"
    }
   ],
   "source": [
    "scores = pd.DataFrame()\n",
    "\n",
    "for max_depth in range(1, 100):\n",
    "    clf = tree.DecisionTreeClassifier(criterion='entropy', max_depth=max_depth) # Создаем модель, где задаем глубину дерева\n",
    "    clf.fit(X_train, y_train) # Обучаем эту модель на тренировочных данных\n",
    "    train_score = clf.score(X_train, y_train) # Записываем результат для тренировочной выборки\n",
    "    test_score = clf.score(X_test, y_test) # Записываем результат для тестовой выборки\n",
    "    \n",
    "    temp = pd.DataFrame({'max_depth': [max_depth], 'train_score': [train_score], 'test_score': [test_score]})\n",
    "    scores = scores.append(temp) # Заносим в датафрейм глубину дерева, а также train_score и test_score\n",
    "\n",
    "scores.head()"
   ]
  },
  {
   "cell_type": "markdown",
   "metadata": {},
   "source": [
    "Приведем это к более удобному виду:)"
   ]
  },
  {
   "cell_type": "code",
   "execution_count": 84,
   "metadata": {},
   "outputs": [
    {
     "data": {
      "text/html": [
       "<div>\n",
       "<style scoped>\n",
       "    .dataframe tbody tr th:only-of-type {\n",
       "        vertical-align: middle;\n",
       "    }\n",
       "\n",
       "    .dataframe tbody tr th {\n",
       "        vertical-align: top;\n",
       "    }\n",
       "\n",
       "    .dataframe thead th {\n",
       "        text-align: right;\n",
       "    }\n",
       "</style>\n",
       "<table border=\"1\" class=\"dataframe\">\n",
       "  <thead>\n",
       "    <tr style=\"text-align: right;\">\n",
       "      <th></th>\n",
       "      <th>max_depth</th>\n",
       "      <th>type</th>\n",
       "      <th>score</th>\n",
       "    </tr>\n",
       "  </thead>\n",
       "  <tbody>\n",
       "    <tr>\n",
       "      <th>0</th>\n",
       "      <td>1</td>\n",
       "      <td>train_score</td>\n",
       "      <td>0.781879</td>\n",
       "    </tr>\n",
       "    <tr>\n",
       "      <th>1</th>\n",
       "      <td>2</td>\n",
       "      <td>train_score</td>\n",
       "      <td>0.805369</td>\n",
       "    </tr>\n",
       "    <tr>\n",
       "      <th>2</th>\n",
       "      <td>3</td>\n",
       "      <td>train_score</td>\n",
       "      <td>0.823826</td>\n",
       "    </tr>\n",
       "    <tr>\n",
       "      <th>3</th>\n",
       "      <td>4</td>\n",
       "      <td>train_score</td>\n",
       "      <td>0.833893</td>\n",
       "    </tr>\n",
       "    <tr>\n",
       "      <th>4</th>\n",
       "      <td>5</td>\n",
       "      <td>train_score</td>\n",
       "      <td>0.840604</td>\n",
       "    </tr>\n",
       "  </tbody>\n",
       "</table>\n",
       "</div>"
      ],
      "text/plain": [
       "   max_depth         type     score\n",
       "0          1  train_score  0.781879\n",
       "1          2  train_score  0.805369\n",
       "2          3  train_score  0.823826\n",
       "3          4  train_score  0.833893\n",
       "4          5  train_score  0.840604"
      ]
     },
     "execution_count": 84,
     "metadata": {},
     "output_type": "execute_result"
    }
   ],
   "source": [
    "scores = pd.melt(\n",
    "    scores,\n",
    "    id_vars=['max_depth'],\n",
    "    value_vars=['train_score', 'test_score'],\n",
    "    var_name='type',\n",
    "    value_name='score'\n",
    ")\n",
    "scores.head()"
   ]
  },
  {
   "cell_type": "markdown",
   "metadata": {},
   "source": [
    "А теперь визуализируем, как train_score и test_score зависят от глубины дерева:"
   ]
  },
  {
   "cell_type": "code",
   "execution_count": 85,
   "metadata": {},
   "outputs": [
    {
     "data": {
      "image/png": "[encoded data removed]",
      "text/plain": [
       "<Figure size 648x432 with 1 Axes>"
      ]
     },
     "metadata": {},
     "output_type": "display_data"
    }
   ],
   "source": [
    "sns.lineplot(x='max_depth', y='score', hue='type', data=scores);"
   ]
  },
  {
   "cell_type": "markdown",
   "metadata": {},
   "source": [
    "При глубине дерева равной 4 - ем достигается максимум по переменной test_score:"
   ]
  },
  {
   "cell_type": "code",
   "execution_count": 86,
   "metadata": {},
   "outputs": [
    {
     "data": {
      "text/html": [
       "<div>\n",
       "<style scoped>\n",
       "    .dataframe tbody tr th:only-of-type {\n",
       "        vertical-align: middle;\n",
       "    }\n",
       "\n",
       "    .dataframe tbody tr th {\n",
       "        vertical-align: top;\n",
       "    }\n",
       "\n",
       "    .dataframe thead th {\n",
       "        text-align: right;\n",
       "    }\n",
       "</style>\n",
       "<table border=\"1\" class=\"dataframe\">\n",
       "  <thead>\n",
       "    <tr style=\"text-align: right;\">\n",
       "      <th></th>\n",
       "      <th>max_depth</th>\n",
       "      <th>type</th>\n",
       "      <th>score</th>\n",
       "    </tr>\n",
       "  </thead>\n",
       "  <tbody>\n",
       "    <tr>\n",
       "      <th>102</th>\n",
       "      <td>4</td>\n",
       "      <td>test_score</td>\n",
       "      <td>0.823729</td>\n",
       "    </tr>\n",
       "  </tbody>\n",
       "</table>\n",
       "</div>"
      ],
      "text/plain": [
       "     max_depth        type     score\n",
       "102          4  test_score  0.823729"
      ]
     },
     "execution_count": 86,
     "metadata": {},
     "output_type": "execute_result"
    }
   ],
   "source": [
    "scores.loc[scores.score == scores[scores.type == 'test_score'].score.max()]"
   ]
  },
  {
   "cell_type": "markdown",
   "metadata": {},
   "source": [
    "Итак, наша модель все равно переобучена, а почему?\n",
    "\n",
    "Как я понял, у нас есть данные на титанике. Мы хотим построить древовидную модель, а именно, построить такое дерево, чтобы в дальнейшем по нему предсказывать зависимую переменную. \n",
    "\n",
    "Что мы делали ранее?\n",
    "\n",
    "Предлагалось генерить **одну test и одну train выборку** и в этом и заключалась основная проблема. Ведь мы для каждого k проверяли test выборку на модели, обученной на train выборке с глубиной дерева равной k, а затем выбирали такое k, что test_score максимален. Тем самым мы **подгоняем** параметр глубины дерева модели с **помощью какой - то одной выборки**. А это не суть того, что мы хотим.\n",
    "\n",
    "Кажется, что было бы лучше генерить **много test и train выборок**, для каждых из них проделывать то, что мы делали раньше, а затем анализировать уже этот результат. Например, можно усреднить (или взять медиану значений) train score при каждом значении глубины и также взять среднее (или взять медиану значений) test score при каждом значении глубины. Затем визуализировать это.\n",
    "\n",
    "Все - таки с помощью этого подхода будет более логичнее распространять наши предположения на всю ген. совокупность."
   ]
  },
  {
   "cell_type": "markdown",
   "metadata": {},
   "source": [
    "## Кроссвалидация"
   ]
  },
  {
   "cell_type": "markdown",
   "metadata": {},
   "source": [
    "Здесь можно почитать подробней про это:\n",
    "\n",
    "[Crossvalidation](https://scikit-learn.org/stable/modules/cross_validation.html)"
   ]
  },
  {
   "cell_type": "markdown",
   "metadata": {},
   "source": [
    "Рассмотрим на примере, когда глубина дерева равна 4-ем:"
   ]
  },
  {
   "cell_type": "code",
   "execution_count": 87,
   "metadata": {},
   "outputs": [],
   "source": [
    "clf = tree.DecisionTreeClassifier(criterion='entropy', max_depth=4, random_state=42)"
   ]
  },
  {
   "cell_type": "markdown",
   "metadata": {},
   "source": [
    "Функция `cross_val_score()` отлично справляется с тем, что написано в статье выше:"
   ]
  },
  {
   "cell_type": "code",
   "execution_count": 88,
   "metadata": {},
   "outputs": [
    {
     "data": {
      "text/plain": [
       "array([0.76666667, 0.82352941, 0.78991597, 0.75630252, 0.80672269])"
      ]
     },
     "execution_count": 88,
     "metadata": {},
     "output_type": "execute_result"
    }
   ],
   "source": [
    "cross_val_score(clf, X_train, y_train, cv=5)\n",
    "# 5 значений - это точность, которую показал классификатор, разбив X_train y_train на 5 равных кусочков\n",
    "# сначала обучился на первых четырех и предсказал пятый\n",
    "# потом обучился на всех, кроме 4-го и предсказал 4-й и т.д..."
   ]
  },
  {
   "cell_type": "code",
   "execution_count": 89,
   "metadata": {},
   "outputs": [
    {
     "data": {
      "text/plain": [
       "0.7886274509803922"
      ]
     },
     "execution_count": 89,
     "metadata": {},
     "output_type": "execute_result"
    }
   ],
   "source": [
    "# Получим среднюю точность на кроссвалидации:\n",
    "cross_val_score(clf, X_train, y_train, cv=5).mean()"
   ]
  },
  {
   "cell_type": "markdown",
   "metadata": {},
   "source": [
    "Проделаем теперь аналогичную вещь, что делали до этого, только добавим еще сюда кроссвалидацию"
   ]
  },
  {
   "cell_type": "code",
   "execution_count": 90,
   "metadata": {},
   "outputs": [
    {
     "name": "stderr",
     "output_type": "stream",
     "text": [
      "C:\\Users\\csc20\\AppData\\Local\\Temp\\ipykernel_10124\\3124733124.py:15: FutureWarning: The frame.append method is deprecated and will be removed from pandas in a future version. Use pandas.concat instead.\n",
      "  scores = scores.append(temp)\n",
      "C:\\Users\\csc20\\AppData\\Local\\Temp\\ipykernel_10124\\3124733124.py:15: FutureWarning: The frame.append method is deprecated and will be removed from pandas in a future version. Use pandas.concat instead.\n",
      "  scores = scores.append(temp)\n",
      "C:\\Users\\csc20\\AppData\\Local\\Temp\\ipykernel_10124\\3124733124.py:15: FutureWarning: The frame.append method is deprecated and will be removed from pandas in a future version. Use pandas.concat instead.\n",
      "  scores = scores.append(temp)\n",
      "C:\\Users\\csc20\\AppData\\Local\\Temp\\ipykernel_10124\\3124733124.py:15: FutureWarning: The frame.append method is deprecated and will be removed from pandas in a future version. Use pandas.concat instead.\n",
      "  scores = scores.append(temp)\n",
      "C:\\Users\\csc20\\AppData\\Local\\Temp\\ipykernel_10124\\3124733124.py:15: FutureWarning: The frame.append method is deprecated and will be removed from pandas in a future version. Use pandas.concat instead.\n",
      "  scores = scores.append(temp)\n",
      "C:\\Users\\csc20\\AppData\\Local\\Temp\\ipykernel_10124\\3124733124.py:15: FutureWarning: The frame.append method is deprecated and will be removed from pandas in a future version. Use pandas.concat instead.\n",
      "  scores = scores.append(temp)\n",
      "C:\\Users\\csc20\\AppData\\Local\\Temp\\ipykernel_10124\\3124733124.py:15: FutureWarning: The frame.append method is deprecated and will be removed from pandas in a future version. Use pandas.concat instead.\n",
      "  scores = scores.append(temp)\n",
      "C:\\Users\\csc20\\AppData\\Local\\Temp\\ipykernel_10124\\3124733124.py:15: FutureWarning: The frame.append method is deprecated and will be removed from pandas in a future version. Use pandas.concat instead.\n",
      "  scores = scores.append(temp)\n",
      "C:\\Users\\csc20\\AppData\\Local\\Temp\\ipykernel_10124\\3124733124.py:15: FutureWarning: The frame.append method is deprecated and will be removed from pandas in a future version. Use pandas.concat instead.\n",
      "  scores = scores.append(temp)\n",
      "C:\\Users\\csc20\\AppData\\Local\\Temp\\ipykernel_10124\\3124733124.py:15: FutureWarning: The frame.append method is deprecated and will be removed from pandas in a future version. Use pandas.concat instead.\n",
      "  scores = scores.append(temp)\n",
      "C:\\Users\\csc20\\AppData\\Local\\Temp\\ipykernel_10124\\3124733124.py:15: FutureWarning: The frame.append method is deprecated and will be removed from pandas in a future version. Use pandas.concat instead.\n",
      "  scores = scores.append(temp)\n",
      "C:\\Users\\csc20\\AppData\\Local\\Temp\\ipykernel_10124\\3124733124.py:15: FutureWarning: The frame.append method is deprecated and will be removed from pandas in a future version. Use pandas.concat instead.\n",
      "  scores = scores.append(temp)\n",
      "C:\\Users\\csc20\\AppData\\Local\\Temp\\ipykernel_10124\\3124733124.py:15: FutureWarning: The frame.append method is deprecated and will be removed from pandas in a future version. Use pandas.concat instead.\n",
      "  scores = scores.append(temp)\n",
      "C:\\Users\\csc20\\AppData\\Local\\Temp\\ipykernel_10124\\3124733124.py:15: FutureWarning: The frame.append method is deprecated and will be removed from pandas in a future version. Use pandas.concat instead.\n",
      "  scores = scores.append(temp)\n",
      "C:\\Users\\csc20\\AppData\\Local\\Temp\\ipykernel_10124\\3124733124.py:15: FutureWarning: The frame.append method is deprecated and will be removed from pandas in a future version. Use pandas.concat instead.\n",
      "  scores = scores.append(temp)\n",
      "C:\\Users\\csc20\\AppData\\Local\\Temp\\ipykernel_10124\\3124733124.py:15: FutureWarning: The frame.append method is deprecated and will be removed from pandas in a future version. Use pandas.concat instead.\n",
      "  scores = scores.append(temp)\n",
      "C:\\Users\\csc20\\AppData\\Local\\Temp\\ipykernel_10124\\3124733124.py:15: FutureWarning: The frame.append method is deprecated and will be removed from pandas in a future version. Use pandas.concat instead.\n",
      "  scores = scores.append(temp)\n",
      "C:\\Users\\csc20\\AppData\\Local\\Temp\\ipykernel_10124\\3124733124.py:15: FutureWarning: The frame.append method is deprecated and will be removed from pandas in a future version. Use pandas.concat instead.\n",
      "  scores = scores.append(temp)\n",
      "C:\\Users\\csc20\\AppData\\Local\\Temp\\ipykernel_10124\\3124733124.py:15: FutureWarning: The frame.append method is deprecated and will be removed from pandas in a future version. Use pandas.concat instead.\n",
      "  scores = scores.append(temp)\n",
      "C:\\Users\\csc20\\AppData\\Local\\Temp\\ipykernel_10124\\3124733124.py:15: FutureWarning: The frame.append method is deprecated and will be removed from pandas in a future version. Use pandas.concat instead.\n",
      "  scores = scores.append(temp)\n",
      "C:\\Users\\csc20\\AppData\\Local\\Temp\\ipykernel_10124\\3124733124.py:15: FutureWarning: The frame.append method is deprecated and will be removed from pandas in a future version. Use pandas.concat instead.\n",
      "  scores = scores.append(temp)\n",
      "C:\\Users\\csc20\\AppData\\Local\\Temp\\ipykernel_10124\\3124733124.py:15: FutureWarning: The frame.append method is deprecated and will be removed from pandas in a future version. Use pandas.concat instead.\n",
      "  scores = scores.append(temp)\n",
      "C:\\Users\\csc20\\AppData\\Local\\Temp\\ipykernel_10124\\3124733124.py:15: FutureWarning: The frame.append method is deprecated and will be removed from pandas in a future version. Use pandas.concat instead.\n",
      "  scores = scores.append(temp)\n",
      "C:\\Users\\csc20\\AppData\\Local\\Temp\\ipykernel_10124\\3124733124.py:15: FutureWarning: The frame.append method is deprecated and will be removed from pandas in a future version. Use pandas.concat instead.\n",
      "  scores = scores.append(temp)\n",
      "C:\\Users\\csc20\\AppData\\Local\\Temp\\ipykernel_10124\\3124733124.py:15: FutureWarning: The frame.append method is deprecated and will be removed from pandas in a future version. Use pandas.concat instead.\n",
      "  scores = scores.append(temp)\n",
      "C:\\Users\\csc20\\AppData\\Local\\Temp\\ipykernel_10124\\3124733124.py:15: FutureWarning: The frame.append method is deprecated and will be removed from pandas in a future version. Use pandas.concat instead.\n",
      "  scores = scores.append(temp)\n",
      "C:\\Users\\csc20\\AppData\\Local\\Temp\\ipykernel_10124\\3124733124.py:15: FutureWarning: The frame.append method is deprecated and will be removed from pandas in a future version. Use pandas.concat instead.\n",
      "  scores = scores.append(temp)\n",
      "C:\\Users\\csc20\\AppData\\Local\\Temp\\ipykernel_10124\\3124733124.py:15: FutureWarning: The frame.append method is deprecated and will be removed from pandas in a future version. Use pandas.concat instead.\n",
      "  scores = scores.append(temp)\n",
      "C:\\Users\\csc20\\AppData\\Local\\Temp\\ipykernel_10124\\3124733124.py:15: FutureWarning: The frame.append method is deprecated and will be removed from pandas in a future version. Use pandas.concat instead.\n",
      "  scores = scores.append(temp)\n",
      "C:\\Users\\csc20\\AppData\\Local\\Temp\\ipykernel_10124\\3124733124.py:15: FutureWarning: The frame.append method is deprecated and will be removed from pandas in a future version. Use pandas.concat instead.\n",
      "  scores = scores.append(temp)\n",
      "C:\\Users\\csc20\\AppData\\Local\\Temp\\ipykernel_10124\\3124733124.py:15: FutureWarning: The frame.append method is deprecated and will be removed from pandas in a future version. Use pandas.concat instead.\n",
      "  scores = scores.append(temp)\n",
      "C:\\Users\\csc20\\AppData\\Local\\Temp\\ipykernel_10124\\3124733124.py:15: FutureWarning: The frame.append method is deprecated and will be removed from pandas in a future version. Use pandas.concat instead.\n",
      "  scores = scores.append(temp)\n",
      "C:\\Users\\csc20\\AppData\\Local\\Temp\\ipykernel_10124\\3124733124.py:15: FutureWarning: The frame.append method is deprecated and will be removed from pandas in a future version. Use pandas.concat instead.\n",
      "  scores = scores.append(temp)\n",
      "C:\\Users\\csc20\\AppData\\Local\\Temp\\ipykernel_10124\\3124733124.py:15: FutureWarning: The frame.append method is deprecated and will be removed from pandas in a future version. Use pandas.concat instead.\n",
      "  scores = scores.append(temp)\n",
      "C:\\Users\\csc20\\AppData\\Local\\Temp\\ipykernel_10124\\3124733124.py:15: FutureWarning: The frame.append method is deprecated and will be removed from pandas in a future version. Use pandas.concat instead.\n",
      "  scores = scores.append(temp)\n",
      "C:\\Users\\csc20\\AppData\\Local\\Temp\\ipykernel_10124\\3124733124.py:15: FutureWarning: The frame.append method is deprecated and will be removed from pandas in a future version. Use pandas.concat instead.\n",
      "  scores = scores.append(temp)\n",
      "C:\\Users\\csc20\\AppData\\Local\\Temp\\ipykernel_10124\\3124733124.py:15: FutureWarning: The frame.append method is deprecated and will be removed from pandas in a future version. Use pandas.concat instead.\n",
      "  scores = scores.append(temp)\n"
     ]
    },
    {
     "name": "stderr",
     "output_type": "stream",
     "text": [
      "C:\\Users\\csc20\\AppData\\Local\\Temp\\ipykernel_10124\\3124733124.py:15: FutureWarning: The frame.append method is deprecated and will be removed from pandas in a future version. Use pandas.concat instead.\n",
      "  scores = scores.append(temp)\n",
      "C:\\Users\\csc20\\AppData\\Local\\Temp\\ipykernel_10124\\3124733124.py:15: FutureWarning: The frame.append method is deprecated and will be removed from pandas in a future version. Use pandas.concat instead.\n",
      "  scores = scores.append(temp)\n",
      "C:\\Users\\csc20\\AppData\\Local\\Temp\\ipykernel_10124\\3124733124.py:15: FutureWarning: The frame.append method is deprecated and will be removed from pandas in a future version. Use pandas.concat instead.\n",
      "  scores = scores.append(temp)\n",
      "C:\\Users\\csc20\\AppData\\Local\\Temp\\ipykernel_10124\\3124733124.py:15: FutureWarning: The frame.append method is deprecated and will be removed from pandas in a future version. Use pandas.concat instead.\n",
      "  scores = scores.append(temp)\n",
      "C:\\Users\\csc20\\AppData\\Local\\Temp\\ipykernel_10124\\3124733124.py:15: FutureWarning: The frame.append method is deprecated and will be removed from pandas in a future version. Use pandas.concat instead.\n",
      "  scores = scores.append(temp)\n",
      "C:\\Users\\csc20\\AppData\\Local\\Temp\\ipykernel_10124\\3124733124.py:15: FutureWarning: The frame.append method is deprecated and will be removed from pandas in a future version. Use pandas.concat instead.\n",
      "  scores = scores.append(temp)\n",
      "C:\\Users\\csc20\\AppData\\Local\\Temp\\ipykernel_10124\\3124733124.py:15: FutureWarning: The frame.append method is deprecated and will be removed from pandas in a future version. Use pandas.concat instead.\n",
      "  scores = scores.append(temp)\n",
      "C:\\Users\\csc20\\AppData\\Local\\Temp\\ipykernel_10124\\3124733124.py:15: FutureWarning: The frame.append method is deprecated and will be removed from pandas in a future version. Use pandas.concat instead.\n",
      "  scores = scores.append(temp)\n",
      "C:\\Users\\csc20\\AppData\\Local\\Temp\\ipykernel_10124\\3124733124.py:15: FutureWarning: The frame.append method is deprecated and will be removed from pandas in a future version. Use pandas.concat instead.\n",
      "  scores = scores.append(temp)\n",
      "C:\\Users\\csc20\\AppData\\Local\\Temp\\ipykernel_10124\\3124733124.py:15: FutureWarning: The frame.append method is deprecated and will be removed from pandas in a future version. Use pandas.concat instead.\n",
      "  scores = scores.append(temp)\n",
      "C:\\Users\\csc20\\AppData\\Local\\Temp\\ipykernel_10124\\3124733124.py:15: FutureWarning: The frame.append method is deprecated and will be removed from pandas in a future version. Use pandas.concat instead.\n",
      "  scores = scores.append(temp)\n",
      "C:\\Users\\csc20\\AppData\\Local\\Temp\\ipykernel_10124\\3124733124.py:15: FutureWarning: The frame.append method is deprecated and will be removed from pandas in a future version. Use pandas.concat instead.\n",
      "  scores = scores.append(temp)\n",
      "C:\\Users\\csc20\\AppData\\Local\\Temp\\ipykernel_10124\\3124733124.py:15: FutureWarning: The frame.append method is deprecated and will be removed from pandas in a future version. Use pandas.concat instead.\n",
      "  scores = scores.append(temp)\n",
      "C:\\Users\\csc20\\AppData\\Local\\Temp\\ipykernel_10124\\3124733124.py:15: FutureWarning: The frame.append method is deprecated and will be removed from pandas in a future version. Use pandas.concat instead.\n",
      "  scores = scores.append(temp)\n",
      "C:\\Users\\csc20\\AppData\\Local\\Temp\\ipykernel_10124\\3124733124.py:15: FutureWarning: The frame.append method is deprecated and will be removed from pandas in a future version. Use pandas.concat instead.\n",
      "  scores = scores.append(temp)\n",
      "C:\\Users\\csc20\\AppData\\Local\\Temp\\ipykernel_10124\\3124733124.py:15: FutureWarning: The frame.append method is deprecated and will be removed from pandas in a future version. Use pandas.concat instead.\n",
      "  scores = scores.append(temp)\n",
      "C:\\Users\\csc20\\AppData\\Local\\Temp\\ipykernel_10124\\3124733124.py:15: FutureWarning: The frame.append method is deprecated and will be removed from pandas in a future version. Use pandas.concat instead.\n",
      "  scores = scores.append(temp)\n",
      "C:\\Users\\csc20\\AppData\\Local\\Temp\\ipykernel_10124\\3124733124.py:15: FutureWarning: The frame.append method is deprecated and will be removed from pandas in a future version. Use pandas.concat instead.\n",
      "  scores = scores.append(temp)\n",
      "C:\\Users\\csc20\\AppData\\Local\\Temp\\ipykernel_10124\\3124733124.py:15: FutureWarning: The frame.append method is deprecated and will be removed from pandas in a future version. Use pandas.concat instead.\n",
      "  scores = scores.append(temp)\n",
      "C:\\Users\\csc20\\AppData\\Local\\Temp\\ipykernel_10124\\3124733124.py:15: FutureWarning: The frame.append method is deprecated and will be removed from pandas in a future version. Use pandas.concat instead.\n",
      "  scores = scores.append(temp)\n",
      "C:\\Users\\csc20\\AppData\\Local\\Temp\\ipykernel_10124\\3124733124.py:15: FutureWarning: The frame.append method is deprecated and will be removed from pandas in a future version. Use pandas.concat instead.\n",
      "  scores = scores.append(temp)\n",
      "C:\\Users\\csc20\\AppData\\Local\\Temp\\ipykernel_10124\\3124733124.py:15: FutureWarning: The frame.append method is deprecated and will be removed from pandas in a future version. Use pandas.concat instead.\n",
      "  scores = scores.append(temp)\n",
      "C:\\Users\\csc20\\AppData\\Local\\Temp\\ipykernel_10124\\3124733124.py:15: FutureWarning: The frame.append method is deprecated and will be removed from pandas in a future version. Use pandas.concat instead.\n",
      "  scores = scores.append(temp)\n",
      "C:\\Users\\csc20\\AppData\\Local\\Temp\\ipykernel_10124\\3124733124.py:15: FutureWarning: The frame.append method is deprecated and will be removed from pandas in a future version. Use pandas.concat instead.\n",
      "  scores = scores.append(temp)\n",
      "C:\\Users\\csc20\\AppData\\Local\\Temp\\ipykernel_10124\\3124733124.py:15: FutureWarning: The frame.append method is deprecated and will be removed from pandas in a future version. Use pandas.concat instead.\n",
      "  scores = scores.append(temp)\n",
      "C:\\Users\\csc20\\AppData\\Local\\Temp\\ipykernel_10124\\3124733124.py:15: FutureWarning: The frame.append method is deprecated and will be removed from pandas in a future version. Use pandas.concat instead.\n",
      "  scores = scores.append(temp)\n",
      "C:\\Users\\csc20\\AppData\\Local\\Temp\\ipykernel_10124\\3124733124.py:15: FutureWarning: The frame.append method is deprecated and will be removed from pandas in a future version. Use pandas.concat instead.\n",
      "  scores = scores.append(temp)\n",
      "C:\\Users\\csc20\\AppData\\Local\\Temp\\ipykernel_10124\\3124733124.py:15: FutureWarning: The frame.append method is deprecated and will be removed from pandas in a future version. Use pandas.concat instead.\n",
      "  scores = scores.append(temp)\n",
      "C:\\Users\\csc20\\AppData\\Local\\Temp\\ipykernel_10124\\3124733124.py:15: FutureWarning: The frame.append method is deprecated and will be removed from pandas in a future version. Use pandas.concat instead.\n",
      "  scores = scores.append(temp)\n",
      "C:\\Users\\csc20\\AppData\\Local\\Temp\\ipykernel_10124\\3124733124.py:15: FutureWarning: The frame.append method is deprecated and will be removed from pandas in a future version. Use pandas.concat instead.\n",
      "  scores = scores.append(temp)\n",
      "C:\\Users\\csc20\\AppData\\Local\\Temp\\ipykernel_10124\\3124733124.py:15: FutureWarning: The frame.append method is deprecated and will be removed from pandas in a future version. Use pandas.concat instead.\n",
      "  scores = scores.append(temp)\n",
      "C:\\Users\\csc20\\AppData\\Local\\Temp\\ipykernel_10124\\3124733124.py:15: FutureWarning: The frame.append method is deprecated and will be removed from pandas in a future version. Use pandas.concat instead.\n",
      "  scores = scores.append(temp)\n",
      "C:\\Users\\csc20\\AppData\\Local\\Temp\\ipykernel_10124\\3124733124.py:15: FutureWarning: The frame.append method is deprecated and will be removed from pandas in a future version. Use pandas.concat instead.\n",
      "  scores = scores.append(temp)\n",
      "C:\\Users\\csc20\\AppData\\Local\\Temp\\ipykernel_10124\\3124733124.py:15: FutureWarning: The frame.append method is deprecated and will be removed from pandas in a future version. Use pandas.concat instead.\n",
      "  scores = scores.append(temp)\n",
      "C:\\Users\\csc20\\AppData\\Local\\Temp\\ipykernel_10124\\3124733124.py:15: FutureWarning: The frame.append method is deprecated and will be removed from pandas in a future version. Use pandas.concat instead.\n",
      "  scores = scores.append(temp)\n",
      "C:\\Users\\csc20\\AppData\\Local\\Temp\\ipykernel_10124\\3124733124.py:15: FutureWarning: The frame.append method is deprecated and will be removed from pandas in a future version. Use pandas.concat instead.\n",
      "  scores = scores.append(temp)\n",
      "C:\\Users\\csc20\\AppData\\Local\\Temp\\ipykernel_10124\\3124733124.py:15: FutureWarning: The frame.append method is deprecated and will be removed from pandas in a future version. Use pandas.concat instead.\n",
      "  scores = scores.append(temp)\n",
      "C:\\Users\\csc20\\AppData\\Local\\Temp\\ipykernel_10124\\3124733124.py:15: FutureWarning: The frame.append method is deprecated and will be removed from pandas in a future version. Use pandas.concat instead.\n",
      "  scores = scores.append(temp)\n",
      "C:\\Users\\csc20\\AppData\\Local\\Temp\\ipykernel_10124\\3124733124.py:15: FutureWarning: The frame.append method is deprecated and will be removed from pandas in a future version. Use pandas.concat instead.\n",
      "  scores = scores.append(temp)\n"
     ]
    },
    {
     "name": "stderr",
     "output_type": "stream",
     "text": [
      "C:\\Users\\csc20\\AppData\\Local\\Temp\\ipykernel_10124\\3124733124.py:15: FutureWarning: The frame.append method is deprecated and will be removed from pandas in a future version. Use pandas.concat instead.\n",
      "  scores = scores.append(temp)\n",
      "C:\\Users\\csc20\\AppData\\Local\\Temp\\ipykernel_10124\\3124733124.py:15: FutureWarning: The frame.append method is deprecated and will be removed from pandas in a future version. Use pandas.concat instead.\n",
      "  scores = scores.append(temp)\n",
      "C:\\Users\\csc20\\AppData\\Local\\Temp\\ipykernel_10124\\3124733124.py:15: FutureWarning: The frame.append method is deprecated and will be removed from pandas in a future version. Use pandas.concat instead.\n",
      "  scores = scores.append(temp)\n",
      "C:\\Users\\csc20\\AppData\\Local\\Temp\\ipykernel_10124\\3124733124.py:15: FutureWarning: The frame.append method is deprecated and will be removed from pandas in a future version. Use pandas.concat instead.\n",
      "  scores = scores.append(temp)\n",
      "C:\\Users\\csc20\\AppData\\Local\\Temp\\ipykernel_10124\\3124733124.py:15: FutureWarning: The frame.append method is deprecated and will be removed from pandas in a future version. Use pandas.concat instead.\n",
      "  scores = scores.append(temp)\n",
      "C:\\Users\\csc20\\AppData\\Local\\Temp\\ipykernel_10124\\3124733124.py:15: FutureWarning: The frame.append method is deprecated and will be removed from pandas in a future version. Use pandas.concat instead.\n",
      "  scores = scores.append(temp)\n",
      "C:\\Users\\csc20\\AppData\\Local\\Temp\\ipykernel_10124\\3124733124.py:15: FutureWarning: The frame.append method is deprecated and will be removed from pandas in a future version. Use pandas.concat instead.\n",
      "  scores = scores.append(temp)\n",
      "C:\\Users\\csc20\\AppData\\Local\\Temp\\ipykernel_10124\\3124733124.py:15: FutureWarning: The frame.append method is deprecated and will be removed from pandas in a future version. Use pandas.concat instead.\n",
      "  scores = scores.append(temp)\n",
      "C:\\Users\\csc20\\AppData\\Local\\Temp\\ipykernel_10124\\3124733124.py:15: FutureWarning: The frame.append method is deprecated and will be removed from pandas in a future version. Use pandas.concat instead.\n",
      "  scores = scores.append(temp)\n",
      "C:\\Users\\csc20\\AppData\\Local\\Temp\\ipykernel_10124\\3124733124.py:15: FutureWarning: The frame.append method is deprecated and will be removed from pandas in a future version. Use pandas.concat instead.\n",
      "  scores = scores.append(temp)\n",
      "C:\\Users\\csc20\\AppData\\Local\\Temp\\ipykernel_10124\\3124733124.py:15: FutureWarning: The frame.append method is deprecated and will be removed from pandas in a future version. Use pandas.concat instead.\n",
      "  scores = scores.append(temp)\n",
      "C:\\Users\\csc20\\AppData\\Local\\Temp\\ipykernel_10124\\3124733124.py:15: FutureWarning: The frame.append method is deprecated and will be removed from pandas in a future version. Use pandas.concat instead.\n",
      "  scores = scores.append(temp)\n",
      "C:\\Users\\csc20\\AppData\\Local\\Temp\\ipykernel_10124\\3124733124.py:15: FutureWarning: The frame.append method is deprecated and will be removed from pandas in a future version. Use pandas.concat instead.\n",
      "  scores = scores.append(temp)\n",
      "C:\\Users\\csc20\\AppData\\Local\\Temp\\ipykernel_10124\\3124733124.py:15: FutureWarning: The frame.append method is deprecated and will be removed from pandas in a future version. Use pandas.concat instead.\n",
      "  scores = scores.append(temp)\n",
      "C:\\Users\\csc20\\AppData\\Local\\Temp\\ipykernel_10124\\3124733124.py:15: FutureWarning: The frame.append method is deprecated and will be removed from pandas in a future version. Use pandas.concat instead.\n",
      "  scores = scores.append(temp)\n",
      "C:\\Users\\csc20\\AppData\\Local\\Temp\\ipykernel_10124\\3124733124.py:15: FutureWarning: The frame.append method is deprecated and will be removed from pandas in a future version. Use pandas.concat instead.\n",
      "  scores = scores.append(temp)\n",
      "C:\\Users\\csc20\\AppData\\Local\\Temp\\ipykernel_10124\\3124733124.py:15: FutureWarning: The frame.append method is deprecated and will be removed from pandas in a future version. Use pandas.concat instead.\n",
      "  scores = scores.append(temp)\n",
      "C:\\Users\\csc20\\AppData\\Local\\Temp\\ipykernel_10124\\3124733124.py:15: FutureWarning: The frame.append method is deprecated and will be removed from pandas in a future version. Use pandas.concat instead.\n",
      "  scores = scores.append(temp)\n",
      "C:\\Users\\csc20\\AppData\\Local\\Temp\\ipykernel_10124\\3124733124.py:15: FutureWarning: The frame.append method is deprecated and will be removed from pandas in a future version. Use pandas.concat instead.\n",
      "  scores = scores.append(temp)\n",
      "C:\\Users\\csc20\\AppData\\Local\\Temp\\ipykernel_10124\\3124733124.py:15: FutureWarning: The frame.append method is deprecated and will be removed from pandas in a future version. Use pandas.concat instead.\n",
      "  scores = scores.append(temp)\n",
      "C:\\Users\\csc20\\AppData\\Local\\Temp\\ipykernel_10124\\3124733124.py:15: FutureWarning: The frame.append method is deprecated and will be removed from pandas in a future version. Use pandas.concat instead.\n",
      "  scores = scores.append(temp)\n",
      "C:\\Users\\csc20\\AppData\\Local\\Temp\\ipykernel_10124\\3124733124.py:15: FutureWarning: The frame.append method is deprecated and will be removed from pandas in a future version. Use pandas.concat instead.\n",
      "  scores = scores.append(temp)\n",
      "C:\\Users\\csc20\\AppData\\Local\\Temp\\ipykernel_10124\\3124733124.py:15: FutureWarning: The frame.append method is deprecated and will be removed from pandas in a future version. Use pandas.concat instead.\n",
      "  scores = scores.append(temp)\n"
     ]
    },
    {
     "data": {
      "text/html": [
       "<div>\n",
       "<style scoped>\n",
       "    .dataframe tbody tr th:only-of-type {\n",
       "        vertical-align: middle;\n",
       "    }\n",
       "\n",
       "    .dataframe tbody tr th {\n",
       "        vertical-align: top;\n",
       "    }\n",
       "\n",
       "    .dataframe thead th {\n",
       "        text-align: right;\n",
       "    }\n",
       "</style>\n",
       "<table border=\"1\" class=\"dataframe\">\n",
       "  <thead>\n",
       "    <tr style=\"text-align: right;\">\n",
       "      <th></th>\n",
       "      <th>max_depth</th>\n",
       "      <th>train_score</th>\n",
       "      <th>test_score</th>\n",
       "      <th>mean_cross_val_score</th>\n",
       "    </tr>\n",
       "  </thead>\n",
       "  <tbody>\n",
       "    <tr>\n",
       "      <th>0</th>\n",
       "      <td>1</td>\n",
       "      <td>0.781879</td>\n",
       "      <td>0.796610</td>\n",
       "      <td>0.781961</td>\n",
       "    </tr>\n",
       "    <tr>\n",
       "      <th>0</th>\n",
       "      <td>2</td>\n",
       "      <td>0.805369</td>\n",
       "      <td>0.776271</td>\n",
       "      <td>0.770196</td>\n",
       "    </tr>\n",
       "    <tr>\n",
       "      <th>0</th>\n",
       "      <td>3</td>\n",
       "      <td>0.823826</td>\n",
       "      <td>0.820339</td>\n",
       "      <td>0.790322</td>\n",
       "    </tr>\n",
       "    <tr>\n",
       "      <th>0</th>\n",
       "      <td>4</td>\n",
       "      <td>0.833893</td>\n",
       "      <td>0.823729</td>\n",
       "      <td>0.788627</td>\n",
       "    </tr>\n",
       "    <tr>\n",
       "      <th>0</th>\n",
       "      <td>5</td>\n",
       "      <td>0.840604</td>\n",
       "      <td>0.806780</td>\n",
       "      <td>0.802073</td>\n",
       "    </tr>\n",
       "  </tbody>\n",
       "</table>\n",
       "</div>"
      ],
      "text/plain": [
       "   max_depth  train_score  test_score  mean_cross_val_score\n",
       "0          1     0.781879    0.796610              0.781961\n",
       "0          2     0.805369    0.776271              0.770196\n",
       "0          3     0.823826    0.820339              0.790322\n",
       "0          4     0.833893    0.823729              0.788627\n",
       "0          5     0.840604    0.806780              0.802073"
      ]
     },
     "execution_count": 90,
     "metadata": {},
     "output_type": "execute_result"
    }
   ],
   "source": [
    "scores = pd.DataFrame()\n",
    "\n",
    "for max_depth in range(1, 100):\n",
    "    clf = tree.DecisionTreeClassifier(criterion='entropy', max_depth=max_depth, random_state=42)\n",
    "    clf.fit(X_train, y_train)\n",
    "    train_score = clf.score(X_train, y_train)\n",
    "    test_score = clf.score(X_test, y_test)\n",
    "    mean_cross_val_score = cross_val_score(clf, X_train, y_train, cv=5).mean()\n",
    "    temp = pd.DataFrame({\n",
    "        'max_depth': [max_depth],\n",
    "        'train_score': [train_score],\n",
    "        'test_score': [test_score],\n",
    "        'mean_cross_val_score': [mean_cross_val_score],\n",
    "    })\n",
    "    scores = scores.append(temp)\n",
    "\n",
    "scores.head()"
   ]
  },
  {
   "cell_type": "code",
   "execution_count": 91,
   "metadata": {},
   "outputs": [
    {
     "data": {
      "text/html": [
       "<div>\n",
       "<style scoped>\n",
       "    .dataframe tbody tr th:only-of-type {\n",
       "        vertical-align: middle;\n",
       "    }\n",
       "\n",
       "    .dataframe tbody tr th {\n",
       "        vertical-align: top;\n",
       "    }\n",
       "\n",
       "    .dataframe thead th {\n",
       "        text-align: right;\n",
       "    }\n",
       "</style>\n",
       "<table border=\"1\" class=\"dataframe\">\n",
       "  <thead>\n",
       "    <tr style=\"text-align: right;\">\n",
       "      <th></th>\n",
       "      <th>max_depth</th>\n",
       "      <th>type</th>\n",
       "      <th>score</th>\n",
       "    </tr>\n",
       "  </thead>\n",
       "  <tbody>\n",
       "    <tr>\n",
       "      <th>0</th>\n",
       "      <td>1</td>\n",
       "      <td>train_score</td>\n",
       "      <td>0.781879</td>\n",
       "    </tr>\n",
       "    <tr>\n",
       "      <th>1</th>\n",
       "      <td>2</td>\n",
       "      <td>train_score</td>\n",
       "      <td>0.805369</td>\n",
       "    </tr>\n",
       "    <tr>\n",
       "      <th>2</th>\n",
       "      <td>3</td>\n",
       "      <td>train_score</td>\n",
       "      <td>0.823826</td>\n",
       "    </tr>\n",
       "    <tr>\n",
       "      <th>3</th>\n",
       "      <td>4</td>\n",
       "      <td>train_score</td>\n",
       "      <td>0.833893</td>\n",
       "    </tr>\n",
       "    <tr>\n",
       "      <th>4</th>\n",
       "      <td>5</td>\n",
       "      <td>train_score</td>\n",
       "      <td>0.840604</td>\n",
       "    </tr>\n",
       "  </tbody>\n",
       "</table>\n",
       "</div>"
      ],
      "text/plain": [
       "   max_depth         type     score\n",
       "0          1  train_score  0.781879\n",
       "1          2  train_score  0.805369\n",
       "2          3  train_score  0.823826\n",
       "3          4  train_score  0.833893\n",
       "4          5  train_score  0.840604"
      ]
     },
     "execution_count": 91,
     "metadata": {},
     "output_type": "execute_result"
    }
   ],
   "source": [
    "scores = pd.melt(\n",
    "    scores,\n",
    "    id_vars=['max_depth'],\n",
    "    value_vars=['train_score', 'test_score', 'mean_cross_val_score'],\n",
    "    var_name='type',\n",
    "    value_name='score'\n",
    ")\n",
    "scores.head()"
   ]
  },
  {
   "cell_type": "code",
   "execution_count": 92,
   "metadata": {},
   "outputs": [
    {
     "data": {
      "image/png": "[encoded data removed]",
      "text/plain": [
       "<Figure size 648x432 with 1 Axes>"
      ]
     },
     "metadata": {},
     "output_type": "display_data"
    }
   ],
   "source": [
    "sns.lineplot(x='max_depth', y='score', hue='type', data=scores);"
   ]
  },
  {
   "cell_type": "markdown",
   "metadata": {},
   "source": [
    "При глубине дерева равной 10 - ти достигается максимум по переменной mean_cross_val_score:"
   ]
  },
  {
   "cell_type": "code",
   "execution_count": 93,
   "metadata": {},
   "outputs": [
    {
     "data": {
      "text/html": [
       "<div>\n",
       "<style scoped>\n",
       "    .dataframe tbody tr th:only-of-type {\n",
       "        vertical-align: middle;\n",
       "    }\n",
       "\n",
       "    .dataframe tbody tr th {\n",
       "        vertical-align: top;\n",
       "    }\n",
       "\n",
       "    .dataframe thead th {\n",
       "        text-align: right;\n",
       "    }\n",
       "</style>\n",
       "<table border=\"1\" class=\"dataframe\">\n",
       "  <thead>\n",
       "    <tr style=\"text-align: right;\">\n",
       "      <th></th>\n",
       "      <th>max_depth</th>\n",
       "      <th>type</th>\n",
       "      <th>score</th>\n",
       "    </tr>\n",
       "  </thead>\n",
       "  <tbody>\n",
       "    <tr>\n",
       "      <th>207</th>\n",
       "      <td>10</td>\n",
       "      <td>mean_cross_val_score</td>\n",
       "      <td>0.807073</td>\n",
       "    </tr>\n",
       "  </tbody>\n",
       "</table>\n",
       "</div>"
      ],
      "text/plain": [
       "     max_depth                  type     score\n",
       "207         10  mean_cross_val_score  0.807073"
      ]
     },
     "execution_count": 93,
     "metadata": {},
     "output_type": "execute_result"
    }
   ],
   "source": [
    "scores.loc[scores.score == scores[scores.type == 'mean_cross_val_score'].score.max()]"
   ]
  },
  {
   "cell_type": "code",
   "execution_count": 94,
   "metadata": {},
   "outputs": [
    {
     "data": {
      "text/plain": [
       "0.8033898305084746"
      ]
     },
     "execution_count": 94,
     "metadata": {},
     "output_type": "execute_result"
    }
   ],
   "source": [
    "# На основе этой глубины заводим бест классифаир:\n",
    "best_clf = tree.DecisionTreeClassifier(criterion='entropy', max_depth=10, random_state=42)\n",
    "\n",
    "# Обучим его на тренировочных данных:\n",
    "best_clf.fit(X_train, y_train)\n",
    "\n",
    "# Протестируем точность (процент правильных ответов):\n",
    "best_clf.score(X_test, y_test)"
   ]
  },
  {
   "cell_type": "markdown",
   "metadata": {},
   "source": [
    "## Точность"
   ]
  },
  {
   "cell_type": "code",
   "execution_count": 95,
   "metadata": {},
   "outputs": [
    {
     "data": {
      "text/plain": [
       "0    549\n",
       "1    342\n",
       "Name: Survived, dtype: int64"
      ]
     },
     "execution_count": 95,
     "metadata": {},
     "output_type": "execute_result"
    }
   ],
   "source": [
    "# Точность хорошо работает только на выборках, у которых целевая переменная сбалансирована.\n",
    "\n",
    "# Здесь же присутствует дисбаланс классов.\n",
    "df.Survived.value_counts()"
   ]
  },
  {
   "cell_type": "code",
   "execution_count": 41,
   "metadata": {},
   "outputs": [
    {
     "data": {
      "text/plain": [
       "0.3838383838383838"
      ]
     },
     "execution_count": 41,
     "metadata": {},
     "output_type": "execute_result"
    }
   ],
   "source": [
    "df.Survived.mean()\n",
    "# 38.3% выжили в выборке."
   ]
  },
  {
   "cell_type": "code",
   "execution_count": 96,
   "metadata": {},
   "outputs": [
    {
     "data": {
      "text/plain": [
       "0.6161616161616161"
      ]
     },
     "execution_count": 96,
     "metadata": {},
     "output_type": "execute_result"
    }
   ],
   "source": [
    "df.Survived.value_counts()[0] / (df.Survived.value_counts()[0] + df.Survived.value_counts()[1])\n",
    "# 61.6% не выжили в выборке."
   ]
  },
  {
   "cell_type": "code",
   "execution_count": 97,
   "metadata": {},
   "outputs": [],
   "source": [
    "# Классификатор, который будет тупо классифицировать ЛЮБОГО пассажира, как невыжившего, достигнет точности 61.6%."
   ]
  },
  {
   "cell_type": "markdown",
   "metadata": {},
   "source": [
    "## Метрики качества"
   ]
  },
  {
   "cell_type": "code",
   "execution_count": 98,
   "metadata": {},
   "outputs": [],
   "source": [
    "# Pr (precision) - метрика, где ложно-положительные срабатывания (ложная тревога) отрицательно повлияют на коэф.\n",
    "# или так называемые ошибки первого рода.\n",
    "\n",
    "# Предсказываем выживших на титанике (True Positive).\n",
    "# Например, в тестовой выборке предсказываем, что 100 чел выжили.\n",
    "# Но на самом деле из этих 100 человек не выжили 20 (False Positive), т.е. мы ошиблись в 20 случаях.\n",
    "# Это негативно повлияет на precision:\n",
    "# Pr = 80 / (80 + 20) = 0.8"
   ]
  },
  {
   "cell_type": "markdown",
   "metadata": {},
   "source": [
    "$$ Pr = \\frac{TP}{TP + FP} $$"
   ]
  },
  {
   "cell_type": "code",
   "execution_count": 99,
   "metadata": {},
   "outputs": [],
   "source": [
    "# R (recall) - метрика, где ложно-отрицательные срабатывания (пропуск цели) отрицательно повлияют на коэф.\n",
    "# или так называемые ошибки второго рода.\n",
    "\n",
    "# Опять предсказываем выживших на титанике (True Positive).\n",
    "# Например, в тестовой выборке предсказываем, что 100 чел выжили. И это на самом деле оказалось так.\n",
    "# Но мы не смогли правильно определить еще 20 выживших и отнесли из к невыжившим (False Negative).\n",
    "# Это негативно повлияет на recall:\n",
    "# R = 100 / (100 + 20) = 0.83"
   ]
  },
  {
   "cell_type": "markdown",
   "metadata": {},
   "source": [
    "\\begin{equation}\n",
    "R = \\frac{TP}{TP + FN}\n",
    "\\end{equation}"
   ]
  },
  {
   "cell_type": "code",
   "execution_count": 100,
   "metadata": {},
   "outputs": [],
   "source": [
    "# Recall    - показывает, насколько достигнута цель (какой процент выживших удалось обнаружить).\n",
    "# Precision - какую цену в виде ложных срабатываний за это заплатили."
   ]
  },
  {
   "cell_type": "markdown",
   "metadata": {},
   "source": [
    "## Подбор параметров"
   ]
  },
  {
   "cell_type": "code",
   "execution_count": 101,
   "metadata": {},
   "outputs": [
    {
     "data": {
      "text/plain": [
       "DecisionTreeClassifier(random_state=0)"
      ]
     },
     "execution_count": 101,
     "metadata": {},
     "output_type": "execute_result"
    }
   ],
   "source": [
    "# На практике подбор параметров дерева не пишут руками, а используют GridSearchCV.\n",
    "\n",
    "# Понадобится классификатор:\n",
    "clf = tree.DecisionTreeClassifier(random_state=0)\n",
    "clf"
   ]
  },
  {
   "cell_type": "code",
   "execution_count": 102,
   "metadata": {},
   "outputs": [],
   "source": [
    "# Словарь с параметрами классификатора, комбинации которых мы будем подбирать и проверять на кроссвалидации:\n",
    "params = {'criterion': ['gini', 'entropy'], 'max_depth': range(1, 30)}\n",
    "\n",
    "# И укажем 5 фолдов для кроссвалидации:\n",
    "grid_search_cv_clf = GridSearchCV(clf, params, cv=5)"
   ]
  },
  {
   "cell_type": "code",
   "execution_count": 103,
   "metadata": {},
   "outputs": [
    {
     "data": {
      "text/plain": [
       "GridSearchCV(cv=5, estimator=DecisionTreeClassifier(random_state=0),\n",
       "             param_grid={'criterion': ['gini', 'entropy'],\n",
       "                         'max_depth': range(1, 30)})"
      ]
     },
     "execution_count": 103,
     "metadata": {},
     "output_type": "execute_result"
    }
   ],
   "source": [
    "# Обучаем на тренировочных данных:\n",
    "grid_search_cv_clf.fit(X_train, y_train)"
   ]
  },
  {
   "cell_type": "code",
   "execution_count": 104,
   "metadata": {},
   "outputs": [
    {
     "data": {
      "text/plain": [
       "{'criterion': 'entropy', 'max_depth': 8}"
      ]
     },
     "execution_count": 104,
     "metadata": {},
     "output_type": "execute_result"
    }
   ],
   "source": [
    "# Посмотрим параметры, для которых значение эккураси будет максимальным:\n",
    "grid_search_cv_clf.best_params_"
   ]
  },
  {
   "cell_type": "code",
   "execution_count": 105,
   "metadata": {},
   "outputs": [
    {
     "data": {
      "text/plain": [
       "DecisionTreeClassifier(criterion='entropy', max_depth=8, random_state=0)"
      ]
     },
     "execution_count": 105,
     "metadata": {},
     "output_type": "execute_result"
    }
   ],
   "source": [
    "# Получим лучший классификатор:\n",
    "best_clf = grid_search_cv_clf.best_estimator_\n",
    "best_clf"
   ]
  },
  {
   "cell_type": "code",
   "execution_count": 106,
   "metadata": {},
   "outputs": [
    {
     "data": {
      "text/plain": [
       "0.7932203389830509"
      ]
     },
     "execution_count": 106,
     "metadata": {},
     "output_type": "execute_result"
    }
   ],
   "source": [
    "best_clf.score(X_test, y_test)"
   ]
  },
  {
   "cell_type": "code",
   "execution_count": 107,
   "metadata": {},
   "outputs": [],
   "source": [
    "# Предскажем погибших и выживших:\n",
    "y_pred = best_clf.predict(X_test)"
   ]
  },
  {
   "cell_type": "code",
   "execution_count": 108,
   "metadata": {},
   "outputs": [
    {
     "data": {
      "text/plain": [
       "0.8041237113402062"
      ]
     },
     "execution_count": 108,
     "metadata": {},
     "output_type": "execute_result"
    }
   ],
   "source": [
    "# Precision:\n",
    "precision_score(y_test, y_pred)"
   ]
  },
  {
   "cell_type": "code",
   "execution_count": 109,
   "metadata": {},
   "outputs": [
    {
     "data": {
      "text/plain": [
       "0.65"
      ]
     },
     "execution_count": 109,
     "metadata": {},
     "output_type": "execute_result"
    }
   ],
   "source": [
    "# Recall:\n",
    "recall_score(y_test, y_pred)"
   ]
  },
  {
   "cell_type": "markdown",
   "metadata": {},
   "source": [
    "## Повышаем Precision - понижаем Recall, и наоборот"
   ]
  },
  {
   "cell_type": "code",
   "execution_count": 110,
   "metadata": {},
   "outputs": [
    {
     "data": {
      "text/html": [
       "<div>\n",
       "<style scoped>\n",
       "    .dataframe tbody tr th:only-of-type {\n",
       "        vertical-align: middle;\n",
       "    }\n",
       "\n",
       "    .dataframe tbody tr th {\n",
       "        vertical-align: top;\n",
       "    }\n",
       "\n",
       "    .dataframe thead th {\n",
       "        text-align: right;\n",
       "    }\n",
       "</style>\n",
       "<table border=\"1\" class=\"dataframe\">\n",
       "  <thead>\n",
       "    <tr style=\"text-align: right;\">\n",
       "      <th></th>\n",
       "      <th>Вероятность погибнуть</th>\n",
       "      <th>вероятность выжить</th>\n",
       "    </tr>\n",
       "  </thead>\n",
       "  <tbody>\n",
       "    <tr>\n",
       "      <th>0</th>\n",
       "      <td>0.885246</td>\n",
       "      <td>0.114754</td>\n",
       "    </tr>\n",
       "    <tr>\n",
       "      <th>1</th>\n",
       "      <td>0.615385</td>\n",
       "      <td>0.384615</td>\n",
       "    </tr>\n",
       "    <tr>\n",
       "      <th>2</th>\n",
       "      <td>0.885246</td>\n",
       "      <td>0.114754</td>\n",
       "    </tr>\n",
       "    <tr>\n",
       "      <th>3</th>\n",
       "      <td>0.000000</td>\n",
       "      <td>1.000000</td>\n",
       "    </tr>\n",
       "    <tr>\n",
       "      <th>4</th>\n",
       "      <td>0.000000</td>\n",
       "      <td>1.000000</td>\n",
       "    </tr>\n",
       "  </tbody>\n",
       "</table>\n",
       "</div>"
      ],
      "text/plain": [
       "   Вероятность погибнуть  вероятность выжить\n",
       "0               0.885246            0.114754\n",
       "1               0.615385            0.384615\n",
       "2               0.885246            0.114754\n",
       "3               0.000000            1.000000\n",
       "4               0.000000            1.000000"
      ]
     },
     "execution_count": 110,
     "metadata": {},
     "output_type": "execute_result"
    }
   ],
   "source": [
    "# Вероятность отнесения пассажира к тому или иному классу:\n",
    "y_pred_prob = grid_search_cv_clf.predict_proba(X_test)\n",
    "pd.DataFrame(y_pred_prob, columns=['Вероятность погибнуть', 'вероятность выжить']).head()"
   ]
  },
  {
   "cell_type": "code",
   "execution_count": 111,
   "metadata": {},
   "outputs": [
    {
     "data": {
      "text/plain": [
       "array([0, 0, 0, 1, 1, 0, 1, 0, 1, 1, 1, 0, 0, 0, 0, 1, 0, 0, 0, 0, 0, 0,\n",
       "       0, 0, 0, 0, 0, 0, 0, 0, 0, 1, 0, 1, 0, 0, 0, 1, 1, 0, 0, 0, 0, 0,\n",
       "       0, 0, 0, 0, 0, 0, 1, 1, 0, 1, 0, 1, 0, 0, 1, 0, 0, 1, 1, 0, 0, 1,\n",
       "       0, 0, 0, 1, 0, 1, 1, 1, 0, 0, 1, 1, 1, 0, 0, 1, 1, 0, 0, 0, 1, 1,\n",
       "       0, 0, 0, 0, 0, 0, 0, 0, 0, 0, 1, 0, 0, 0, 1, 0, 0, 0, 1, 0, 0, 0,\n",
       "       1, 0, 1, 1, 0, 0, 0, 0, 1, 0, 0, 1, 1, 1, 0, 0, 1, 1, 0, 0, 0, 0,\n",
       "       0, 1, 1, 0, 1, 0, 0, 1, 0, 1, 0, 0, 0, 1, 0, 0, 1, 0, 0, 0, 0, 0,\n",
       "       0, 0, 0, 0, 1, 1, 0, 0, 0, 1, 0, 1, 0, 1, 0, 0, 0, 1, 1, 1, 0, 0,\n",
       "       0, 1, 1, 0, 0, 0, 0, 1, 1, 0, 0, 0, 0, 1, 0, 0, 0, 0, 1, 1, 1, 0,\n",
       "       1, 0, 0, 0, 1, 0, 0, 1, 0, 1, 0, 0, 1, 0, 1, 0, 0, 1, 0, 1, 0, 0,\n",
       "       0, 1, 0, 0, 0, 1, 0, 1, 1, 0, 0, 1, 0, 1, 0, 0, 1, 0, 1, 0, 0, 1,\n",
       "       0, 0, 0, 0, 0, 0, 0, 0, 1, 0, 0, 0, 0, 0, 0, 1, 0, 1, 1, 0, 1, 0,\n",
       "       0, 0, 0, 0, 1, 0, 1, 0, 0, 1, 1, 0, 0, 0, 1, 0, 0, 0, 1, 0, 0, 0,\n",
       "       0, 0, 1, 1, 0, 0, 1, 1, 0], dtype=int64)"
      ]
     },
     "execution_count": 111,
     "metadata": {},
     "output_type": "execute_result"
    }
   ],
   "source": [
    "# По умолчанию вероятность отнесения к классу конвертируется по отсечке 0.5\n",
    "y_pred"
   ]
  },
  {
   "cell_type": "code",
   "execution_count": 112,
   "metadata": {},
   "outputs": [
    {
     "data": {
      "text/plain": [
       "0    0.114754\n",
       "1    0.384615\n",
       "2    0.114754\n",
       "3    1.000000\n",
       "4    1.000000\n",
       "dtype: float64"
      ]
     },
     "execution_count": 112,
     "metadata": {},
     "output_type": "execute_result"
    }
   ],
   "source": [
    "# Отберем только вторую колонку, т.е. вероятность выжить:\n",
    "pd.Series(y_pred_prob[:, 1]).head()"
   ]
  },
  {
   "cell_type": "code",
   "execution_count": 113,
   "metadata": {},
   "outputs": [
    {
     "data": {
      "text/plain": [
       "<AxesSubplot:>"
      ]
     },
     "execution_count": 113,
     "metadata": {},
     "output_type": "execute_result"
    },
    {
     "data": {
      "image/png": "[encoded data removed]",
      "text/plain": [
       "<Figure size 648x432 with 1 Axes>"
      ]
     },
     "metadata": {},
     "output_type": "display_data"
    }
   ],
   "source": [
    "pd.Series(y_pred_prob[:, 1]).hist()"
   ]
  },
  {
   "cell_type": "code",
   "execution_count": 60,
   "metadata": {},
   "outputs": [
    {
     "data": {
      "text/plain": [
       "[0.0,\n",
       " 0.05263157894736842,\n",
       " 0.07692307692307693,\n",
       " 0.10526315789473684,\n",
       " 0.14418604651162792,\n",
       " 0.3939393939393939,\n",
       " 0.65625,\n",
       " 0.8775510204081632,\n",
       " 0.9852941176470589,\n",
       " 1.0]"
      ]
     },
     "execution_count": 60,
     "metadata": {},
     "output_type": "execute_result"
    }
   ],
   "source": [
    "sorted(\n",
    "    pd.Series(y_pred_prob[:, 1]).unique()\n",
    ")"
   ]
  },
  {
   "cell_type": "code",
   "execution_count": 114,
   "metadata": {},
   "outputs": [
    {
     "data": {
      "text/plain": [
       "array([0, 0, 0, 1, 1, 0, 0, 0, 0, 1, 1, 0, 0, 0, 0, 1, 0, 0, 0, 0, 0, 0,\n",
       "       0, 0, 0, 0, 0, 0, 0, 0, 0, 1, 0, 1, 0, 0, 0, 0, 1, 0, 0, 0, 0, 0,\n",
       "       0, 0, 0, 0, 0, 0, 1, 1, 0, 1, 0, 1, 0, 0, 1, 0, 0, 1, 1, 0, 0, 1,\n",
       "       0, 0, 0, 1, 0, 1, 1, 1, 0, 0, 0, 1, 1, 0, 0, 1, 1, 0, 0, 0, 1, 1,\n",
       "       0, 0, 0, 0, 0, 0, 0, 0, 0, 0, 1, 0, 0, 0, 1, 0, 0, 0, 1, 0, 0, 0,\n",
       "       1, 0, 1, 1, 0, 0, 0, 0, 1, 0, 0, 1, 1, 1, 0, 0, 1, 1, 0, 0, 0, 0,\n",
       "       0, 1, 1, 0, 1, 0, 0, 0, 0, 1, 0, 0, 0, 1, 0, 0, 1, 0, 0, 0, 0, 0,\n",
       "       0, 0, 0, 0, 1, 1, 0, 0, 0, 1, 0, 1, 0, 1, 0, 0, 0, 1, 1, 1, 0, 0,\n",
       "       0, 1, 0, 0, 0, 0, 0, 1, 1, 0, 0, 0, 0, 1, 0, 0, 0, 0, 1, 1, 1, 0,\n",
       "       1, 0, 0, 0, 1, 0, 0, 1, 0, 1, 0, 0, 1, 0, 1, 0, 0, 1, 0, 1, 0, 0,\n",
       "       0, 1, 0, 0, 0, 1, 0, 1, 1, 0, 0, 1, 0, 1, 0, 0, 1, 0, 1, 0, 0, 1,\n",
       "       0, 0, 0, 0, 0, 0, 0, 0, 1, 0, 0, 0, 0, 0, 0, 1, 0, 1, 1, 0, 1, 0,\n",
       "       0, 0, 0, 0, 1, 0, 1, 0, 0, 1, 1, 0, 0, 0, 1, 0, 0, 0, 1, 0, 0, 0,\n",
       "       0, 0, 1, 1, 0, 0, 1, 1, 0])"
      ]
     },
     "execution_count": 114,
     "metadata": {},
     "output_type": "execute_result"
    }
   ],
   "source": [
    "# Установим границу повыше на 0.8:\n",
    "y_pred = np.where(y_pred_prob[:, 1] > 0.8, 1, 0)\n",
    "y_pred"
   ]
  },
  {
   "cell_type": "code",
   "execution_count": 115,
   "metadata": {},
   "outputs": [
    {
     "data": {
      "text/plain": [
       "0.8131868131868132"
      ]
     },
     "execution_count": 115,
     "metadata": {},
     "output_type": "execute_result"
    }
   ],
   "source": [
    "# Precision стал больше:\n",
    "precision_score(y_test, y_pred)"
   ]
  },
  {
   "cell_type": "code",
   "execution_count": 116,
   "metadata": {},
   "outputs": [
    {
     "data": {
      "text/plain": [
       "0.6166666666666667"
      ]
     },
     "execution_count": 116,
     "metadata": {},
     "output_type": "execute_result"
    }
   ],
   "source": [
    "# Recall стал меньше:\n",
    "recall_score(y_test, y_pred)"
   ]
  },
  {
   "cell_type": "code",
   "execution_count": 117,
   "metadata": {},
   "outputs": [
    {
     "data": {
      "text/plain": [
       "array([1, 1, 1, 1, 1, 0, 1, 1, 1, 1, 1, 0, 0, 1, 0, 1, 0, 1, 1, 0, 1, 1,\n",
       "       1, 1, 1, 0, 1, 1, 0, 1, 1, 1, 1, 1, 1, 1, 1, 1, 1, 1, 0, 1, 1, 1,\n",
       "       0, 1, 1, 1, 1, 0, 1, 1, 0, 1, 0, 1, 1, 0, 1, 1, 1, 1, 1, 0, 1, 1,\n",
       "       0, 1, 1, 1, 0, 1, 1, 1, 1, 0, 1, 1, 1, 0, 0, 1, 1, 1, 1, 0, 1, 1,\n",
       "       0, 1, 1, 0, 1, 1, 1, 1, 0, 0, 1, 1, 0, 0, 1, 0, 1, 1, 1, 0, 1, 1,\n",
       "       1, 1, 1, 1, 1, 1, 1, 0, 1, 0, 1, 1, 1, 1, 1, 1, 1, 1, 0, 1, 1, 1,\n",
       "       1, 1, 1, 0, 1, 1, 0, 1, 1, 1, 1, 0, 0, 1, 1, 0, 1, 0, 1, 1, 1, 0,\n",
       "       1, 1, 1, 1, 1, 1, 1, 1, 0, 1, 1, 1, 1, 1, 1, 0, 0, 1, 1, 1, 1, 1,\n",
       "       0, 1, 1, 1, 1, 1, 1, 1, 1, 1, 1, 1, 1, 1, 0, 0, 1, 1, 1, 1, 1, 0,\n",
       "       1, 0, 0, 1, 1, 0, 1, 1, 1, 1, 1, 0, 1, 1, 1, 1, 0, 1, 0, 1, 0, 1,\n",
       "       1, 1, 1, 1, 1, 1, 1, 1, 1, 1, 0, 1, 1, 1, 1, 1, 1, 1, 1, 0, 1, 1,\n",
       "       1, 1, 0, 1, 1, 1, 1, 1, 1, 0, 1, 1, 0, 1, 1, 1, 0, 1, 1, 0, 1, 1,\n",
       "       0, 1, 1, 1, 1, 1, 1, 0, 0, 1, 1, 1, 1, 1, 1, 0, 1, 1, 1, 0, 1, 0,\n",
       "       1, 1, 1, 1, 1, 0, 1, 1, 1])"
      ]
     },
     "execution_count": 117,
     "metadata": {},
     "output_type": "execute_result"
    }
   ],
   "source": [
    "# Установим границу пониже:\n",
    "y_pred = np.where(y_pred_prob[:, 1] > 0.1, 1, 0)\n",
    "y_pred"
   ]
  },
  {
   "cell_type": "code",
   "execution_count": 118,
   "metadata": {},
   "outputs": [
    {
     "data": {
      "text/plain": [
       "0.4692982456140351"
      ]
     },
     "execution_count": 118,
     "metadata": {},
     "output_type": "execute_result"
    }
   ],
   "source": [
    "# Precision стал меньше:\n",
    "precision_score(y_test, y_pred)"
   ]
  },
  {
   "cell_type": "code",
   "execution_count": 119,
   "metadata": {},
   "outputs": [
    {
     "data": {
      "text/plain": [
       "0.8916666666666667"
      ]
     },
     "execution_count": 119,
     "metadata": {},
     "output_type": "execute_result"
    }
   ],
   "source": [
    "# Recall стал больше:\n",
    "recall_score(y_test, y_pred)"
   ]
  },
  {
   "cell_type": "code",
   "execution_count": 121,
   "metadata": {},
   "outputs": [
    {
     "name": "stderr",
     "output_type": "stream",
     "text": [
      "C:\\Users\\csc20\\Anaconda3\\lib\\site-packages\\sklearn\\utils\\deprecation.py:87: FutureWarning: Function plot_roc_curve is deprecated; Function :func:`plot_roc_curve` is deprecated in 1.0 and will be removed in 1.2. Use one of the class methods: :meth:`sklearn.metric.RocCurveDisplay.from_predictions` or :meth:`sklearn.metric.RocCurveDisplay.from_estimator`.\n",
      "  warnings.warn(msg, category=FutureWarning)\n"
     ]
    },
    {
     "data": {
      "image/png": "[encoded data removed]",
      "text/plain": [
       "<Figure size 648x432 with 1 Axes>"
      ]
     },
     "metadata": {},
     "output_type": "display_data"
    }
   ],
   "source": [
    "# Построим ROC-кривую:\n",
    "plot_roc_curve(best_clf, X_test, y_test);"
   ]
  },
  {
   "cell_type": "code",
   "execution_count": 123,
   "metadata": {},
   "outputs": [
    {
     "name": "stderr",
     "output_type": "stream",
     "text": [
      "C:\\Users\\csc20\\Anaconda3\\lib\\site-packages\\sklearn\\utils\\deprecation.py:87: FutureWarning: Function plot_precision_recall_curve is deprecated; Function `plot_precision_recall_curve` is deprecated in 1.0 and will be removed in 1.2. Use one of the class methods: PrecisionRecallDisplay.from_predictions or PrecisionRecallDisplay.from_estimator.\n",
      "  warnings.warn(msg, category=FutureWarning)\n"
     ]
    },
    {
     "data": {
      "image/png": "[encoded data removed]",
      "text/plain": [
       "<Figure size 648x432 with 1 Axes>"
      ]
     },
     "metadata": {},
     "output_type": "display_data"
    }
   ],
   "source": [
    "# Построим ROC-кривую по осям которой Precision и Recall:\n",
    "plot_precision_recall_curve(best_clf, X_test, y_test);"
   ]
  },
  {
   "cell_type": "code",
   "execution_count": 124,
   "metadata": {},
   "outputs": [
    {
     "name": "stderr",
     "output_type": "stream",
     "text": [
      "C:\\Users\\csc20\\Anaconda3\\lib\\site-packages\\sklearn\\utils\\deprecation.py:87: FutureWarning: Function plot_confusion_matrix is deprecated; Function `plot_confusion_matrix` is deprecated in 1.0 and will be removed in 1.2. Use one of the class methods: ConfusionMatrixDisplay.from_predictions or ConfusionMatrixDisplay.from_estimator.\n",
      "  warnings.warn(msg, category=FutureWarning)\n"
     ]
    },
    {
     "data": {
      "image/png": "[encoded data removed]",
      "text/plain": [
       "<Figure size 648x432 with 2 Axes>"
      ]
     },
     "metadata": {},
     "output_type": "display_data"
    }
   ],
   "source": [
    "# Построим onfusion matrix:\n",
    "plot_confusion_matrix(best_clf, X_test, y_test);"
   ]
  }
 ],
 "metadata": {
  "kernelspec": {
   "display_name": "Python 3 (ipykernel)",
   "language": "python",
   "name": "python3"
  },
  "language_info": {
   "codemirror_mode": {
    "name": "ipython",
    "version": 3
   },
   "file_extension": ".py",
   "mimetype": "text/x-python",
   "name": "python",
   "nbconvert_exporter": "python",
   "pygments_lexer": "ipython3",
   "version": "3.9.12"
  }
 },
 "nbformat": 4,
 "nbformat_minor": 2
}
