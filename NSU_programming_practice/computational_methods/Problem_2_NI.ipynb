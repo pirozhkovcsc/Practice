{
 "cells": [
  {
   "cell_type": "markdown",
   "id": "afe89380",
   "metadata": {},
   "source": [
    "## Задача 2."
   ]
  },
  {
   "cell_type": "markdown",
   "id": "b150ebca",
   "metadata": {},
   "source": [
    "Здесь будут реализованы методы численного интегрирования. Данную задачу можно посмотреть [здесь](https://drive.google.com/file/d/1q3XLkKtb8e6DBn_5X1EbbFHuSAXN0j6k/view), она находится под номером 2."
   ]
  },
  {
   "cell_type": "code",
   "execution_count": 1,
   "id": "b8cdbf49",
   "metadata": {},
   "outputs": [],
   "source": [
    "import numpy as np"
   ]
  },
  {
   "cell_type": "markdown",
   "id": "37df6dc5",
   "metadata": {},
   "source": [
    "Определим сразу все возможные функции для нашей задачи."
   ]
  },
  {
   "cell_type": "code",
   "execution_count": 2,
   "id": "eb325afb",
   "metadata": {},
   "outputs": [],
   "source": [
    "def f_1(x):\n",
    "    return np.sin(x)\n",
    "\n",
    "\n",
    "def f_2(x):\n",
    "    return (x - 1) / (np.log(x))\n",
    "\n",
    "\n",
    "def f_3(x):\n",
    "    return np.abs(x)"
   ]
  },
  {
   "cell_type": "markdown",
   "id": "956afacc",
   "metadata": {},
   "source": [
    "Заведем функцию `sympson`, она будет отвечать за приближенное вычисление интеграла от функции $f(x)$ на отрезке $[x_i, x_{i+1}]$."
   ]
  },
  {
   "cell_type": "code",
   "execution_count": 3,
   "id": "4dc9b3ef",
   "metadata": {},
   "outputs": [],
   "source": [
    "def sympson(x_0, x_2, f):\n",
    "    return (f(x_0) + 4 * f((x_0 + x_2) / 2) + f(x_2)) * (x_2 - x_0) / 6"
   ]
  },
  {
   "cell_type": "markdown",
   "id": "e80f05e3",
   "metadata": {},
   "source": [
    "Заведем функцию gauss, она будет отвечать за приближенное вычисление интеграла от функции $f(x)$ на отрезке $[x_i, x_{i+1}]$."
   ]
  },
  {
   "cell_type": "markdown",
   "id": "fc37c0c7",
   "metadata": {},
   "source": [
    "Будем делать следующим образом: заметим, что (смотреть [здесь](https://scask.ru/i_book_clm.php?id=101))\n",
    "$$ f(t) = \\frac{a+b}{2} + \\frac{b-a}{2}t $$\n",
    "биективное отображение отрезка $[-1, 1]$ в отрезок $[a, b]$. Стало быть, достаточно знать узлы и веса на отрезке $[-1, 1]$. В нашей задаче 3 узла. Можно либо решать СЛАУ, либо найти значения вот [здесь](http://aco.ifmo.ru/el_books/numerical_methods/lectures/glava2_3.html). Заведем два `np.array` под них:"
   ]
  },
  {
   "cell_type": "code",
   "execution_count": 4,
   "id": "c40acf76",
   "metadata": {},
   "outputs": [],
   "source": [
    "nodes = np.array([-0.7745967, 0, 0.7745967]) # узлы\n",
    "weights = np.array([0.5555556, 0.8888889, 0.5555556]) # веса"
   ]
  },
  {
   "cell_type": "code",
   "execution_count": 5,
   "id": "3e69e4dd",
   "metadata": {},
   "outputs": [],
   "source": [
    "def gauss(x_0, x_1, f):\n",
    "    new_nodes = (x_0 + x_1) / 2 + (x_1 - x_0) / 2 * nodes\n",
    "    return f(new_nodes.T) @ weights"
   ]
  },
  {
   "cell_type": "markdown",
   "id": "e20e5f4d",
   "metadata": {},
   "source": [
    "Теперь заведем функцию, которая будет по составной квадратурной формуле считать интеграл. На вход подается метод, пределы интегрирования, количество интервалов и функция. В методе Гаусса в конце нужно домножить на $(b-a)/2n$, так как делали замену переменных в интеграле на каждом промежутке и всегда вылетал якобиан $(b-a)/2n$!"
   ]
  },
  {
   "cell_type": "code",
   "execution_count": 6,
   "id": "5dfdfa78",
   "metadata": {},
   "outputs": [],
   "source": [
    "def NI(name='sympson', a=0, b=np.pi, n=100, function=f_1): # По дефолту считаем интеграл от sin(x) на [0, pi] методом Симпсона\n",
    "    total = 0\n",
    "    grid = np.linspace(start=a, stop=b, num=(n + 1)) # Равномерная сетка\n",
    "    if name == 'sympson':\n",
    "        for i in range(n):\n",
    "            total += sympson(grid[i], grid[i + 1], function)\n",
    "        return total\n",
    "    elif name == 'gauss':\n",
    "        for i in range(n):\n",
    "            total += gauss(grid[i], grid[i + 1], function)\n",
    "        return (b - a) / (2 * n) * total"
   ]
  },
  {
   "cell_type": "markdown",
   "id": "9a1b9863",
   "metadata": {},
   "source": [
    "# Метод Симпсона"
   ]
  },
  {
   "cell_type": "markdown",
   "id": "60426463",
   "metadata": {},
   "source": [
    "Можно смотреть [здесь](https://ru.wikipedia.org/wiki/Формула_Симпсона)."
   ]
  },
  {
   "cell_type": "markdown",
   "id": "84315a5c",
   "metadata": {},
   "source": [
    "## Compute"
   ]
  },
  {
   "cell_type": "markdown",
   "id": "97b183e2",
   "metadata": {},
   "source": [
    "**Вычислим все три интеграла на равномерной сетке со 100 интервалами методом Симпсона.**"
   ]
  },
  {
   "cell_type": "code",
   "execution_count": 7,
   "id": "d14b3e5b",
   "metadata": {},
   "outputs": [],
   "source": [
    "num_1 = NI('sympson', 0, np.pi, 100)"
   ]
  },
  {
   "cell_type": "code",
   "execution_count": 8,
   "id": "afeb0f59",
   "metadata": {},
   "outputs": [
    {
     "name": "stdout",
     "output_type": "stream",
     "text": [
      "Для первой функции: 2.0000000006764718\n"
     ]
    }
   ],
   "source": [
    "print(f'Для первой функции: {num_1}')"
   ]
  },
  {
   "cell_type": "code",
   "execution_count": 9,
   "id": "afe33a13",
   "metadata": {
    "scrolled": true
   },
   "outputs": [
    {
     "name": "stderr",
     "output_type": "stream",
     "text": [
      "C:\\Users\\csc20\\AppData\\Local\\Temp\\ipykernel_10700\\1762032353.py:6: RuntimeWarning: divide by zero encountered in log\n",
      "  return (x - 1) / (np.log(x))\n",
      "C:\\Users\\csc20\\AppData\\Local\\Temp\\ipykernel_10700\\1762032353.py:6: RuntimeWarning: invalid value encountered in double_scalars\n",
      "  return (x - 1) / (np.log(x))\n"
     ]
    }
   ],
   "source": [
    "num_2 = NI('sympson', 0, 10, 100, f_2) # Здесь пытались считать f(0), а оно не определено, так как возникает деление на ноль"
   ]
  },
  {
   "cell_type": "code",
   "execution_count": 10,
   "id": "053ec2e3",
   "metadata": {},
   "outputs": [
    {
     "name": "stdout",
     "output_type": "stream",
     "text": [
      "Для второй функции: nan\n"
     ]
    }
   ],
   "source": [
    "print(f'Для второй функции: {num_2}')"
   ]
  },
  {
   "cell_type": "code",
   "execution_count": 11,
   "id": "916965a5",
   "metadata": {},
   "outputs": [],
   "source": [
    "num_3 = NI('sympson', -1, 2, 100, f_3)"
   ]
  },
  {
   "cell_type": "code",
   "execution_count": 12,
   "id": "278e209d",
   "metadata": {
    "scrolled": true
   },
   "outputs": [
    {
     "name": "stdout",
     "output_type": "stream",
     "text": [
      "Для третьей функции: 2.4999999999999996\n"
     ]
    }
   ],
   "source": [
    "print(f'Для третьей функции: {num_3}')"
   ]
  },
  {
   "cell_type": "markdown",
   "id": "8f3f8b74",
   "metadata": {},
   "source": [
    "Очевидно, вторая функция не определена в 0 и 1. Если попробовать доопределить 0 и 1 в точках 0, 1 по непрерывности, то уже результат будет."
   ]
  },
  {
   "cell_type": "code",
   "execution_count": 13,
   "id": "cacc04e4",
   "metadata": {},
   "outputs": [],
   "source": [
    "def f_2_1(x):\n",
    "    if x in [0, 1]:\n",
    "        return x\n",
    "    return (x - 1) / np.log(x)"
   ]
  },
  {
   "cell_type": "code",
   "execution_count": 14,
   "id": "8cab24cd",
   "metadata": {},
   "outputs": [],
   "source": [
    "num_2_1 = NI('sympson', 0, 10, 100, f_2_1)"
   ]
  },
  {
   "cell_type": "code",
   "execution_count": 15,
   "id": "10b12e8d",
   "metadata": {
    "scrolled": true
   },
   "outputs": [
    {
     "name": "stdout",
     "output_type": "stream",
     "text": [
      "Для второй функции (измененной): 23.957634906766412\n"
     ]
    }
   ],
   "source": [
    "print(f'Для второй функции (измененной): {num_2_1}')"
   ]
  },
  {
   "cell_type": "markdown",
   "id": "f25aac2f",
   "metadata": {},
   "source": [
    "**Теперь воспользуемся апостериорной оценкой Рунге и предскажем порядок.**"
   ]
  },
  {
   "cell_type": "markdown",
   "id": "6a74422e",
   "metadata": {},
   "source": [
    "## Апостериорная оценка Рунге"
   ]
  },
  {
   "cell_type": "markdown",
   "id": "e6ff256d",
   "metadata": {},
   "source": [
    "### Case 1"
   ]
  },
  {
   "cell_type": "code",
   "execution_count": 16,
   "id": "8943e38d",
   "metadata": {},
   "outputs": [
    {
     "name": "stdout",
     "output_type": "stream",
     "text": [
      "Для 200 интервалов: 2.0000000000422786\n",
      "Для 400 интервалов: 2.000000000002641\n",
      "Для 800 интервалов: 2.000000000000163\n"
     ]
    }
   ],
   "source": [
    "f_1_200 = NI('sympson', 0, np.pi, 200)\n",
    "f_1_400 = NI('sympson', 0, np.pi, 400)\n",
    "f_1_800 = NI('sympson', 0, np.pi, 800)\n",
    "print(f'Для 200 интервалов: {f_1_200}\\nДля 400 интервалов: {f_1_400}\\nДля 800 интервалов: {f_1_800}')"
   ]
  },
  {
   "cell_type": "markdown",
   "id": "fd42bbb6",
   "metadata": {},
   "source": [
    "Апостериорная оценка Рунге. Определение порядка точности квадратурной формулы при неизвестном точном значение интеграла\n",
    "$$ \\frac{I_{h/2} - I_{h}}{I_{h/4} - I_{h/2}} \\thickapprox 2^p, $$\n",
    "где $I_h$ - приближенное значение интеграла на равномерной сетке с длинной интервала $h=(b-a)/n$, а $p$ - порядок точности квадратурной формулы. У метода Симпсона $p=4$."
   ]
  },
  {
   "cell_type": "code",
   "execution_count": 17,
   "id": "ffcf279b",
   "metadata": {},
   "outputs": [
    {
     "data": {
      "text/plain": [
       "3.999612126616594"
      ]
     },
     "execution_count": 17,
     "metadata": {},
     "output_type": "execute_result"
    }
   ],
   "source": [
    "np.log2((f_1_400 - f_1_200)/(f_1_800 - f_1_400))"
   ]
  },
  {
   "cell_type": "markdown",
   "id": "1b59fc6a",
   "metadata": {},
   "source": [
    "Как мы видим, предсказанный порядок примерно 4, что соответствует теоретической оценке."
   ]
  },
  {
   "cell_type": "markdown",
   "id": "41667696",
   "metadata": {},
   "source": [
    "Аналогично сделаем для двух оставшихся функций."
   ]
  },
  {
   "cell_type": "markdown",
   "id": "a3d0742b",
   "metadata": {},
   "source": [
    "### Case 2"
   ]
  },
  {
   "cell_type": "markdown",
   "id": "f2d6e293",
   "metadata": {},
   "source": [
    "Мы уже говорили о том, что у функции есть проблемы в двух точках, поэтому нет смысла считать в лоб, поэтому сделаем, как уже делали до этого, то есть используем новую функцию (с доопределенными значениями в нуле и единице)."
   ]
  },
  {
   "cell_type": "code",
   "execution_count": 18,
   "id": "8dd696fd",
   "metadata": {},
   "outputs": [
    {
     "name": "stdout",
     "output_type": "stream",
     "text": [
      "Для 200 интервалов: 23.959238139005326\n",
      "Для 400 интервалов: 23.959951648167202\n",
      "Для 800 интервалов: 23.96027253587817\n"
     ]
    }
   ],
   "source": [
    "f_2_1_200 = NI('sympson', 0, 10, 200, f_2_1)\n",
    "f_2_1_400 = NI('sympson', 0, 10, 400, f_2_1)\n",
    "f_2_1_800 = NI('sympson', 0, 10, 800, f_2_1)\n",
    "print(f'Для 200 интервалов: {f_2_1_200}\\nДля 400 интервалов: {f_2_1_400}\\nДля 800 интервалов: {f_2_1_800}')"
   ]
  },
  {
   "cell_type": "markdown",
   "id": "40e8b015",
   "metadata": {},
   "source": [
    "В итоге получим некоторый порядок:"
   ]
  },
  {
   "cell_type": "code",
   "execution_count": 19,
   "id": "1ce1348b",
   "metadata": {},
   "outputs": [
    {
     "data": {
      "text/plain": [
       "1.1528634150716075"
      ]
     },
     "execution_count": 19,
     "metadata": {},
     "output_type": "execute_result"
    }
   ],
   "source": [
    "np.log2((f_2_1_400 - f_2_1_200)/(f_2_1_800 - f_2_1_400))"
   ]
  },
  {
   "cell_type": "markdown",
   "id": "5dc776f4",
   "metadata": {},
   "source": [
    "Получился порядок, который вообще не сходится с теоретическим. Дело в том, что в апостериорной оценке Рунге мы пользовались предположением\n",
    "$$ I - I_h \\thickapprox Ch^p(b-a), $$\n",
    "для некоторой константы $C$. Но проблема в том, что у функции производные в нуле и единице улетают на бесконечность, а значит ни о какой формуле Тейлора с остаточным членом в форме Лагранжа нет и речи."
   ]
  },
  {
   "cell_type": "markdown",
   "id": "f228220c",
   "metadata": {},
   "source": [
    "### Case 3"
   ]
  },
  {
   "cell_type": "code",
   "execution_count": 20,
   "id": "857cfe58",
   "metadata": {},
   "outputs": [
    {
     "name": "stdout",
     "output_type": "stream",
     "text": [
      "Для 200 интервалов: 2.5\n",
      "Для 400 интервалов: 2.5\n",
      "Для 800 интервалов: 2.4999999999999973\n"
     ]
    }
   ],
   "source": [
    "f_3_200 = NI('sympson', -1, 2, 200, f_3)\n",
    "f_3_400 = NI('sympson', -1, 2, 400, f_3)\n",
    "f_3_800 = NI('sympson', -1, 2, 800, f_3)\n",
    "print(f'Для 200 интервалов: {f_3_200}\\nДля 400 интервалов: {f_3_400}\\nДля 800 интервалов: {f_3_800}')"
   ]
  },
  {
   "cell_type": "code",
   "execution_count": 21,
   "id": "a7e3d46f",
   "metadata": {},
   "outputs": [
    {
     "name": "stderr",
     "output_type": "stream",
     "text": [
      "C:\\Users\\csc20\\AppData\\Local\\Temp\\ipykernel_10700\\2072337812.py:1: RuntimeWarning: divide by zero encountered in log2\n",
      "  np.log2((f_3_400 - f_3_200)/(f_3_800 - f_3_400))\n"
     ]
    },
    {
     "data": {
      "text/plain": [
       "-inf"
      ]
     },
     "execution_count": 21,
     "metadata": {},
     "output_type": "execute_result"
    }
   ],
   "source": [
    "np.log2((f_3_400 - f_3_200)/(f_3_800 - f_3_400))"
   ]
  },
  {
   "cell_type": "markdown",
   "id": "787e7bde",
   "metadata": {},
   "source": [
    "Здесь же опять у нас возникают проблемы, ведь функция не дифф. в нуле."
   ]
  },
  {
   "cell_type": "markdown",
   "id": "aa08b998",
   "metadata": {},
   "source": [
    "## Априорная оценка"
   ]
  },
  {
   "cell_type": "markdown",
   "id": "24eb22aa",
   "metadata": {},
   "source": [
    "Априорная оценка для достаточно гладкой функции $f(x)$ на равномерной сетке с шагом $h=(b-a)/n$ при вычисление приближенного значения $I_h$ интеграла $I$ имеет вид\n",
    "$$ \\mid I-I_{h}\\mid \\leq \\frac{M_4(b-a)h^4}{2880}, $$\n",
    "где $M_4$ -- максимум 4 производной на всем отрезке $[a, b]$."
   ]
  },
  {
   "cell_type": "markdown",
   "id": "f80609f0",
   "metadata": {},
   "source": [
    "Из - за того, что у второй функции 4 производная улетает на бесконечность в точках 0 и 1, то отсюда следует, что ни о какой хорошей оценке нет и речи."
   ]
  },
  {
   "cell_type": "markdown",
   "id": "b8a993f6",
   "metadata": {},
   "source": [
    "У третьей функции 4 производная тождественно ноль всюду, за исключением точки 0, в которой ее просто нет. Поэтому снова не получится сделать качественную оценку."
   ]
  },
  {
   "cell_type": "markdown",
   "id": "7d252f7d",
   "metadata": {},
   "source": [
    "Разберемся с первой функцией (найдём погрешность). Так как 4 производная у $\\sin(x)$ -- это снова $\\sin(x)$, а также на отрезке $[0, \\pi]$ у $\\sin(x)$ максимум находится в точке $\\pi/2$ и равен 1, тогда при $n=100$ получаем следующее:\n",
    "$$ \\mid I-I_{h}\\mid \\leq \\frac{\\pi^5}{2880\\cdot100^4} = 1.062568e-09 $$"
   ]
  },
  {
   "cell_type": "code",
   "execution_count": 22,
   "id": "bc56ff96",
   "metadata": {},
   "outputs": [
    {
     "name": "stdout",
     "output_type": "stream",
     "text": [
      "1.062568e-09\n"
     ]
    }
   ],
   "source": [
    "aprior = round((np.pi ** 5) / (2880 * 100 ** 4), 15)\n",
    "print(aprior)"
   ]
  },
  {
   "cell_type": "markdown",
   "id": "2f80ef28",
   "metadata": {},
   "source": [
    "С другой стороны, используем апостериорную оценку Рунге\n",
    "$$ I-I_h \\thickapprox \\frac{2^p(I_{h/2} - I_h)}{2^p-1}, $$\n",
    "где $p=4$ в методе Симпсона."
   ]
  },
  {
   "cell_type": "markdown",
   "id": "e3320699",
   "metadata": {},
   "source": [
    "Тогда получаем:"
   ]
  },
  {
   "cell_type": "code",
   "execution_count": 23,
   "id": "fb081ff4",
   "metadata": {
    "scrolled": true
   },
   "outputs": [
    {
     "name": "stdout",
     "output_type": "stream",
     "text": [
      "-6.76473e-10\n"
     ]
    }
   ],
   "source": [
    "apost = round(2 ** 4 * (f_1_200 - num_1)/(2 ** 4 - 1), 15)\n",
    "print(apost)"
   ]
  },
  {
   "cell_type": "markdown",
   "id": "b473e901",
   "metadata": {},
   "source": [
    "В итоге получаем, что апостериорная оценка (по модулю) дала меньшую погрешность, чем априорная. Что и есть хороший знак."
   ]
  },
  {
   "cell_type": "code",
   "execution_count": 24,
   "id": "f2d1175b",
   "metadata": {
    "scrolled": true
   },
   "outputs": [
    {
     "data": {
      "text/plain": [
       "True"
      ]
     },
     "execution_count": 24,
     "metadata": {},
     "output_type": "execute_result"
    }
   ],
   "source": [
    "abs(apost) < aprior"
   ]
  },
  {
   "cell_type": "markdown",
   "id": "b539ef98",
   "metadata": {},
   "source": [
    "# Метод Гаусса"
   ]
  },
  {
   "cell_type": "markdown",
   "id": "2f141fce",
   "metadata": {},
   "source": [
    "## Compute"
   ]
  },
  {
   "cell_type": "markdown",
   "id": "12bfec07",
   "metadata": {},
   "source": [
    "**Вычислим все три интеграла на равномерной сетке со 100 интервалами методом Гаусса.**"
   ]
  },
  {
   "cell_type": "code",
   "execution_count": 25,
   "id": "bfd33dc3",
   "metadata": {},
   "outputs": [],
   "source": [
    "num_4 = NI('gauss', 0, np.pi, 100)"
   ]
  },
  {
   "cell_type": "code",
   "execution_count": 26,
   "id": "3ccc3104",
   "metadata": {},
   "outputs": [
    {
     "name": "stdout",
     "output_type": "stream",
     "text": [
      "Для первой функции: 2.000000099991001\n"
     ]
    }
   ],
   "source": [
    "print(f'Для первой функции: {num_4}')"
   ]
  },
  {
   "cell_type": "code",
   "execution_count": 27,
   "id": "e5ef2409",
   "metadata": {
    "scrolled": true
   },
   "outputs": [],
   "source": [
    "num_5 = NI('gauss', 0, 10, 100, f_2)"
   ]
  },
  {
   "cell_type": "code",
   "execution_count": 28,
   "id": "c66e1906",
   "metadata": {},
   "outputs": [
    {
     "name": "stdout",
     "output_type": "stream",
     "text": [
      "Для второй функции: 23.960650868600275\n"
     ]
    }
   ],
   "source": [
    "print(f'Для второй функции: {num_5}') # Заметим, что все хорошо посчиталось, так получилось, что мы не попали в 0 и 1"
   ]
  },
  {
   "cell_type": "code",
   "execution_count": 29,
   "id": "0941ff49",
   "metadata": {},
   "outputs": [],
   "source": [
    "num_6 = NI('gauss', -1, 2, 100, f_3)"
   ]
  },
  {
   "cell_type": "code",
   "execution_count": 30,
   "id": "603f004b",
   "metadata": {
    "scrolled": true
   },
   "outputs": [
    {
     "name": "stdout",
     "output_type": "stream",
     "text": [
      "Для третьей функции: 2.500010440845493\n"
     ]
    }
   ],
   "source": [
    "print(f'Для третьей функции: {num_6}')"
   ]
  },
  {
   "cell_type": "markdown",
   "id": "3d7440e0",
   "metadata": {},
   "source": [
    "## Априорная оценка"
   ]
  },
  {
   "cell_type": "markdown",
   "id": "6540fca7",
   "metadata": {},
   "source": [
    "Априорная оценка для квадратур Гаусса при достаточно гладкой функции $f(x)$ на равномерной сетке с шагом $h=(b-a)/N$ при вычисление приближенного значения $I_h$ интеграла $I$ имеет вид:\n",
    "$$ \\mid I - I_h\\mid < \\frac{M_{2n}\\cdot (b-a)\\cdot h^{2n}}{(2n+1)\\cdot(n!)^2}, $$\n",
    "где $M_{2n}$ -- максимум $2n$ производной на отрезке $[a, b]$. **Обратим внимание, $n$ - количество узлов, а $N$ - интервалов!**"
   ]
  },
  {
   "cell_type": "markdown",
   "id": "35359b36",
   "metadata": {},
   "source": [
    "Покажем порядок на первой функции (с остальными уже поняли, что так не получится). У нас $n=3$, поэтому и порядок должен быть равен 6. Можно показать это с помощью апостериорной оценки Рунге, как мы это делали раньше."
   ]
  },
  {
   "cell_type": "code",
   "execution_count": 32,
   "id": "64deba36",
   "metadata": {},
   "outputs": [
    {
     "name": "stdout",
     "output_type": "stream",
     "text": [
      "Для 2 интервалов: 2.0000163194296157\n",
      "Для 40 интервалов: 2.000000332126719\n",
      "Для 80 интервалов: 2.000000102246964\n"
     ]
    },
    {
     "data": {
      "text/plain": [
       "6.1199033442234345"
      ]
     },
     "execution_count": 32,
     "metadata": {},
     "output_type": "execute_result"
    }
   ],
   "source": [
    "g_1_2 = NI('gauss', 0, np.pi, 2)\n",
    "g_1_4 = NI('gauss', 0, np.pi, 4)\n",
    "g_1_8 = NI('gauss', 0, np.pi, 8)\n",
    "print(f'Для 2 интервалов: {g_1_2}\\nДля 40 интервалов: {g_1_4}\\nДля 80 интервалов: {g_1_8}')\n",
    "\n",
    "np.log2((g_1_4 - g_1_2)/(g_1_8 - g_1_4))"
   ]
  },
  {
   "cell_type": "markdown",
   "id": "7de6c157",
   "metadata": {},
   "source": [
    "Получили примерно 6, что соответствует теоретической оценке."
   ]
  }
 ],
 "metadata": {
  "kernelspec": {
   "display_name": "Python 3 (ipykernel)",
   "language": "python",
   "name": "python3"
  },
  "language_info": {
   "codemirror_mode": {
    "name": "ipython",
    "version": 3
   },
   "file_extension": ".py",
   "mimetype": "text/x-python",
   "name": "python",
   "nbconvert_exporter": "python",
   "pygments_lexer": "ipython3",
   "version": "3.9.12"
  }
 },
 "nbformat": 4,
 "nbformat_minor": 5
}
