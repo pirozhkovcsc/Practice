{
 "cells": [
  {
   "cell_type": "markdown",
   "id": "43db0900",
   "metadata": {},
   "source": [
    "## Задача 3."
   ]
  },
  {
   "cell_type": "markdown",
   "id": "0846ad90",
   "metadata": {},
   "source": [
    "Итак, формулировку задачи как обычно можно посмотреть [здесь](https://classroom.google.com/u/1/c/NDQ0NzkwNDEzMjc3). Выведем из условия систему диффуров, чтобы найти координаты движения Земли."
   ]
  },
  {
   "cell_type": "markdown",
   "id": "0d6de429",
   "metadata": {},
   "source": [
    "*Замечание*: всюду далее $\\overrightarrow{r} = \\overrightarrow{r(t)} = (x(t), y(t))$.\n",
    "\n",
    "Так как \n",
    "$$ F = \\frac{G\\cdot m_1\\cdot m_2}{\\|r\\|^2} ,$$\n",
    "то в силу второго закона Ньютона, а также учитывая, что Земля притягивается к Солнцу, получаем\n",
    "$$ \\overrightarrow{F} = \\ddot{\\overrightarrow{r}}\\cdot m_2 = \\frac{G\\cdot m_1\\cdot m_2\\cdot(-\\overrightarrow{r})}{\\|r\\|^3}. $$\n",
    "Это можно записать покоординатно, тогда получим систему\n",
    "$$\n",
    "\\begin{cases}\n",
    "   \\ddot{x} = \\frac{-G\\cdot m_1\\cdot x}{\\|r\\|^3},\\\\\n",
    "   \\ddot{y} = \\frac{-G\\cdot m_1\\cdot y}{\\|r\\|^3}.\n",
    " \\end{cases}\n",
    "$$\n",
    "Можно также превратить эту систему из двух уравнений, в систему из 4 уравнений. Для этого воспользуемся тем, что вектор скорости имеет вид (покомпонентно) $(u, v) = (\\dot{x}, \\dot{y})$, а вектор ускорения $(\\dot{u}, \\dot{v}) = (\\ddot{x}, \\ddot{y})$, тогда получаем:\n",
    "$$\n",
    "\\begin{cases}\n",
    "   \\dot{u} = \\frac{-G\\cdot m_1\\cdot x}{\\|r\\|^3},\\\\\n",
    "   \\dot{x} = u,\\\\\n",
    "   \\dot{v} = \\frac{-G\\cdot m_1\\cdot y}{\\|r\\|^3},\\\\\n",
    "   \\dot{y} = v.\n",
    " \\end{cases}\n",
    "$$\n",
    "Осталось учесть граничные условия. Вспомним, что $x(0) = R, y(0) = 0, u(0) = 0, v(0) = V$. Отсюда получаем\n",
    "$$\n",
    "\\begin{cases}\n",
    "   \\dot{u} = \\frac{-G\\cdot m_1\\cdot x}{\\sqrt{x^2 + y^2}^3},\\\\\n",
    "   \\dot{x} = u,\\\\\n",
    "   \\dot{v} = \\frac{-G\\cdot m_1\\cdot y}{\\sqrt{x^2 + y^2}^3},\\\\\n",
    "   \\dot{y} = v,\\\\\n",
    "   x(0) = R, y(0) = 0, u(0) = 0, v(0) = V.\n",
    " \\end{cases}\n",
    "$$\n",
    "\n",
    "Теперь эту систему решим с помощью метода Эйлера, его можно посмотреть [здесь](https://mipt.ru/drec/forstudents/study/studyMaterials/3kurs/vych_math_2.pdf)."
   ]
  },
  {
   "cell_type": "code",
   "execution_count": 1,
   "id": "f637cc4d",
   "metadata": {},
   "outputs": [],
   "source": [
    "# Packages\n",
    "import numpy as np\n",
    "import pandas as pd\n",
    "import seaborn as sns\n",
    "import matplotlib.pyplot as plt"
   ]
  },
  {
   "cell_type": "markdown",
   "id": "7bde53f0",
   "metadata": {},
   "source": [
    "Итак, пересчитаем все в астрономических единицах. После этого получим уже другие значения:"
   ]
  },
  {
   "cell_type": "markdown",
   "id": "01b18c7b",
   "metadata": {},
   "source": [
    "При пересчете в астрономические единицы мы получим другие значения:"
   ]
  },
  {
   "cell_type": "code",
   "execution_count": 2,
   "id": "8b96321e",
   "metadata": {},
   "outputs": [],
   "source": [
    "# Time in years\n",
    "\n",
    "R = 1  # R\n",
    "mg = 4 * np.pi ** 2  # G * m_1\n",
    "V = 2 * np.pi  # V"
   ]
  },
  {
   "cell_type": "markdown",
   "id": "d3aa95e9",
   "metadata": {},
   "source": [
    "Наконец, напишем основную функцию."
   ]
  },
  {
   "cell_type": "code",
   "execution_count": 3,
   "id": "6f2e7c38",
   "metadata": {},
   "outputs": [],
   "source": [
    "def ODU(type_grid='days', period=1, years=5):  # Default: days and one period (years=5)\n",
    "    u_prev, x_prev, v_prev, y_prev = 0, R, V, 0  # Initial  data\n",
    "    \n",
    "    data = {  # Dictionary with data\n",
    "            'u_arr': [u_prev],  \n",
    "            'x_arr': [x_prev],\n",
    "            'v_arr': [v_prev],\n",
    "            'y_arr': [y_prev]\n",
    "           }\n",
    "    \n",
    "    if type_grid == 'seconds':  # Check the type\n",
    "        n = years * 365 * 24 * 60 * 60\n",
    "    elif type_grid == 'minutes':\n",
    "        n = years * 365 * 24 * 60\n",
    "    elif type_grid == 'hours':\n",
    "        n = years * 365 * 24\n",
    "    elif type_grid == 'days':\n",
    "        n = years * 365\n",
    "\n",
    "    h = (years / n) * period  # Compute h\n",
    "\n",
    "    for i in range(0, n, period):  # Head loop\n",
    "        u_next = u_prev - h * (mg * x_prev) / (np.sqrt(x_prev ** 2 + y_prev ** 2) ** 3)\n",
    "        x_next = x_prev + h * u_prev\n",
    "        v_next = v_prev - h * (mg * y_prev) / (np.sqrt(x_prev ** 2 + y_prev ** 2) ** 3)\n",
    "        y_next = y_prev + h * v_prev\n",
    "        \n",
    "        for key, value in zip(data.keys(), [u_next, x_next, v_next, y_next]):  # Just add our new values in data\n",
    "            data[key].append(value)\n",
    "        \n",
    "        u_prev, x_prev, v_prev, y_prev = u_next, x_next, v_next, y_next\n",
    "\n",
    "    return data"
   ]
  },
  {
   "cell_type": "code",
   "execution_count": 4,
   "id": "5b9f990b",
   "metadata": {},
   "outputs": [],
   "source": [
    "solution = ODU('seconds', 20, 10)  # Calculated for 10 years"
   ]
  },
  {
   "cell_type": "markdown",
   "id": "d47251af",
   "metadata": {},
   "source": [
    "В отдельный датафрейм сохраним наши получившиеся координаты:"
   ]
  },
  {
   "cell_type": "code",
   "execution_count": 5,
   "id": "f2705821",
   "metadata": {},
   "outputs": [],
   "source": [
    "solution_coordinates = pd.DataFrame({\n",
    "                                    'x_arr': solution['x_arr'],\n",
    "                                    'y_arr': solution['y_arr']\n",
    "                                    })"
   ]
  },
  {
   "cell_type": "markdown",
   "id": "338ad2bf",
   "metadata": {},
   "source": [
    "А также построим график движения:"
   ]
  },
  {
   "cell_type": "code",
   "execution_count": 6,
   "id": "7830e139",
   "metadata": {},
   "outputs": [
    {
     "data": {
      "image/png": "[encoded data removed]",
      "text/plain": [
       "<Figure size 1080x1080 with 1 Axes>"
      ]
     },
     "metadata": {
      "needs_background": "light"
     },
     "output_type": "display_data"
    }
   ],
   "source": [
    "fig, ax = plt.subplots(figsize=[15, 15])\n",
    "\n",
    "ax = sns.scatterplot(x='x_arr', y='y_arr', data=solution_coordinates, color='blue')\n",
    "\n",
    "ax.set_title('Орбита земли', fontsize=17)\n",
    "ax.set_xlabel('Координата x\\n', fontsize=15)\n",
    "ax.set_ylabel('\\nКоордината y', fontsize=15)\n",
    "\n",
    "sns.scatterplot(x=[1], y=[0], color='green')  # Start point\n",
    "sns.scatterplot(x=solution_coordinates.tail(1).x_arr, y=solution_coordinates.tail(1).y_arr, color='red')  # Final point\n",
    "sns.scatterplot(x=[0], y=[0], color='yellow');  # Sun"
   ]
  },
  {
   "cell_type": "markdown",
   "id": "cf6d9d45",
   "metadata": {},
   "source": [
    "### Оценка Рунге"
   ]
  },
  {
   "cell_type": "markdown",
   "id": "acdacf74",
   "metadata": {},
   "source": [
    "Для метода порядка $p$ имеем\n",
    "$$ y(x_{i+1}) - y_{h,x_{i+1}} \\thickapprox \\frac{2^p}{2^p - 1}\\cdot \\left(y_{h/2,x_{i+1}} - y_{h,x_{i+1}}\\right), $$\n",
    "где $y(x_{i+1})$ - истинное значение функции $y(x)$ в точке $x_{i+1}$, а $y_{h,x_{i+1}}$ - значение, посчитанное с помощью численного метода на равномерной сетке с шагом $h$ в точке $x_{i+1}$. У метода Эйлера $p=1$. На 10 годах посчитаем погрешность:"
   ]
  },
  {
   "cell_type": "code",
   "execution_count": 7,
   "id": "ed9d3b88",
   "metadata": {},
   "outputs": [],
   "source": [
    "solution_sec_20 = solution  # Almost calculated\n",
    "solution_sec_40 = ODU('seconds', 40, 10)\n",
    "solution_sec_80 = ODU('seconds', 80, 10)"
   ]
  },
  {
   "cell_type": "code",
   "execution_count": 8,
   "id": "e1e62485",
   "metadata": {},
   "outputs": [],
   "source": [
    "solutions_test = [solution_sec_20, solution_sec_40, solution_sec_80]  # Save our solutions for Runge"
   ]
  },
  {
   "cell_type": "code",
   "execution_count": 9,
   "id": "ae3a89a6",
   "metadata": {
    "scrolled": true
   },
   "outputs": [
    {
     "data": {
      "text/plain": [
       "0.0006653367281355127"
      ]
     },
     "execution_count": 9,
     "metadata": {},
     "output_type": "execute_result"
    }
   ],
   "source": [
    "2 * (solution_sec_20['x_arr'][-1] - solution_sec_40['x_arr'][-1])  # Measurement error for x_last"
   ]
  },
  {
   "cell_type": "code",
   "execution_count": 10,
   "id": "0ae67e0f",
   "metadata": {},
   "outputs": [
    {
     "data": {
      "text/plain": [
       "0.04712793752063927"
      ]
     },
     "execution_count": 10,
     "metadata": {},
     "output_type": "execute_result"
    }
   ],
   "source": [
    "2 * (solution_sec_20['y_arr'][-1] - solution_sec_40['y_arr'][-1])  # Measurement error for y_last"
   ]
  }
 ],
 "metadata": {
  "kernelspec": {
   "display_name": "Python 3 (ipykernel)",
   "language": "python",
   "name": "python3"
  },
  "language_info": {
   "codemirror_mode": {
    "name": "ipython",
    "version": 3
   },
   "file_extension": ".py",
   "mimetype": "text/x-python",
   "name": "python",
   "nbconvert_exporter": "python",
   "pygments_lexer": "ipython3",
   "version": "3.9.12"
  }
 },
 "nbformat": 4,
 "nbformat_minor": 5
}
