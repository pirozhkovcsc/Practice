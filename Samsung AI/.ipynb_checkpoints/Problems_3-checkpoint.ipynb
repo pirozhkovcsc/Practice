{
 "cells": [
  {
   "cell_type": "markdown",
   "id": "474e6a3c",
   "metadata": {},
   "source": [
    "## Problems_3"
   ]
  },
  {
   "cell_type": "markdown",
   "id": "c5a477c3",
   "metadata": {},
   "source": [
    "**Задача 1.**"
   ]
  },
  {
   "cell_type": "markdown",
   "id": "d2d0a2b0",
   "metadata": {},
   "source": [
    "[Ссылка на задачу](https://stepik.org/lesson/236236/step/8?unit=208641)"
   ]
  },
  {
   "cell_type": "code",
   "execution_count": 4,
   "id": "eab444a2",
   "metadata": {},
   "outputs": [
    {
     "name": "stdout",
     "output_type": "stream",
     "text": [
      "20\n",
      "SineNet(\n",
      "  (fc1): Linear(in_features=1, out_features=20, bias=True)\n",
      "  (act1): Tanh()\n",
      "  (fc2): Linear(in_features=20, out_features=20, bias=True)\n",
      "  (act2): Tanh()\n",
      "  (fc3): Linear(in_features=20, out_features=1, bias=True)\n",
      ")\n"
     ]
    }
   ],
   "source": [
    "import torch\n",
    "\n",
    "class SineNet(torch.nn.Module):\n",
    "    def __init__(self, n_hidden_neurons):\n",
    "        super(SineNet, self).__init__()\n",
    "        self.fc1 = torch.nn.Linear(1, n_hidden_neurons)\n",
    "        self.act1 = torch.nn.Tanh()\n",
    "        self.fc2 = torch.nn.Linear(n_hidden_neurons, n_hidden_neurons)\n",
    "        self.act2 = torch.nn.Tanh()\n",
    "        self.fc3 = torch.nn.Linear(n_hidden_neurons, 1)\n",
    "\n",
    "sine_net = SineNet(int(input()))\n",
    "\n",
    "print(sine_net)"
   ]
  },
  {
   "cell_type": "markdown",
   "id": "cc016e40",
   "metadata": {},
   "source": [
    "**Задача 2.**"
   ]
  },
  {
   "cell_type": "markdown",
   "id": "78b819b0",
   "metadata": {},
   "source": [
    "[Ссылка на задачу](https://stepik.org/lesson/236236/step/15?unit=208641)"
   ]
  },
  {
   "cell_type": "markdown",
   "id": "34d175fc",
   "metadata": {},
   "source": [
    "Можно сначала задать архитектуру и функцию потерь.\n",
    "\n",
    "Затем варьировать параметры: количество нейронов в скрытых слоях, lr и количество эпох.\n",
    "Например, можно взять по 3 значения для каждого параметра из трех, тогда на выходе получите 27 метрик.\n",
    "Ну и выберите лучшую из них. Тогда если она меньше 0.03, то заберите соответствующие ей параметры, если нет, то попробуйте другие параметры прогонять, или поменять функцию потерь, или архитектуру.\n",
    "\n",
    "Здесь уже подставлены значения."
   ]
  },
  {
   "cell_type": "code",
   "execution_count": 53,
   "id": "c3cfa324",
   "metadata": {},
   "outputs": [],
   "source": [
    "import torch\n",
    "\n",
    "def target_function(x):\n",
    "    return 2**x * torch.sin(2**-x)\n",
    "\n",
    "class RegressionNet(torch.nn.Module):\n",
    "    def __init__(self, n_hidden_neurons):\n",
    "        super(RegressionNet, self).__init__()\n",
    "        self.fc1 = torch.nn.Linear(1, n_hidden_neurons)\n",
    "        self.act1 = torch.nn.Sigmoid()\n",
    "        self.fc2 = torch.nn.Linear(n_hidden_neurons, n_hidden_neurons)\n",
    "        self.act2 = torch.nn.Sigmoid()\n",
    "        self.fc3 = torch.nn.Linear(n_hidden_neurons, n_hidden_neurons)\n",
    "        self.act3 = torch.nn.Sigmoid()\n",
    "        self.fc4 = torch.nn.Linear(n_hidden_neurons, 1)\n",
    "    def forward(self, x):\n",
    "        x = self.fc1(x)\n",
    "        x = self.act1(x)\n",
    "        x = self.fc2(x)\n",
    "        x = self.act2(x)\n",
    "        x = self.fc3(x)\n",
    "        x = self.act3(x)\n",
    "        x = self.fc4(x)\n",
    "        return x\n",
    "\n",
    "beta = 100\n",
    "net = RegressionNet(beta)\n",
    "\n",
    "# ------Dataset preparation start--------:\n",
    "x_train =  torch.linspace(-10, 5, 100)\n",
    "y_train = target_function(x_train)\n",
    "noise = torch.randn(y_train.shape) / 20.\n",
    "y_train = y_train + noise\n",
    "x_train.unsqueeze_(1)\n",
    "y_train.unsqueeze_(1)\n",
    "\n",
    "x_validation = torch.linspace(-10, 5, 100)\n",
    "y_validation = target_function(x_validation)\n",
    "x_validation.unsqueeze_(1)\n",
    "y_validation.unsqueeze_(1);\n",
    "# ------Dataset preparation end--------:\n",
    "\n",
    "# Тренировка\n",
    "alpha = 0.01\n",
    "optimizer = torch.optim.Adam(net.parameters(), lr=alpha)\n",
    "\n",
    "def loss(pred, target):\n",
    "    return ((pred - target) ** 2).mean()\n",
    "\n",
    "epoches_number = 3000\n",
    "\n",
    "for epoch_index in range(epoches_number):\n",
    "    optimizer.zero_grad()\n",
    "\n",
    "    y_pred = net.forward(x_train)\n",
    "    loss_value = loss(y_pred, y_train)\n",
    "    \n",
    "    loss_value.backward()\n",
    "    optimizer.step()"
   ]
  },
  {
   "cell_type": "code",
   "execution_count": 54,
   "id": "45086fb9",
   "metadata": {},
   "outputs": [
    {
     "name": "stdout",
     "output_type": "stream",
     "text": [
      "0.020433060824871063\n"
     ]
    }
   ],
   "source": [
    "# Проверка\n",
    "\n",
    "def metric(pred, target):\n",
    "    return (pred - target).abs().mean()\n",
    "\n",
    "print(metric(net.forward(x_validation), y_validation).item())"
   ]
  },
  {
   "cell_type": "markdown",
   "id": "ecaee76d",
   "metadata": {},
   "source": [
    "**Задача 3.**"
   ]
  },
  {
   "cell_type": "markdown",
   "id": "9151ef98",
   "metadata": {},
   "source": [
    "[Ссылка на задачу](https://stepik.org/lesson/205548/step/3?unit=179277)"
   ]
  },
  {
   "cell_type": "code",
   "execution_count": 55,
   "id": "99461999",
   "metadata": {},
   "outputs": [
    {
     "name": "stdout",
     "output_type": "stream",
     "text": [
      "5\n"
     ]
    }
   ],
   "source": [
    "import random\n",
    "n = 0\n",
    "while True:\n",
    "    random.seed(n)\n",
    "    number = random.randint(0, 10)\n",
    "    if number == 5:\n",
    "        print(number)\n",
    "        break\n",
    "    n += 1"
   ]
  }
 ],
 "metadata": {
  "kernelspec": {
   "display_name": "Python 3 (ipykernel)",
   "language": "python",
   "name": "python3"
  },
  "language_info": {
   "codemirror_mode": {
    "name": "ipython",
    "version": 3
   },
   "file_extension": ".py",
   "mimetype": "text/x-python",
   "name": "python",
   "nbconvert_exporter": "python",
   "pygments_lexer": "ipython3",
   "version": "3.9.12"
  }
 },
 "nbformat": 4,
 "nbformat_minor": 5
}
