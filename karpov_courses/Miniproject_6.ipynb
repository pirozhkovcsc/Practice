{
 "cells": [
  {
   "cell_type": "markdown",
   "id": "5f33c444",
   "metadata": {},
   "source": [
    "# Task"
   ]
  },
  {
   "cell_type": "markdown",
   "id": "c0ed5028",
   "metadata": {},
   "source": [
    "В этот раз у нас ядрёный датасэт о рекламах\n",
    "\n",
    "Перед вами данные взаимодействий с рекламными объявлениями на некоторой площадке за 6 дней. И таблица с характеристиками рекламных клиентов (те, кто разместил эти объявления).\n",
    "\n",
    "ads_data.csv – данные взаимодействий с рекламными объявлениями\n",
    "* date – дата\n",
    "* time – время\n",
    "* event – действие (просмотр/клик)\n",
    "* platform – платформа\n",
    "* ad_id – id объявления\n",
    "* client_union_id – id рекламного кабинета\n",
    "* campaign_union_id – id рекламной кампании\n",
    "* ad_cost_type – тип оплаты\n",
    "* ad_cost – цена\n",
    "* has_video – есть ли видео\n",
    "* target_audience_count – размер аудитории\n",
    "\n",
    "ads_clients_data.csv – характеристики рекламных клиентов\n",
    "* date – дата\n",
    "* client_union_id – id рекламного кабинета\n",
    "* community_id – id сообщества\n",
    "* create_date – дата создания рекламного клиента\n",
    "\n",
    "1) Разберемся с распределением количества показов и кликов. Посчитайте среднее количество показов и среднее количество кликов на объявления за весь период (округлите до целых).\n",
    "\n",
    "2) Давайте посмотрим на распределение показов обьявлений! По оси x - число показов, по оси y - доля обьявлений с такими показами. Постройте график, где значения предварительно прологорифмированы.\n",
    "\n",
    "3) А теперь давайте посчитаем скользящее среднее показов с окном 2. Какое значение скользящего среднего получим за 6 апреля 2019 года (ответ округлите до целых)?\n",
    "\n",
    "4) Скользящее среднее часто используется для поиска аномалий в данных. Давайте попробуем нанести на один график значения арифметического среднего по дням и скользящего среднего количества показов. В какой день наблюдается наибольшая разница по модулю между арифметическим средним и скользящим средним? Дни, в которых скользящее среднее равно NaN, не учитываем. \n",
    "\n",
    "5) *Напишите функцию, которая найдет проблемное объявление (с наибольшим/наименишим количеством показов) в день, в который была замечена самая большая по модулю аномалия. \n",
    "\n",
    "6) *Теперь подгрузим данные по рекламным клиентам и найдем среднее количество дней от даты создания рекламного клиента и первым запуском рекламного объявления этим клиентом.\n",
    "\n",
    "7) *Вычислите конверсию из создания рекламного клиента в запуск первой рекламы в течение не более 365 дней. Ответ дайте в процентах и округлите до сотых. (Фильтровать нужно по значению в формате `pd.Timedelta(365, unit='d')`\n",
    "\n",
    "8) *Давайте разобъем наших клиентов по промежуткам от создания до запуска рекламного объявления, равным 30. Определите, сколько уникальных клиентов запустили свое первое объявление в первый месяц своего существования (от 0 до 30 дней). Список промежутков для метода `pd.cut` – `[0, 30, 90, 180, 365]`\n",
    "\n",
    "9) *А теперь давайте выведем на интерактивный график эти категории с количеством уникальных клиентов в них."
   ]
  },
  {
   "cell_type": "markdown",
   "id": "690ff378",
   "metadata": {},
   "source": [
    "Подгрузим нужные библиотеки:"
   ]
  },
  {
   "cell_type": "code",
   "execution_count": 208,
   "id": "4b3f2032",
   "metadata": {},
   "outputs": [],
   "source": [
    "import numpy as np\n",
    "import pandas as pd\n",
    "import seaborn as sns\n",
    "import matplotlib.pyplot as plt\n",
    "\n",
    "import zipfile # Чтобы открыть csv в zip файле"
   ]
  },
  {
   "cell_type": "markdown",
   "id": "8b22eacd",
   "metadata": {},
   "source": [
    "Считаем данные:"
   ]
  },
  {
   "cell_type": "code",
   "execution_count": 209,
   "id": "2cf9e412",
   "metadata": {},
   "outputs": [
    {
     "data": {
      "text/html": [
       "<div>\n",
       "<style scoped>\n",
       "    .dataframe tbody tr th:only-of-type {\n",
       "        vertical-align: middle;\n",
       "    }\n",
       "\n",
       "    .dataframe tbody tr th {\n",
       "        vertical-align: top;\n",
       "    }\n",
       "\n",
       "    .dataframe thead th {\n",
       "        text-align: right;\n",
       "    }\n",
       "</style>\n",
       "<table border=\"1\" class=\"dataframe\">\n",
       "  <thead>\n",
       "    <tr style=\"text-align: right;\">\n",
       "      <th></th>\n",
       "      <th>date</th>\n",
       "      <th>time</th>\n",
       "      <th>event</th>\n",
       "      <th>platform</th>\n",
       "      <th>ad_id</th>\n",
       "      <th>client_union_id</th>\n",
       "      <th>campaign_union_id</th>\n",
       "      <th>ad_cost_type</th>\n",
       "      <th>ad_cost</th>\n",
       "      <th>has_video</th>\n",
       "      <th>target_audience_count</th>\n",
       "    </tr>\n",
       "  </thead>\n",
       "  <tbody>\n",
       "    <tr>\n",
       "      <th>0</th>\n",
       "      <td>2019-04-01</td>\n",
       "      <td>2019-04-01 00:00:48</td>\n",
       "      <td>view</td>\n",
       "      <td>android</td>\n",
       "      <td>45061</td>\n",
       "      <td>34734</td>\n",
       "      <td>45061</td>\n",
       "      <td>CPM</td>\n",
       "      <td>200.6</td>\n",
       "      <td>0</td>\n",
       "      <td>1955269</td>\n",
       "    </tr>\n",
       "    <tr>\n",
       "      <th>1</th>\n",
       "      <td>2019-04-01</td>\n",
       "      <td>2019-04-01 00:00:48</td>\n",
       "      <td>view</td>\n",
       "      <td>web</td>\n",
       "      <td>121288</td>\n",
       "      <td>121288</td>\n",
       "      <td>121288</td>\n",
       "      <td>CPM</td>\n",
       "      <td>187.4</td>\n",
       "      <td>0</td>\n",
       "      <td>232011</td>\n",
       "    </tr>\n",
       "    <tr>\n",
       "      <th>2</th>\n",
       "      <td>2019-04-01</td>\n",
       "      <td>2019-04-01 00:01:03</td>\n",
       "      <td>view</td>\n",
       "      <td>android</td>\n",
       "      <td>102737</td>\n",
       "      <td>102535</td>\n",
       "      <td>102564</td>\n",
       "      <td>CPC</td>\n",
       "      <td>60.7</td>\n",
       "      <td>0</td>\n",
       "      <td>4410</td>\n",
       "    </tr>\n",
       "    <tr>\n",
       "      <th>3</th>\n",
       "      <td>2019-04-01</td>\n",
       "      <td>2019-04-01 00:01:03</td>\n",
       "      <td>view</td>\n",
       "      <td>android</td>\n",
       "      <td>107564</td>\n",
       "      <td>106914</td>\n",
       "      <td>107564</td>\n",
       "      <td>CPM</td>\n",
       "      <td>217.3</td>\n",
       "      <td>0</td>\n",
       "      <td>62711</td>\n",
       "    </tr>\n",
       "    <tr>\n",
       "      <th>4</th>\n",
       "      <td>2019-04-01</td>\n",
       "      <td>2019-04-01 00:01:09</td>\n",
       "      <td>view</td>\n",
       "      <td>android</td>\n",
       "      <td>4922</td>\n",
       "      <td>37</td>\n",
       "      <td>4400</td>\n",
       "      <td>CPC</td>\n",
       "      <td>60.1</td>\n",
       "      <td>0</td>\n",
       "      <td>1183501</td>\n",
       "    </tr>\n",
       "  </tbody>\n",
       "</table>\n",
       "</div>"
      ],
      "text/plain": [
       "         date                 time event platform   ad_id  client_union_id  \\\n",
       "0  2019-04-01  2019-04-01 00:00:48  view  android   45061            34734   \n",
       "1  2019-04-01  2019-04-01 00:00:48  view      web  121288           121288   \n",
       "2  2019-04-01  2019-04-01 00:01:03  view  android  102737           102535   \n",
       "3  2019-04-01  2019-04-01 00:01:03  view  android  107564           106914   \n",
       "4  2019-04-01  2019-04-01 00:01:09  view  android    4922               37   \n",
       "\n",
       "   campaign_union_id ad_cost_type  ad_cost  has_video  target_audience_count  \n",
       "0              45061          CPM    200.6          0                1955269  \n",
       "1             121288          CPM    187.4          0                 232011  \n",
       "2             102564          CPC     60.7          0                   4410  \n",
       "3             107564          CPM    217.3          0                  62711  \n",
       "4               4400          CPC     60.1          0                1183501  "
      ]
     },
     "execution_count": 209,
     "metadata": {},
     "output_type": "execute_result"
    }
   ],
   "source": [
    "zf = zipfile.ZipFile('ads.zip') \n",
    "ads_data = pd.read_csv(zf.open('ads_data.csv'))\n",
    "ads_data.head()"
   ]
  },
  {
   "cell_type": "markdown",
   "id": "11b10b07",
   "metadata": {},
   "source": [
    "**Задача 1.**"
   ]
  },
  {
   "cell_type": "code",
   "execution_count": 210,
   "id": "9077ac25",
   "metadata": {},
   "outputs": [
    {
     "data": {
      "text/html": [
       "<div>\n",
       "<style scoped>\n",
       "    .dataframe tbody tr th:only-of-type {\n",
       "        vertical-align: middle;\n",
       "    }\n",
       "\n",
       "    .dataframe tbody tr th {\n",
       "        vertical-align: top;\n",
       "    }\n",
       "\n",
       "    .dataframe thead th {\n",
       "        text-align: right;\n",
       "    }\n",
       "</style>\n",
       "<table border=\"1\" class=\"dataframe\">\n",
       "  <thead>\n",
       "    <tr style=\"text-align: right;\">\n",
       "      <th>event</th>\n",
       "      <th>ad_id</th>\n",
       "      <th>click</th>\n",
       "      <th>view</th>\n",
       "    </tr>\n",
       "  </thead>\n",
       "  <tbody>\n",
       "    <tr>\n",
       "      <th>0</th>\n",
       "      <td>2</td>\n",
       "      <td>1</td>\n",
       "      <td>101</td>\n",
       "    </tr>\n",
       "    <tr>\n",
       "      <th>1</th>\n",
       "      <td>3</td>\n",
       "      <td>3</td>\n",
       "      <td>184</td>\n",
       "    </tr>\n",
       "    <tr>\n",
       "      <th>2</th>\n",
       "      <td>1902</td>\n",
       "      <td>1</td>\n",
       "      <td>41</td>\n",
       "    </tr>\n",
       "    <tr>\n",
       "      <th>3</th>\n",
       "      <td>2064</td>\n",
       "      <td>0</td>\n",
       "      <td>35</td>\n",
       "    </tr>\n",
       "    <tr>\n",
       "      <th>4</th>\n",
       "      <td>2132</td>\n",
       "      <td>1</td>\n",
       "      <td>58</td>\n",
       "    </tr>\n",
       "  </tbody>\n",
       "</table>\n",
       "</div>"
      ],
      "text/plain": [
       "event  ad_id  click  view\n",
       "0          2      1   101\n",
       "1          3      3   184\n",
       "2       1902      1    41\n",
       "3       2064      0    35\n",
       "4       2132      1    58"
      ]
     },
     "execution_count": 210,
     "metadata": {},
     "output_type": "execute_result"
    }
   ],
   "source": [
    "gap_data = ads_data.pivot_table(index='ad_id',\n",
    "                    columns='event',\n",
    "                    values='has_video',\n",
    "                    aggfunc='count',\n",
    "                    fill_value=0).reset_index()\n",
    "\n",
    "gap_data.head()"
   ]
  },
  {
   "cell_type": "code",
   "execution_count": 211,
   "id": "266b4954",
   "metadata": {},
   "outputs": [
    {
     "data": {
      "text/plain": [
       "113"
      ]
     },
     "execution_count": 211,
     "metadata": {},
     "output_type": "execute_result"
    }
   ],
   "source": [
    "round(gap_data.click.mean()) # Среднее количество кликов"
   ]
  },
  {
   "cell_type": "code",
   "execution_count": 212,
   "id": "f79ebef0",
   "metadata": {},
   "outputs": [
    {
     "data": {
      "text/plain": [
       "923"
      ]
     },
     "execution_count": 212,
     "metadata": {},
     "output_type": "execute_result"
    }
   ],
   "source": [
    "round(gap_data.view.mean()) # Среднее количество показов"
   ]
  },
  {
   "cell_type": "markdown",
   "id": "6ee9a6f7",
   "metadata": {},
   "source": [
    "**Задача 2.**"
   ]
  },
  {
   "cell_type": "markdown",
   "id": "9028be35",
   "metadata": {},
   "source": [
    "Чтобы логарифмировать, сначала избавимся от нулевых значений:"
   ]
  },
  {
   "cell_type": "code",
   "execution_count": 213,
   "id": "8a64a42b",
   "metadata": {},
   "outputs": [],
   "source": [
    "gap_data.view = gap_data.view[gap_data.view != 0]"
   ]
  },
  {
   "cell_type": "code",
   "execution_count": 214,
   "id": "2a77a491",
   "metadata": {},
   "outputs": [
    {
     "data": {
      "image/png": "[encoded data removed]",
      "text/plain": [
       "<Figure size 1080x360 with 1 Axes>"
      ]
     },
     "metadata": {},
     "output_type": "display_data"
    }
   ],
   "source": [
    "plt.figure(figsize=(15,5))\n",
    "sns.histplot(data=np.log(gap_data.view))\n",
    "sns.set(font_scale=2,\n",
    "       style='whitegrid',\n",
    "       rc={'figure.figsize': (20, 7)}\n",
    "       )"
   ]
  },
  {
   "cell_type": "markdown",
   "id": "4025d420",
   "metadata": {},
   "source": [
    "**Задача 3.**"
   ]
  },
  {
   "cell_type": "code",
   "execution_count": 216,
   "id": "b60a2191",
   "metadata": {},
   "outputs": [
    {
     "data": {
      "text/html": [
       "<div>\n",
       "<style scoped>\n",
       "    .dataframe tbody tr th:only-of-type {\n",
       "        vertical-align: middle;\n",
       "    }\n",
       "\n",
       "    .dataframe tbody tr th {\n",
       "        vertical-align: top;\n",
       "    }\n",
       "\n",
       "    .dataframe thead th {\n",
       "        text-align: right;\n",
       "    }\n",
       "</style>\n",
       "<table border=\"1\" class=\"dataframe\">\n",
       "  <thead>\n",
       "    <tr style=\"text-align: right;\">\n",
       "      <th></th>\n",
       "      <th>date</th>\n",
       "      <th>event</th>\n",
       "    </tr>\n",
       "  </thead>\n",
       "  <tbody>\n",
       "    <tr>\n",
       "      <th>0</th>\n",
       "      <td>2019-04-01</td>\n",
       "      <td>154.482270</td>\n",
       "    </tr>\n",
       "    <tr>\n",
       "      <th>1</th>\n",
       "      <td>2019-04-02</td>\n",
       "      <td>137.786982</td>\n",
       "    </tr>\n",
       "    <tr>\n",
       "      <th>2</th>\n",
       "      <td>2019-04-03</td>\n",
       "      <td>163.952778</td>\n",
       "    </tr>\n",
       "    <tr>\n",
       "      <th>3</th>\n",
       "      <td>2019-04-04</td>\n",
       "      <td>675.901720</td>\n",
       "    </tr>\n",
       "    <tr>\n",
       "      <th>4</th>\n",
       "      <td>2019-04-05</td>\n",
       "      <td>919.109677</td>\n",
       "    </tr>\n",
       "    <tr>\n",
       "      <th>5</th>\n",
       "      <td>2019-04-06</td>\n",
       "      <td>277.122727</td>\n",
       "    </tr>\n",
       "  </tbody>\n",
       "</table>\n",
       "</div>"
      ],
      "text/plain": [
       "         date       event\n",
       "0  2019-04-01  154.482270\n",
       "1  2019-04-02  137.786982\n",
       "2  2019-04-03  163.952778\n",
       "3  2019-04-04  675.901720\n",
       "4  2019-04-05  919.109677\n",
       "5  2019-04-06  277.122727"
      ]
     },
     "execution_count": 216,
     "metadata": {},
     "output_type": "execute_result"
    }
   ],
   "source": [
    "mean_by_date = ads_data.query(\"event == 'view'\").groupby(['date', 'ad_id'], as_index=False) \\\n",
    "    .agg({'event': 'count'}).groupby('date', as_index=False).agg({'event': 'mean'})\n",
    "\n",
    "\n",
    "mean_by_date # Средние для каждой даты"
   ]
  },
  {
   "cell_type": "code",
   "execution_count": 217,
   "id": "243ab420",
   "metadata": {},
   "outputs": [
    {
     "data": {
      "text/plain": [
       "5    598.0\n",
       "Name: roll_sum, dtype: float64"
      ]
     },
     "execution_count": 217,
     "metadata": {},
     "output_type": "execute_result"
    }
   ],
   "source": [
    "mean_by_date['roll_sum'] = mean_by_date.event.rolling(2).mean() # Скользящие средние для каждой даты\n",
    "\n",
    "round(mean_by_date['roll_sum'].tail(1))"
   ]
  },
  {
   "cell_type": "markdown",
   "id": "98dbd32f",
   "metadata": {},
   "source": [
    "**Задача 4.**"
   ]
  },
  {
   "cell_type": "code",
   "execution_count": 222,
   "id": "34f27167",
   "metadata": {},
   "outputs": [
    {
     "data": {
      "image/png": "[encoded data removed]",
      "text/plain": [
       "<Figure size 1440x504 with 1 Axes>"
      ]
     },
     "metadata": {},
     "output_type": "display_data"
    }
   ],
   "source": [
    "sns.lineplot(x=mean_by_date.date[1:], y=mean_by_date.event[1:])\n",
    "sns.lineplot(x=mean_by_date.date[1:], y=mean_by_date.roll_sum[1:]);\n",
    "\n",
    "# Отсюда видно, что это было 6 - ого апреля 2019 года"
   ]
  },
  {
   "cell_type": "markdown",
   "id": "01770178",
   "metadata": {},
   "source": [
    "**Задача 5.**"
   ]
  },
  {
   "cell_type": "markdown",
   "id": "09cee872",
   "metadata": {},
   "source": [
    "По графику выше уже очевидно, в какой день была аномалия. Чтобы код не выглядел громоздко, не будем заново писать скрипт для поиска аномального дня. Функцию также писать бессмысленно."
   ]
  },
  {
   "cell_type": "code",
   "execution_count": 229,
   "id": "ea138c0e",
   "metadata": {},
   "outputs": [],
   "source": []
  },
  {
   "cell_type": "code",
   "execution_count": 230,
   "id": "240fd4b8",
   "metadata": {},
   "outputs": [
    {
     "data": {
      "text/plain": [
       "191    112583\n",
       "Name: ad_id, dtype: int64"
      ]
     },
     "execution_count": 230,
     "metadata": {},
     "output_type": "execute_result"
    }
   ],
   "source": [
    "find_problem_ad() # ad_id с максимальным количеством показов"
   ]
  },
  {
   "cell_type": "code",
   "execution_count": 231,
   "id": "906d120d",
   "metadata": {},
   "outputs": [
    {
     "data": {
      "text/plain": [
       "156    98274\n",
       "Name: ad_id, dtype: int64"
      ]
     },
     "execution_count": 231,
     "metadata": {},
     "output_type": "execute_result"
    }
   ],
   "source": [
    "find_problem_ad(False) # ad_id с минимальным количеством показов"
   ]
  },
  {
   "cell_type": "markdown",
   "id": "12722139",
   "metadata": {},
   "source": [
    "**Задача 6.**"
   ]
  },
  {
   "cell_type": "code",
   "execution_count": 99,
   "id": "a234da0b",
   "metadata": {},
   "outputs": [
    {
     "data": {
      "text/html": [
       "<div>\n",
       "<style scoped>\n",
       "    .dataframe tbody tr th:only-of-type {\n",
       "        vertical-align: middle;\n",
       "    }\n",
       "\n",
       "    .dataframe tbody tr th {\n",
       "        vertical-align: top;\n",
       "    }\n",
       "\n",
       "    .dataframe thead th {\n",
       "        text-align: right;\n",
       "    }\n",
       "</style>\n",
       "<table border=\"1\" class=\"dataframe\">\n",
       "  <thead>\n",
       "    <tr style=\"text-align: right;\">\n",
       "      <th></th>\n",
       "      <th>date</th>\n",
       "      <th>client_union_id</th>\n",
       "      <th>community_id</th>\n",
       "      <th>create_date</th>\n",
       "    </tr>\n",
       "  </thead>\n",
       "  <tbody>\n",
       "    <tr>\n",
       "      <th>0</th>\n",
       "      <td>2020-05-07</td>\n",
       "      <td>1</td>\n",
       "      <td>-130371893</td>\n",
       "      <td>2018-12-24</td>\n",
       "    </tr>\n",
       "    <tr>\n",
       "      <th>1</th>\n",
       "      <td>2020-05-07</td>\n",
       "      <td>2</td>\n",
       "      <td>-130304626</td>\n",
       "      <td>2019-02-10</td>\n",
       "    </tr>\n",
       "    <tr>\n",
       "      <th>2</th>\n",
       "      <td>2020-05-07</td>\n",
       "      <td>3</td>\n",
       "      <td>-130462599</td>\n",
       "      <td>2019-01-25</td>\n",
       "    </tr>\n",
       "    <tr>\n",
       "      <th>3</th>\n",
       "      <td>2020-05-07</td>\n",
       "      <td>4</td>\n",
       "      <td>-130574300</td>\n",
       "      <td>2018-12-09</td>\n",
       "    </tr>\n",
       "    <tr>\n",
       "      <th>4</th>\n",
       "      <td>2020-05-07</td>\n",
       "      <td>5</td>\n",
       "      <td>-130292358</td>\n",
       "      <td>2019-01-08</td>\n",
       "    </tr>\n",
       "    <tr>\n",
       "      <th>5</th>\n",
       "      <td>2020-05-07</td>\n",
       "      <td>6</td>\n",
       "      <td>-130524242</td>\n",
       "      <td>2018-10-30</td>\n",
       "    </tr>\n",
       "    <tr>\n",
       "      <th>6</th>\n",
       "      <td>2020-05-07</td>\n",
       "      <td>7</td>\n",
       "      <td>-130404850</td>\n",
       "      <td>2019-01-22</td>\n",
       "    </tr>\n",
       "    <tr>\n",
       "      <th>7</th>\n",
       "      <td>2020-05-07</td>\n",
       "      <td>8</td>\n",
       "      <td>-130811444</td>\n",
       "      <td>2018-12-11</td>\n",
       "    </tr>\n",
       "    <tr>\n",
       "      <th>8</th>\n",
       "      <td>2020-05-07</td>\n",
       "      <td>9</td>\n",
       "      <td>-130215524</td>\n",
       "      <td>2018-12-10</td>\n",
       "    </tr>\n",
       "    <tr>\n",
       "      <th>9</th>\n",
       "      <td>2020-05-07</td>\n",
       "      <td>10</td>\n",
       "      <td>-130553815</td>\n",
       "      <td>2018-12-07</td>\n",
       "    </tr>\n",
       "  </tbody>\n",
       "</table>\n",
       "</div>"
      ],
      "text/plain": [
       "         date  client_union_id  community_id create_date\n",
       "0  2020-05-07                1    -130371893  2018-12-24\n",
       "1  2020-05-07                2    -130304626  2019-02-10\n",
       "2  2020-05-07                3    -130462599  2019-01-25\n",
       "3  2020-05-07                4    -130574300  2018-12-09\n",
       "4  2020-05-07                5    -130292358  2019-01-08\n",
       "5  2020-05-07                6    -130524242  2018-10-30\n",
       "6  2020-05-07                7    -130404850  2019-01-22\n",
       "7  2020-05-07                8    -130811444  2018-12-11\n",
       "8  2020-05-07                9    -130215524  2018-12-10\n",
       "9  2020-05-07               10    -130553815  2018-12-07"
      ]
     },
     "execution_count": 99,
     "metadata": {},
     "output_type": "execute_result"
    }
   ],
   "source": [
    "zf = zipfile.ZipFile('ads.zip') \n",
    "ads_clients_data = pd.read_csv(zf.open('ads_clients_data.csv'))\n",
    "ads_clients_data.head(10)"
   ]
  },
  {
   "cell_type": "code",
   "execution_count": 241,
   "id": "949979a5",
   "metadata": {},
   "outputs": [
    {
     "data": {
      "text/html": [
       "<div>\n",
       "<style scoped>\n",
       "    .dataframe tbody tr th:only-of-type {\n",
       "        vertical-align: middle;\n",
       "    }\n",
       "\n",
       "    .dataframe tbody tr th {\n",
       "        vertical-align: top;\n",
       "    }\n",
       "\n",
       "    .dataframe thead th {\n",
       "        text-align: right;\n",
       "    }\n",
       "</style>\n",
       "<table border=\"1\" class=\"dataframe\">\n",
       "  <thead>\n",
       "    <tr style=\"text-align: right;\">\n",
       "      <th></th>\n",
       "      <th>date_x</th>\n",
       "      <th>client_union_id</th>\n",
       "      <th>community_id</th>\n",
       "      <th>create_date</th>\n",
       "      <th>date_y</th>\n",
       "      <th>time</th>\n",
       "      <th>event</th>\n",
       "      <th>platform</th>\n",
       "      <th>ad_id</th>\n",
       "      <th>campaign_union_id</th>\n",
       "      <th>ad_cost_type</th>\n",
       "      <th>ad_cost</th>\n",
       "      <th>has_video</th>\n",
       "      <th>target_audience_count</th>\n",
       "    </tr>\n",
       "  </thead>\n",
       "  <tbody>\n",
       "    <tr>\n",
       "      <th>0</th>\n",
       "      <td>2020-05-07</td>\n",
       "      <td>1</td>\n",
       "      <td>-130371893</td>\n",
       "      <td>2018-12-24</td>\n",
       "      <td>2019-04-01</td>\n",
       "      <td>2019-04-01 00:08:51</td>\n",
       "      <td>view</td>\n",
       "      <td>android</td>\n",
       "      <td>3.0</td>\n",
       "      <td>1.0</td>\n",
       "      <td>CPC</td>\n",
       "      <td>46.7</td>\n",
       "      <td>0.0</td>\n",
       "      <td>45035.0</td>\n",
       "    </tr>\n",
       "    <tr>\n",
       "      <th>1</th>\n",
       "      <td>2020-05-07</td>\n",
       "      <td>1</td>\n",
       "      <td>-130371893</td>\n",
       "      <td>2018-12-24</td>\n",
       "      <td>2019-04-01</td>\n",
       "      <td>2019-04-01 00:09:36</td>\n",
       "      <td>view</td>\n",
       "      <td>ios</td>\n",
       "      <td>3.0</td>\n",
       "      <td>1.0</td>\n",
       "      <td>CPC</td>\n",
       "      <td>46.7</td>\n",
       "      <td>0.0</td>\n",
       "      <td>45035.0</td>\n",
       "    </tr>\n",
       "    <tr>\n",
       "      <th>2</th>\n",
       "      <td>2020-05-07</td>\n",
       "      <td>1</td>\n",
       "      <td>-130371893</td>\n",
       "      <td>2018-12-24</td>\n",
       "      <td>2019-04-01</td>\n",
       "      <td>2019-04-01 00:29:30</td>\n",
       "      <td>view</td>\n",
       "      <td>ios</td>\n",
       "      <td>3.0</td>\n",
       "      <td>1.0</td>\n",
       "      <td>CPC</td>\n",
       "      <td>46.7</td>\n",
       "      <td>0.0</td>\n",
       "      <td>45035.0</td>\n",
       "    </tr>\n",
       "    <tr>\n",
       "      <th>3</th>\n",
       "      <td>2020-05-07</td>\n",
       "      <td>1</td>\n",
       "      <td>-130371893</td>\n",
       "      <td>2018-12-24</td>\n",
       "      <td>2019-04-01</td>\n",
       "      <td>2019-04-01 00:29:58</td>\n",
       "      <td>view</td>\n",
       "      <td>android</td>\n",
       "      <td>3.0</td>\n",
       "      <td>1.0</td>\n",
       "      <td>CPC</td>\n",
       "      <td>46.7</td>\n",
       "      <td>0.0</td>\n",
       "      <td>45035.0</td>\n",
       "    </tr>\n",
       "    <tr>\n",
       "      <th>4</th>\n",
       "      <td>2020-05-07</td>\n",
       "      <td>1</td>\n",
       "      <td>-130371893</td>\n",
       "      <td>2018-12-24</td>\n",
       "      <td>2019-04-01</td>\n",
       "      <td>2019-04-01 00:51:54</td>\n",
       "      <td>view</td>\n",
       "      <td>android</td>\n",
       "      <td>3.0</td>\n",
       "      <td>1.0</td>\n",
       "      <td>CPC</td>\n",
       "      <td>46.7</td>\n",
       "      <td>0.0</td>\n",
       "      <td>45035.0</td>\n",
       "    </tr>\n",
       "  </tbody>\n",
       "</table>\n",
       "</div>"
      ],
      "text/plain": [
       "       date_x  client_union_id  community_id create_date      date_y  \\\n",
       "0  2020-05-07                1    -130371893  2018-12-24  2019-04-01   \n",
       "1  2020-05-07                1    -130371893  2018-12-24  2019-04-01   \n",
       "2  2020-05-07                1    -130371893  2018-12-24  2019-04-01   \n",
       "3  2020-05-07                1    -130371893  2018-12-24  2019-04-01   \n",
       "4  2020-05-07                1    -130371893  2018-12-24  2019-04-01   \n",
       "\n",
       "                  time event platform  ad_id  campaign_union_id ad_cost_type  \\\n",
       "0  2019-04-01 00:08:51  view  android    3.0                1.0          CPC   \n",
       "1  2019-04-01 00:09:36  view      ios    3.0                1.0          CPC   \n",
       "2  2019-04-01 00:29:30  view      ios    3.0                1.0          CPC   \n",
       "3  2019-04-01 00:29:58  view  android    3.0                1.0          CPC   \n",
       "4  2019-04-01 00:51:54  view  android    3.0                1.0          CPC   \n",
       "\n",
       "   ad_cost  has_video  target_audience_count  \n",
       "0     46.7        0.0                45035.0  \n",
       "1     46.7        0.0                45035.0  \n",
       "2     46.7        0.0                45035.0  \n",
       "3     46.7        0.0                45035.0  \n",
       "4     46.7        0.0                45035.0  "
      ]
     },
     "execution_count": 241,
     "metadata": {},
     "output_type": "execute_result"
    }
   ],
   "source": [
    "data = ads_clients_data.merge(ads_data, how='left', on='client_union_id')\n",
    "data.head()"
   ]
  },
  {
   "cell_type": "code",
   "execution_count": null,
   "id": "489c0c74",
   "metadata": {},
   "outputs": [],
   "source": [
    "data.groupbyor"
   ]
  },
  {
   "cell_type": "code",
   "execution_count": null,
   "id": "f6a96d89",
   "metadata": {},
   "outputs": [],
   "source": []
  },
  {
   "cell_type": "code",
   "execution_count": null,
   "id": "926fb5e4",
   "metadata": {},
   "outputs": [],
   "source": []
  },
  {
   "cell_type": "code",
   "execution_count": null,
   "id": "fcf2293e",
   "metadata": {},
   "outputs": [],
   "source": []
  },
  {
   "cell_type": "code",
   "execution_count": null,
   "id": "0b151af9",
   "metadata": {},
   "outputs": [],
   "source": []
  },
  {
   "cell_type": "code",
   "execution_count": null,
   "id": "cc657f6c",
   "metadata": {},
   "outputs": [],
   "source": []
  },
  {
   "cell_type": "code",
   "execution_count": null,
   "id": "cc1f4f7c",
   "metadata": {},
   "outputs": [],
   "source": []
  },
  {
   "cell_type": "code",
   "execution_count": null,
   "id": "450740c9",
   "metadata": {},
   "outputs": [],
   "source": []
  },
  {
   "cell_type": "code",
   "execution_count": null,
   "id": "85abdbb8",
   "metadata": {},
   "outputs": [],
   "source": []
  },
  {
   "cell_type": "code",
   "execution_count": null,
   "id": "44ba6d57",
   "metadata": {},
   "outputs": [],
   "source": []
  },
  {
   "cell_type": "code",
   "execution_count": null,
   "id": "45ee44a1",
   "metadata": {},
   "outputs": [],
   "source": []
  },
  {
   "cell_type": "code",
   "execution_count": null,
   "id": "4abd4fac",
   "metadata": {},
   "outputs": [],
   "source": []
  },
  {
   "cell_type": "code",
   "execution_count": null,
   "id": "44dd0381",
   "metadata": {},
   "outputs": [],
   "source": []
  },
  {
   "cell_type": "code",
   "execution_count": null,
   "id": "f64a80fa",
   "metadata": {},
   "outputs": [],
   "source": []
  },
  {
   "cell_type": "code",
   "execution_count": null,
   "id": "46a95aa1",
   "metadata": {},
   "outputs": [],
   "source": []
  },
  {
   "cell_type": "code",
   "execution_count": null,
   "id": "51d20001",
   "metadata": {},
   "outputs": [],
   "source": []
  },
  {
   "cell_type": "code",
   "execution_count": null,
   "id": "833cd00f",
   "metadata": {},
   "outputs": [],
   "source": []
  },
  {
   "cell_type": "code",
   "execution_count": null,
   "id": "034f8101",
   "metadata": {},
   "outputs": [],
   "source": []
  }
 ],
 "metadata": {
  "kernelspec": {
   "display_name": "Python 3 (ipykernel)",
   "language": "python",
   "name": "python3"
  },
  "language_info": {
   "codemirror_mode": {
    "name": "ipython",
    "version": 3
   },
   "file_extension": ".py",
   "mimetype": "text/x-python",
   "name": "python",
   "nbconvert_exporter": "python",
   "pygments_lexer": "ipython3",
   "version": "3.9.12"
  }
 },
 "nbformat": 4,
 "nbformat_minor": 5
}
