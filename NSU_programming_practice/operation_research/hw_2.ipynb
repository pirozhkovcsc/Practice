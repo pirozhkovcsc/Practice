{
 "cells": [
  {
   "cell_type": "markdown",
   "id": "55bd7d29",
   "metadata": {},
   "source": [
    "## Домашняя работа 2"
   ]
  },
  {
   "cell_type": "markdown",
   "id": "f5ff96c5",
   "metadata": {},
   "source": [
    "Итак, здесь будет выполнена вторая домашняя работа по исследованиям операций. Ссылка на гугл диск, где лежит первая домашняя работа [тык](https://drive.google.com/file/d/1dGhTRMB0Z5NXG9HyrJUx5b8C_Fm_IzIg/view?usp=sharing)."
   ]
  },
  {
   "cell_type": "markdown",
   "id": "71772e51",
   "metadata": {},
   "source": [
    "Скачаем необходимый для работы пакет (если не скачано - раскомментировать и скачать):"
   ]
  },
  {
   "cell_type": "code",
   "execution_count": 1,
   "id": "627cecef",
   "metadata": {},
   "outputs": [],
   "source": [
    "# !pip install pulp "
   ]
  },
  {
   "cell_type": "markdown",
   "id": "d5e20bfe",
   "metadata": {},
   "source": [
    "Далее импортируем все необходимые для работы функции:"
   ]
  },
  {
   "cell_type": "code",
   "execution_count": 2,
   "id": "0af3666d",
   "metadata": {},
   "outputs": [],
   "source": [
    "from pulp import LpMaximize, LpProblem, LpStatus, lpSum, LpVariable, LpMinimize"
   ]
  },
  {
   "cell_type": "markdown",
   "id": "22c541b1",
   "metadata": {},
   "source": [
    "У нас, как можно увидеть в файлике с первой домашней работой, было 3 кейса. Мы их разберем по очереди. Первый - подробно, остальные - аналогично."
   ]
  },
  {
   "cell_type": "markdown",
   "id": "14e3ca4f",
   "metadata": {},
   "source": [
    "### Случай 1"
   ]
  },
  {
   "cell_type": "markdown",
   "id": "d3208228",
   "metadata": {},
   "source": [
    "Начнем с первого случая. Создадим задачу ЛП, где целевая функция будет минимизироваться."
   ]
  },
  {
   "cell_type": "code",
   "execution_count": 3,
   "id": "3383f11d",
   "metadata": {},
   "outputs": [],
   "source": [
    "case_1 = LpProblem(sense=LpMinimize)"
   ]
  },
  {
   "cell_type": "markdown",
   "id": "3cb72818",
   "metadata": {},
   "source": [
    "Далее заведем все переменные. У нас их было 3: $x_1, x_2, x_3$. Так как они были сверху ограничены тройкой, а снизу - нулем, то укажем это в аргументах `lowBound` и `upBound` соответственно. "
   ]
  },
  {
   "cell_type": "code",
   "execution_count": 4,
   "id": "db4402bb",
   "metadata": {},
   "outputs": [],
   "source": [
    "x_1 = LpVariable(name='x_1', lowBound=0, upBound=3)\n",
    "x_2 = LpVariable(name='x_2', lowBound=0, upBound=3)\n",
    "x_3 = LpVariable(name='x_3', lowBound=0, upBound=3)"
   ]
  },
  {
   "cell_type": "markdown",
   "id": "941be0b9",
   "metadata": {},
   "source": [
    "Давайте добавим в нашу задачу сначала целевую функцию, а затем добавим существенные ограничения (на белки, жиры и углеводы)"
   ]
  },
  {
   "cell_type": "code",
   "execution_count": 5,
   "id": "a3c6518e",
   "metadata": {},
   "outputs": [],
   "source": [
    "case_1 += 20 * x_1 + 30 * x_2 + 50 * x_3  # target function\n",
    "\n",
    "case_1 += (6 * x_1 + 3 * x_2 + 9 * x_3 >= 15)\n",
    "case_1 += (10 * x_1 + 1 * x_2 + 15 * x_3 >= 12)\n",
    "case_1 += (9 * x_1 + 15 * x_2 + 2 * x_3 >= 33)\n",
    "case_1 += (10 * x_1 + 1 * x_2 + 15 * x_3 <= 15)"
   ]
  },
  {
   "cell_type": "markdown",
   "id": "b023c3e2",
   "metadata": {},
   "source": [
    "Осталось лишь решить задачу и вывести вектор решений."
   ]
  },
  {
   "cell_type": "code",
   "execution_count": 6,
   "id": "77de6030",
   "metadata": {},
   "outputs": [
    {
     "name": "stdout",
     "output_type": "stream",
     "text": [
      "status: 1, Optimal\n",
      "\n",
      "x_1: 1.25\n",
      "x_2: 2.5\n",
      "x_3: 0.0\n"
     ]
    }
   ],
   "source": [
    "status_1=case_1.solve() # solution\n",
    "\n",
    "print(f'status: {case_1.status}, {LpStatus[case_1.status]}', end='\\n\\n')\n",
    "for var in case_1.variables():\n",
    "    print(f'{var.name}: {var.value()}')"
   ]
  },
  {
   "cell_type": "markdown",
   "id": "f5210a03",
   "metadata": {},
   "source": [
    "### Случай 2"
   ]
  },
  {
   "cell_type": "code",
   "execution_count": 7,
   "id": "f71a5146",
   "metadata": {},
   "outputs": [
    {
     "name": "stdout",
     "output_type": "stream",
     "text": [
      "status: 1, Optimal\n",
      "\n",
      "x_4: 1.0\n",
      "x_5: 2.0\n",
      "x_6: 3.0\n"
     ]
    }
   ],
   "source": [
    "case_2 = LpProblem(sense=LpMinimize)\n",
    "\n",
    "x_4 = LpVariable(name='x_4', lowBound=1)\n",
    "x_5 = LpVariable(name='x_5', lowBound=1)\n",
    "x_6 = LpVariable(name='x_6', lowBound=1)\n",
    "\n",
    "case_2 += 80 * x_4 + 25 * x_5 + 30 * x_6  # target function\n",
    "\n",
    "case_2 += (18 * x_4 + 3 * x_5 + 4 * x_6 >= 30)\n",
    "case_2 += (10 * x_4 + 1 * x_5 + 4 * x_6 >= 24)\n",
    "case_2 += (14 * x_4 + 20 * x_5 + 4 * x_6 >= 66)\n",
    "case_2 += (x_4 + x_5 + x_6 >= 5)\n",
    "case_2 += (18 * x_4 + 3 * x_5 + 4 * x_6 <= 37.5)\n",
    "\n",
    "status_2=case_2.solve() # solution\n",
    "\n",
    "print(f'status: {case_2.status}, {LpStatus[case_2.status]}', end='\\n\\n')\n",
    "for var in case_2.variables():\n",
    "    print(f'{var.name}: {var.value()}')"
   ]
  },
  {
   "cell_type": "markdown",
   "id": "fe1e8f52",
   "metadata": {},
   "source": [
    "### Случай 3"
   ]
  },
  {
   "cell_type": "code",
   "execution_count": 8,
   "id": "35436d4c",
   "metadata": {},
   "outputs": [
    {
     "name": "stdout",
     "output_type": "stream",
     "text": [
      "status: 1, Optimal\n",
      "\n",
      "x_7: 3.25\n",
      "x_8: 0.0\n",
      "x_9: 0.75\n"
     ]
    }
   ],
   "source": [
    "case_3 = LpProblem(sense=LpMinimize)\n",
    "\n",
    "x_7 = LpVariable(name='x_7', lowBound=0)\n",
    "x_8 = LpVariable(name='x_8', lowBound=0)\n",
    "x_9 = LpVariable(name='x_9', lowBound=0)\n",
    "\n",
    "case_3 += 80 * x_7 + 50 * x_8 + 70 * x_9  # target function\n",
    "\n",
    "case_3 += (9 * x_7 + 6 * x_8 + 1 * x_9 >= 30)\n",
    "case_3 += (6 * x_7 + 4 * x_8 + 6 * x_9 >= 24)\n",
    "case_3 += (30 * x_7 + 9 * x_8 + 5 * x_9 >= 66)\n",
    "case_3 += (x_7 + x_8 + x_9 == 4)\n",
    "case_3 += (6 * x_7 + 4 * x_8 + 6 * x_9 <= 30)\n",
    "\n",
    "status_2=case_3.solve() # solution\n",
    "\n",
    "print(f'status: {case_3.status}, {LpStatus[case_3.status]}', end='\\n\\n')\n",
    "for var in case_3.variables():\n",
    "    print(f'{var.name}: {var.value()}')"
   ]
  }
 ],
 "metadata": {
  "kernelspec": {
   "display_name": "Python 3 (ipykernel)",
   "language": "python",
   "name": "python3"
  },
  "language_info": {
   "codemirror_mode": {
    "name": "ipython",
    "version": 3
   },
   "file_extension": ".py",
   "mimetype": "text/x-python",
   "name": "python",
   "nbconvert_exporter": "python",
   "pygments_lexer": "ipython3",
   "version": "3.9.12"
  }
 },
 "nbformat": 4,
 "nbformat_minor": 5
}
