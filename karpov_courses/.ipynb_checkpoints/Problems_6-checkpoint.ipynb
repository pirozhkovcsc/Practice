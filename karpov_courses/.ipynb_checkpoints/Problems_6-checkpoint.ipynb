{
 "cells": [
  {
   "cell_type": "markdown",
   "id": "f529219b",
   "metadata": {},
   "source": [
    "# Task"
   ]
  },
  {
   "cell_type": "markdown",
   "id": "8bee8bec",
   "metadata": {},
   "source": [
    "1) Предположим, что Толя любит авокадо и решил посмотреть динамику цен на данный продукт в США. Имеется следующий набор данных от Hass Avocado Board 🥑:\n",
    "* Date — дата\n",
    "* AveragePrice — средняя цена одного авокадо\n",
    "* Total Volume — количество проданных авокадо\n",
    "* 4046 — количество проданных авокадо PLU* 4046\n",
    "* 4225 — количество проданных авокадо PLU 4225\n",
    "* 4770 — количество проданных авокадо PLU 4770\n",
    "* Total Bags — всего упаковок\n",
    "* Small Bags — маленькие упаковки\n",
    "* Large Bags — большие упаковки\n",
    "* XLarge Bags — очень большие упаковки\n",
    "* type — обычный или органический\n",
    "* year — год\n",
    "* Region — город или регион the city or region of the observation\n",
    "\n",
    "*PLU — код товара (Product Lookup code)\n",
    "\n",
    "*В датафрейме находятся данные не за каждый день, а за конец каждой недели. Для каждой даты есть несколько наблюдений, отличающихся по типу авокадо и региону продажи. Предположим, что нас это разделение не интересует, поэтому в avocado_mean записаны агрегированные данные, где:\n",
    "\n",
    "`avocado_mean = pd.read_csv(\"path\", index_col=0, squeeze=True, parse_dates=['Date'])`\n",
    "```\n",
    "                           Date\n",
    "                           2015-01-04    1.301296\n",
    "                           2015-01-11    1.370648\n",
    "                           2015-01-18    1.391111\n",
    "                           2015-01-25    1.397130\n",
    "                           2015-02-01    1.247037\n",
    "                           Name: AveragePrice, dtype: float64\n",
    "```\n",
    "2) Посчитайте скользящее среднее цены авокадо (AveragePrice) с окном равным 3 (window). Чему равно максимальное значение? Ответ округлите до 2 знаков после точки.\n",
    "\n",
    "3) Отлично! Помимо авокадо, Толя любит смотреть на графики. Самое время посмотреть, как изменится график в зависимости от выбранного размера окна. Ваша задача — построить графики скользящего среднего с разными значениями параметра window (2, 4, 10, 50), посмотреть на изменения и соотнести приведенные ниже картинки с соответствующим значением размера окна. (task3.png)\n",
    "\n",
    "4) ⭐️Задание со звёздочкой!⭐️\n",
    "Изучите параметры функций:\n",
    "- axis\n",
    "- center\n",
    "- closed\n",
    "- min_periods\n",
    "- on\n",
    "- win_type\n",
    "- window\n",
    "[в документации](https://pandas.pydata.org/pandas-docs/stable/reference/api/pandas.DataFrame.rolling.html) и дайте характеристику каждой из вышеперечисленных.\n",
    "\n",
    "5) ⭐️Задание со звёздочкой!⭐️\n",
    "Используйте агрегированные данные avocado_mean.csv о ценах на авокадо и примените функцию ewm() с параметром span=2, чтобы получить экспоненциальное скользящее среднее. Запишите результат в avocado_ewm.\n",
    "\n",
    "6) ⭐️Задание со звёздочкой!⭐️\n",
    "И еще один стэп, чтобы закрепить материал. Импортируйте полные данные, (avocado_full.csv) указав index_col=0 (использовать первую колонку как индекс). Для авокадо типа organic (type) в Чикаго (region) посчитайте скользящее среднее с окном 4 и экспоненциальное скользящее среднее с параметром span=4. Постройте графики. Числа округлите до трех знаков после точки.\n",
    "\n",
    "7) 💀 Сложное задание! 💀\n",
    "Далее будем работать с данными по опозданиям в заключении сделок! В файле delays находится информация о том какие компании с кем и на какую сумму заключали сделки, а самое важное – насколько они при этом опоздали. Вот сабсэт данных\n",
    "```\n",
    " \t client_id company_id\t         delay\t\t   revenue\n",
    " \t0\t2389\t4240\t-1 days -14:57:48.000000000\t705436\n",
    " \t1\t7614\t9544\t-4 days -02:14:23.000000000\t859266\n",
    " \t2\t2052\t2427\t-0 days -06:08:57.000000000\t812416\n",
    " \t3\t9635\t8054\t-0 days -23:40:19.000000000\t162312\n",
    " \t4\t8154\t5503\t-1 days -13:21:53.000000000\t658844\n",
    "```\n",
    "Сначала давайте переведём delay в timedelta формат. Обратите внимание, что так просто столбец не переведётся – нужно будет убрать -. Сохраните данные в переменную df, отформатируйте колонку нужным способом (подсказка – уберите -) и переведите её в тип timedelta.\n",
    "\n",
    "Могут понадобиться:\n",
    "`pd.to_timedelta()`\n",
    "`pd.Series.str`\n",
    "\n",
    "8) Время это хорошо, но хотелось бы также разбить его на промежутки. Разбейте время на 3 интервала и поместите соответствующие значения в колонку delay_categorical\n",
    "\n",
    "Могут понадобится:\n",
    "`pd.cut()`\n",
    "\n",
    "9) 💀 Сложное задание! 💀\n",
    "Разбилось конечно неплохо, но хочется чуть более целые значения и более человеческие названия. В этом нам помогут аргументы функции `pd.cut`! Перезадайте колонку delay_categorical, чтобы значения в ней были\n",
    "```\n",
    "'less than 1 day' – время от 0 до 1 дня\n",
    "'1-2 days' – от 1 до 2 дней\n",
    "'2-3 days' – от 2 до 3 дней\n",
    "'more than 3 days' – больше 3 дней\n",
    "```\n",
    "Например, для следующего примера\n",
    "```\n",
    "client_id  company_id  delay            revenue\n",
    "14345      54631       2 days 13:34:45  145345\n",
    "54434      54834       1 days 08:26:00  453245\n",
    "34905      49834       0 days 00:26:03  14543\n",
    "```\n",
    "результом будет\n",
    "```\n",
    "client_id  company_id  delay            revenue  delay_categorical\n",
    "14345      54631       2 days 13:34:45  145345   2-3 days\n",
    "54434      54834       1 days 08:26:00  453245   1-2 days\n",
    "34905      49834       0 days 00:26:03  14543    less than 1 day\n",
    "```\n",
    "\n",
    "Могут понадобится:\n",
    "`pd.cut()`\n",
    "`pd.to_timedelta()`\n",
    "\n",
    "10) Прекрасно! Теперь постройте интерактивный барплот с тем, насколько часто задерживаются сделки, выясните самый редкий и самый частый варианты."
   ]
  },
  {
   "cell_type": "markdown",
   "id": "ef522f46",
   "metadata": {},
   "source": [
    "Подгрузим нужные библиотеки:"
   ]
  },
  {
   "cell_type": "code",
   "execution_count": 197,
   "id": "be4e7fc4",
   "metadata": {},
   "outputs": [],
   "source": [
    "import pandas as pd\n",
    "import seaborn as sns\n",
    "import matplotlib.pyplot as plt"
   ]
  },
  {
   "cell_type": "markdown",
   "id": "d6b53c25",
   "metadata": {},
   "source": [
    "**Задача 1.**"
   ]
  },
  {
   "cell_type": "code",
   "execution_count": 198,
   "id": "83d9f464",
   "metadata": {
    "scrolled": true
   },
   "outputs": [
    {
     "data": {
      "text/html": [
       "<div>\n",
       "<style scoped>\n",
       "    .dataframe tbody tr th:only-of-type {\n",
       "        vertical-align: middle;\n",
       "    }\n",
       "\n",
       "    .dataframe tbody tr th {\n",
       "        vertical-align: top;\n",
       "    }\n",
       "\n",
       "    .dataframe thead th {\n",
       "        text-align: right;\n",
       "    }\n",
       "</style>\n",
       "<table border=\"1\" class=\"dataframe\">\n",
       "  <thead>\n",
       "    <tr style=\"text-align: right;\">\n",
       "      <th></th>\n",
       "      <th>Date</th>\n",
       "      <th>AveragePrice</th>\n",
       "    </tr>\n",
       "  </thead>\n",
       "  <tbody>\n",
       "    <tr>\n",
       "      <th>0</th>\n",
       "      <td>2015-01-04</td>\n",
       "      <td>1.301296</td>\n",
       "    </tr>\n",
       "    <tr>\n",
       "      <th>1</th>\n",
       "      <td>2015-01-11</td>\n",
       "      <td>1.370648</td>\n",
       "    </tr>\n",
       "    <tr>\n",
       "      <th>2</th>\n",
       "      <td>2015-01-18</td>\n",
       "      <td>1.391111</td>\n",
       "    </tr>\n",
       "    <tr>\n",
       "      <th>3</th>\n",
       "      <td>2015-01-25</td>\n",
       "      <td>1.397130</td>\n",
       "    </tr>\n",
       "    <tr>\n",
       "      <th>4</th>\n",
       "      <td>2015-02-01</td>\n",
       "      <td>1.247037</td>\n",
       "    </tr>\n",
       "  </tbody>\n",
       "</table>\n",
       "</div>"
      ],
      "text/plain": [
       "         Date  AveragePrice\n",
       "0  2015-01-04      1.301296\n",
       "1  2015-01-11      1.370648\n",
       "2  2015-01-18      1.391111\n",
       "3  2015-01-25      1.397130\n",
       "4  2015-02-01      1.247037"
      ]
     },
     "execution_count": 198,
     "metadata": {},
     "output_type": "execute_result"
    }
   ],
   "source": [
    "avocado_mean = pd.read_csv('avocado_mean.csv')\n",
    "avocado_mean.head()"
   ]
  },
  {
   "cell_type": "markdown",
   "id": "97810d17",
   "metadata": {},
   "source": [
    "**Задача 2.**"
   ]
  },
  {
   "cell_type": "code",
   "execution_count": 199,
   "id": "4105104f",
   "metadata": {},
   "outputs": [
    {
     "data": {
      "text/plain": [
       "1.85"
      ]
     },
     "execution_count": 199,
     "metadata": {},
     "output_type": "execute_result"
    }
   ],
   "source": [
    "round(avocado_mean.AveragePrice.rolling(3).mean().max(), 2)"
   ]
  },
  {
   "cell_type": "markdown",
   "id": "5f2e9ea8",
   "metadata": {},
   "source": [
    "**Задача 3.**"
   ]
  },
  {
   "cell_type": "code",
   "execution_count": 200,
   "id": "166e120c",
   "metadata": {},
   "outputs": [],
   "source": [
    "def with_rolling(n):\n",
    "    return avocado_mean.AveragePrice.rolling(n).mean()"
   ]
  },
  {
   "cell_type": "code",
   "execution_count": 201,
   "id": "d30aa292",
   "metadata": {},
   "outputs": [
    {
     "data": {
      "image/png": "[encoded data removed]",
      "text/plain": [
       "<Figure size 1080x720 with 4 Axes>"
      ]
     },
     "metadata": {
      "needs_background": "light"
     },
     "output_type": "display_data"
    }
   ],
   "source": [
    "fig, ax = plt.subplots(nrows=2, ncols=2, figsize=[15, 10], sharex=True, sharey=True)\n",
    "\n",
    "sns.lineplot(ax=ax[0][0], data=with_rolling(2))\n",
    "ax[0][0].set_title('with_rolling_2')\n",
    "\n",
    "\n",
    "sns.lineplot(ax=ax[0][1], data=with_rolling(4))\n",
    "ax[0][1].set_title('with_rolling_4')\n",
    "\n",
    "sns.lineplot(ax=ax[1][0], data=with_rolling(10))\n",
    "ax[1][0].set_title('with_rolling_10')\n",
    "\n",
    "sns.lineplot(ax=ax[1][1], data=with_rolling(50))\n",
    "ax[1][1].set_title('with_rolling_50');"
   ]
  },
  {
   "cell_type": "markdown",
   "id": "a77d2a9a",
   "metadata": {},
   "source": [
    "**Задача 4.**"
   ]
  },
  {
   "cell_type": "code",
   "execution_count": 202,
   "id": "93b75487",
   "metadata": {},
   "outputs": [],
   "source": [
    "pd.DataFrame.rolling?"
   ]
  },
  {
   "cell_type": "markdown",
   "id": "2f240daa",
   "metadata": {},
   "source": [
    "Дадим характеристику следующим аргументам у rolling:\n",
    "\n",
    "- *axis*: \\\n",
    "Если **0** или **\"index\"**, то скользим по строке.\\\n",
    "Если **1** или **\"columns\"**, то скользим по столбцу.\n",
    "- *center*: \\\n",
    "Позволяет использовать центрированное скользящее среднее. Т.е теперь при вычислении по окну мы добавляем полученное значение не в конец окна, а по центру окну.\n",
    "- *closed*: \\\n",
    "Если **\"right\"**, то первая точка в окне исключается из вычислений.\\\n",
    "Если **\"left\"**, последняя точка в окне исключается из вычислений.\\\n",
    "Если **\"both\"**, то точки \"нет\" в окне исключаются из вычислений.\\\n",
    "Если **\"nether\"**, то первая и последняя точки в окне исключаются из вычислений.\\\n",
    "По умолчанию: **None**\n",
    "- *min_periods*: \\\n",
    "Минимальное количество наблюдений в окне, необходимое для получения значения; в противном случае результат равен `np.nan`. Для окна, заданного целым числом, min_periods по умолчанию будет соответствовать размеру окна.\n",
    "- *on*: \\\n",
    "Для датафрейма - название колонки или уровень индекса, на основе которого вычисляется скользящее окно, а не индекс датафрейма.\\\n",
    "Предоставленный целочисленный столбец игнорируется и исключается из результата, поскольку целочисленный индекс не используется для вычисления скользящего окна.\n",
    "- *win_type*: \\\n",
    "Тип окна.\\\n",
    "Если **None**, то все точки имеют одинаковый вес.\\\n",
    "Если строка, то это должна быть допустимая функция окна scipy.signal.\\\n",
    "Некоторые типы окон Scipy требуют передачи дополнительных параметров в функции агрегирования. Дополнительные параметры должны соответствовать ключевым словам, указанным в сигнатуре метода типа окна Scipy.\n",
    "- *window*: \\\n",
    "Размер движущегося окна. Если целое число, то фиксированное количество наблюдений, используемых для каждого окна."
   ]
  },
  {
   "cell_type": "markdown",
   "id": "6716ca2a",
   "metadata": {},
   "source": [
    "**Задача 5.**"
   ]
  },
  {
   "cell_type": "code",
   "execution_count": 203,
   "id": "79ffc638",
   "metadata": {},
   "outputs": [
    {
     "data": {
      "text/plain": [
       "0    1.301296\n",
       "1    1.804414\n",
       "2    1.992582\n",
       "3    2.061324\n",
       "4    1.934145\n",
       "Name: AveragePrice, dtype: float64"
      ]
     },
     "execution_count": 203,
     "metadata": {},
     "output_type": "execute_result"
    }
   ],
   "source": [
    "avocado_ewm = avocado_mean.AveragePrice.ewm(span=2).sum()\n",
    "avocado_ewm.head()"
   ]
  },
  {
   "cell_type": "markdown",
   "id": "c98168f4",
   "metadata": {},
   "source": [
    "**Задача 6.**"
   ]
  },
  {
   "cell_type": "markdown",
   "id": "f89ee833",
   "metadata": {},
   "source": [
    "⭐️Задание со звёздочкой!⭐️ И еще один стэп, чтобы закрепить материал. Импортируйте полные данные, (avocado_full.csv) указав index_col=0 (использовать первую колонку как индекс). Для авокадо типа organic (type) в Чикаго (region) посчитайте скользящее среднее с окном 4 и экспоненциальное скользящее среднее с параметром span=4. Постройте графики, а затем заполните пропуски. Числа округлите до трех знаков после точки."
   ]
  },
  {
   "cell_type": "code",
   "execution_count": 236,
   "id": "882904f6",
   "metadata": {},
   "outputs": [
    {
     "data": {
      "text/html": [
       "<div>\n",
       "<style scoped>\n",
       "    .dataframe tbody tr th:only-of-type {\n",
       "        vertical-align: middle;\n",
       "    }\n",
       "\n",
       "    .dataframe tbody tr th {\n",
       "        vertical-align: top;\n",
       "    }\n",
       "\n",
       "    .dataframe thead th {\n",
       "        text-align: right;\n",
       "    }\n",
       "</style>\n",
       "<table border=\"1\" class=\"dataframe\">\n",
       "  <thead>\n",
       "    <tr style=\"text-align: right;\">\n",
       "      <th></th>\n",
       "      <th>AveragePrice</th>\n",
       "      <th>Total Volume</th>\n",
       "      <th>4046</th>\n",
       "      <th>4225</th>\n",
       "      <th>4770</th>\n",
       "      <th>Total Bags</th>\n",
       "      <th>Small Bags</th>\n",
       "      <th>Large Bags</th>\n",
       "      <th>XLarge Bags</th>\n",
       "      <th>type</th>\n",
       "      <th>year</th>\n",
       "      <th>region</th>\n",
       "    </tr>\n",
       "    <tr>\n",
       "      <th>Date</th>\n",
       "      <th></th>\n",
       "      <th></th>\n",
       "      <th></th>\n",
       "      <th></th>\n",
       "      <th></th>\n",
       "      <th></th>\n",
       "      <th></th>\n",
       "      <th></th>\n",
       "      <th></th>\n",
       "      <th></th>\n",
       "      <th></th>\n",
       "      <th></th>\n",
       "    </tr>\n",
       "  </thead>\n",
       "  <tbody>\n",
       "    <tr>\n",
       "      <th>2015-01-04</th>\n",
       "      <td>1.75</td>\n",
       "      <td>27365.89</td>\n",
       "      <td>9307.34</td>\n",
       "      <td>3844.81</td>\n",
       "      <td>615.28</td>\n",
       "      <td>13598.46</td>\n",
       "      <td>13061.10</td>\n",
       "      <td>537.36</td>\n",
       "      <td>0.0</td>\n",
       "      <td>organic</td>\n",
       "      <td>2015</td>\n",
       "      <td>Southeast</td>\n",
       "    </tr>\n",
       "    <tr>\n",
       "      <th>2015-01-04</th>\n",
       "      <td>1.49</td>\n",
       "      <td>17723.17</td>\n",
       "      <td>1189.35</td>\n",
       "      <td>15628.27</td>\n",
       "      <td>0.00</td>\n",
       "      <td>905.55</td>\n",
       "      <td>905.55</td>\n",
       "      <td>0.00</td>\n",
       "      <td>0.0</td>\n",
       "      <td>organic</td>\n",
       "      <td>2015</td>\n",
       "      <td>Chicago</td>\n",
       "    </tr>\n",
       "    <tr>\n",
       "      <th>2015-01-04</th>\n",
       "      <td>1.68</td>\n",
       "      <td>2896.72</td>\n",
       "      <td>161.68</td>\n",
       "      <td>206.96</td>\n",
       "      <td>0.00</td>\n",
       "      <td>2528.08</td>\n",
       "      <td>2528.08</td>\n",
       "      <td>0.00</td>\n",
       "      <td>0.0</td>\n",
       "      <td>organic</td>\n",
       "      <td>2015</td>\n",
       "      <td>HarrisburgScranton</td>\n",
       "    </tr>\n",
       "    <tr>\n",
       "      <th>2015-01-04</th>\n",
       "      <td>1.52</td>\n",
       "      <td>54956.80</td>\n",
       "      <td>3013.04</td>\n",
       "      <td>35456.88</td>\n",
       "      <td>1561.70</td>\n",
       "      <td>14925.18</td>\n",
       "      <td>11264.80</td>\n",
       "      <td>3660.38</td>\n",
       "      <td>0.0</td>\n",
       "      <td>conventional</td>\n",
       "      <td>2015</td>\n",
       "      <td>Pittsburgh</td>\n",
       "    </tr>\n",
       "    <tr>\n",
       "      <th>2015-01-04</th>\n",
       "      <td>1.64</td>\n",
       "      <td>1505.12</td>\n",
       "      <td>1.27</td>\n",
       "      <td>1129.50</td>\n",
       "      <td>0.00</td>\n",
       "      <td>374.35</td>\n",
       "      <td>186.67</td>\n",
       "      <td>187.68</td>\n",
       "      <td>0.0</td>\n",
       "      <td>organic</td>\n",
       "      <td>2015</td>\n",
       "      <td>Boise</td>\n",
       "    </tr>\n",
       "  </tbody>\n",
       "</table>\n",
       "</div>"
      ],
      "text/plain": [
       "            AveragePrice  Total Volume     4046      4225     4770  \\\n",
       "Date                                                                 \n",
       "2015-01-04          1.75      27365.89  9307.34   3844.81   615.28   \n",
       "2015-01-04          1.49      17723.17  1189.35  15628.27     0.00   \n",
       "2015-01-04          1.68       2896.72   161.68    206.96     0.00   \n",
       "2015-01-04          1.52      54956.80  3013.04  35456.88  1561.70   \n",
       "2015-01-04          1.64       1505.12     1.27   1129.50     0.00   \n",
       "\n",
       "            Total Bags  Small Bags  Large Bags  XLarge Bags          type  \\\n",
       "Date                                                                        \n",
       "2015-01-04    13598.46    13061.10      537.36          0.0       organic   \n",
       "2015-01-04      905.55      905.55        0.00          0.0       organic   \n",
       "2015-01-04     2528.08     2528.08        0.00          0.0       organic   \n",
       "2015-01-04    14925.18    11264.80     3660.38          0.0  conventional   \n",
       "2015-01-04      374.35      186.67      187.68          0.0       organic   \n",
       "\n",
       "            year              region  \n",
       "Date                                  \n",
       "2015-01-04  2015           Southeast  \n",
       "2015-01-04  2015             Chicago  \n",
       "2015-01-04  2015  HarrisburgScranton  \n",
       "2015-01-04  2015          Pittsburgh  \n",
       "2015-01-04  2015               Boise  "
      ]
     },
     "execution_count": 236,
     "metadata": {},
     "output_type": "execute_result"
    }
   ],
   "source": [
    "avocado_full = pd.read_csv('avocado_full.csv', index_col=0)\n",
    "avocado_full.head()"
   ]
  },
  {
   "cell_type": "code",
   "execution_count": 237,
   "id": "cdaa2d10",
   "metadata": {},
   "outputs": [
    {
     "data": {
      "text/html": [
       "<div>\n",
       "<style scoped>\n",
       "    .dataframe tbody tr th:only-of-type {\n",
       "        vertical-align: middle;\n",
       "    }\n",
       "\n",
       "    .dataframe tbody tr th {\n",
       "        vertical-align: top;\n",
       "    }\n",
       "\n",
       "    .dataframe thead th {\n",
       "        text-align: right;\n",
       "    }\n",
       "</style>\n",
       "<table border=\"1\" class=\"dataframe\">\n",
       "  <thead>\n",
       "    <tr style=\"text-align: right;\">\n",
       "      <th></th>\n",
       "      <th>AveragePrice</th>\n",
       "      <th>Total Volume</th>\n",
       "      <th>4046</th>\n",
       "      <th>4225</th>\n",
       "      <th>4770</th>\n",
       "      <th>Total Bags</th>\n",
       "      <th>Small Bags</th>\n",
       "      <th>Large Bags</th>\n",
       "      <th>XLarge Bags</th>\n",
       "      <th>type</th>\n",
       "      <th>year</th>\n",
       "      <th>region</th>\n",
       "    </tr>\n",
       "    <tr>\n",
       "      <th>Date</th>\n",
       "      <th></th>\n",
       "      <th></th>\n",
       "      <th></th>\n",
       "      <th></th>\n",
       "      <th></th>\n",
       "      <th></th>\n",
       "      <th></th>\n",
       "      <th></th>\n",
       "      <th></th>\n",
       "      <th></th>\n",
       "      <th></th>\n",
       "      <th></th>\n",
       "    </tr>\n",
       "  </thead>\n",
       "  <tbody>\n",
       "    <tr>\n",
       "      <th>2015-01-04</th>\n",
       "      <td>1.49</td>\n",
       "      <td>17723.17</td>\n",
       "      <td>1189.35</td>\n",
       "      <td>15628.27</td>\n",
       "      <td>0.0</td>\n",
       "      <td>905.55</td>\n",
       "      <td>905.55</td>\n",
       "      <td>0.0</td>\n",
       "      <td>0.0</td>\n",
       "      <td>organic</td>\n",
       "      <td>2015</td>\n",
       "      <td>Chicago</td>\n",
       "    </tr>\n",
       "    <tr>\n",
       "      <th>2015-01-11</th>\n",
       "      <td>1.79</td>\n",
       "      <td>12915.74</td>\n",
       "      <td>1426.75</td>\n",
       "      <td>10900.10</td>\n",
       "      <td>0.0</td>\n",
       "      <td>588.89</td>\n",
       "      <td>588.89</td>\n",
       "      <td>0.0</td>\n",
       "      <td>0.0</td>\n",
       "      <td>organic</td>\n",
       "      <td>2015</td>\n",
       "      <td>Chicago</td>\n",
       "    </tr>\n",
       "    <tr>\n",
       "      <th>2015-01-18</th>\n",
       "      <td>1.81</td>\n",
       "      <td>12499.87</td>\n",
       "      <td>1154.81</td>\n",
       "      <td>10830.61</td>\n",
       "      <td>0.0</td>\n",
       "      <td>514.45</td>\n",
       "      <td>514.45</td>\n",
       "      <td>0.0</td>\n",
       "      <td>0.0</td>\n",
       "      <td>organic</td>\n",
       "      <td>2015</td>\n",
       "      <td>Chicago</td>\n",
       "    </tr>\n",
       "    <tr>\n",
       "      <th>2015-01-25</th>\n",
       "      <td>1.83</td>\n",
       "      <td>10951.51</td>\n",
       "      <td>711.63</td>\n",
       "      <td>9515.44</td>\n",
       "      <td>0.0</td>\n",
       "      <td>724.44</td>\n",
       "      <td>724.44</td>\n",
       "      <td>0.0</td>\n",
       "      <td>0.0</td>\n",
       "      <td>organic</td>\n",
       "      <td>2015</td>\n",
       "      <td>Chicago</td>\n",
       "    </tr>\n",
       "    <tr>\n",
       "      <th>2015-02-01</th>\n",
       "      <td>1.52</td>\n",
       "      <td>14391.05</td>\n",
       "      <td>1363.35</td>\n",
       "      <td>11835.47</td>\n",
       "      <td>0.0</td>\n",
       "      <td>1192.23</td>\n",
       "      <td>1192.23</td>\n",
       "      <td>0.0</td>\n",
       "      <td>0.0</td>\n",
       "      <td>organic</td>\n",
       "      <td>2015</td>\n",
       "      <td>Chicago</td>\n",
       "    </tr>\n",
       "  </tbody>\n",
       "</table>\n",
       "</div>"
      ],
      "text/plain": [
       "            AveragePrice  Total Volume     4046      4225  4770  Total Bags  \\\n",
       "Date                                                                          \n",
       "2015-01-04          1.49      17723.17  1189.35  15628.27   0.0      905.55   \n",
       "2015-01-11          1.79      12915.74  1426.75  10900.10   0.0      588.89   \n",
       "2015-01-18          1.81      12499.87  1154.81  10830.61   0.0      514.45   \n",
       "2015-01-25          1.83      10951.51   711.63   9515.44   0.0      724.44   \n",
       "2015-02-01          1.52      14391.05  1363.35  11835.47   0.0     1192.23   \n",
       "\n",
       "            Small Bags  Large Bags  XLarge Bags     type  year   region  \n",
       "Date                                                                     \n",
       "2015-01-04      905.55         0.0          0.0  organic  2015  Chicago  \n",
       "2015-01-11      588.89         0.0          0.0  organic  2015  Chicago  \n",
       "2015-01-18      514.45         0.0          0.0  organic  2015  Chicago  \n",
       "2015-01-25      724.44         0.0          0.0  organic  2015  Chicago  \n",
       "2015-02-01     1192.23         0.0          0.0  organic  2015  Chicago  "
      ]
     },
     "execution_count": 237,
     "metadata": {},
     "output_type": "execute_result"
    }
   ],
   "source": [
    "organic_chicago = avocado_full.query(\"type == 'organic' and region == 'Chicago'\")\n",
    "organic_chicago.head()"
   ]
  },
  {
   "cell_type": "code",
   "execution_count": 238,
   "id": "5155b3dd",
   "metadata": {},
   "outputs": [
    {
     "data": {
      "text/plain": [
       "Date\n",
       "2015-01-04       NaN\n",
       "2015-01-11       NaN\n",
       "2015-01-18       NaN\n",
       "2015-01-25    1.7300\n",
       "2015-02-01    1.7375\n",
       "Name: AveragePrice, dtype: float64"
      ]
     },
     "execution_count": 238,
     "metadata": {},
     "output_type": "execute_result"
    }
   ],
   "source": [
    "org_chig_mean = organic_chicago.AveragePrice.rolling(4).mean() # Скользящее среднее\n",
    "org_chig_mean.head()"
   ]
  },
  {
   "cell_type": "code",
   "execution_count": 239,
   "id": "3b47ebbf",
   "metadata": {},
   "outputs": [
    {
     "data": {
      "text/plain": [
       "Date\n",
       "2015-01-04    1.490000\n",
       "2015-01-11    1.677500\n",
       "2015-01-18    1.745102\n",
       "2015-01-25    1.784118\n",
       "2015-02-01    1.669563\n",
       "Name: AveragePrice, dtype: float64"
      ]
     },
     "execution_count": 239,
     "metadata": {},
     "output_type": "execute_result"
    }
   ],
   "source": [
    "org_chig_exp_mean = organic_chicago.AveragePrice.ewm(span=4).mean() # Скользящее экспоненциальное среднее\n",
    "org_chig_exp_mean.head()"
   ]
  },
  {
   "cell_type": "code",
   "execution_count": 240,
   "id": "419bf10f",
   "metadata": {},
   "outputs": [
    {
     "data": {
      "image/png": "[encoded data removed]",
      "text/plain": [
       "<Figure size 864x360 with 2 Axes>"
      ]
     },
     "metadata": {
      "needs_background": "light"
     },
     "output_type": "display_data"
    }
   ],
   "source": [
    "f, ax = plt.subplots(1, 2, figsize=[12, 5])\n",
    "sns.lineplot(ax=ax[0], data=org_chig_mean)\n",
    "ax[0].set_title('Скользящее среднее с окном 4')\n",
    "\n",
    "sns.lineplot(ax=ax[1], data=org_chig_exp_mean)\n",
    "ax[1].set_title('Скользящее экспоненциальное среднее, где span равен 4');"
   ]
  },
  {
   "cell_type": "markdown",
   "id": "da8d6848",
   "metadata": {},
   "source": [
    "**Задача 7.**"
   ]
  },
  {
   "cell_type": "code",
   "execution_count": 241,
   "id": "75bfc7cb",
   "metadata": {},
   "outputs": [
    {
     "data": {
      "text/html": [
       "<div>\n",
       "<style scoped>\n",
       "    .dataframe tbody tr th:only-of-type {\n",
       "        vertical-align: middle;\n",
       "    }\n",
       "\n",
       "    .dataframe tbody tr th {\n",
       "        vertical-align: top;\n",
       "    }\n",
       "\n",
       "    .dataframe thead th {\n",
       "        text-align: right;\n",
       "    }\n",
       "</style>\n",
       "<table border=\"1\" class=\"dataframe\">\n",
       "  <thead>\n",
       "    <tr style=\"text-align: right;\">\n",
       "      <th></th>\n",
       "      <th>client_id</th>\n",
       "      <th>company_id</th>\n",
       "      <th>delay</th>\n",
       "      <th>revenue</th>\n",
       "    </tr>\n",
       "  </thead>\n",
       "  <tbody>\n",
       "    <tr>\n",
       "      <th>0</th>\n",
       "      <td>2389</td>\n",
       "      <td>4240</td>\n",
       "      <td>-1 days -14:57:48.000000000</td>\n",
       "      <td>705436</td>\n",
       "    </tr>\n",
       "    <tr>\n",
       "      <th>1</th>\n",
       "      <td>7614</td>\n",
       "      <td>9544</td>\n",
       "      <td>-4 days -02:14:23.000000000</td>\n",
       "      <td>859266</td>\n",
       "    </tr>\n",
       "    <tr>\n",
       "      <th>2</th>\n",
       "      <td>2052</td>\n",
       "      <td>2427</td>\n",
       "      <td>-0 days -06:08:57.000000000</td>\n",
       "      <td>812416</td>\n",
       "    </tr>\n",
       "    <tr>\n",
       "      <th>3</th>\n",
       "      <td>9635</td>\n",
       "      <td>8054</td>\n",
       "      <td>-0 days -23:40:19.000000000</td>\n",
       "      <td>162312</td>\n",
       "    </tr>\n",
       "    <tr>\n",
       "      <th>4</th>\n",
       "      <td>8154</td>\n",
       "      <td>5503</td>\n",
       "      <td>-1 days -13:21:53.000000000</td>\n",
       "      <td>658844</td>\n",
       "    </tr>\n",
       "  </tbody>\n",
       "</table>\n",
       "</div>"
      ],
      "text/plain": [
       "   client_id  company_id                        delay  revenue\n",
       "0       2389        4240  -1 days -14:57:48.000000000   705436\n",
       "1       7614        9544  -4 days -02:14:23.000000000   859266\n",
       "2       2052        2427  -0 days -06:08:57.000000000   812416\n",
       "3       9635        8054  -0 days -23:40:19.000000000   162312\n",
       "4       8154        5503  -1 days -13:21:53.000000000   658844"
      ]
     },
     "execution_count": 241,
     "metadata": {},
     "output_type": "execute_result"
    }
   ],
   "source": [
    "delays = pd.read_csv('delays.csv')\n",
    "delays.head()"
   ]
  },
  {
   "cell_type": "code",
   "execution_count": 242,
   "id": "7836105f",
   "metadata": {},
   "outputs": [
    {
     "data": {
      "text/html": [
       "<div>\n",
       "<style scoped>\n",
       "    .dataframe tbody tr th:only-of-type {\n",
       "        vertical-align: middle;\n",
       "    }\n",
       "\n",
       "    .dataframe tbody tr th {\n",
       "        vertical-align: top;\n",
       "    }\n",
       "\n",
       "    .dataframe thead th {\n",
       "        text-align: right;\n",
       "    }\n",
       "</style>\n",
       "<table border=\"1\" class=\"dataframe\">\n",
       "  <thead>\n",
       "    <tr style=\"text-align: right;\">\n",
       "      <th></th>\n",
       "      <th>client_id</th>\n",
       "      <th>company_id</th>\n",
       "      <th>delay</th>\n",
       "      <th>revenue</th>\n",
       "    </tr>\n",
       "  </thead>\n",
       "  <tbody>\n",
       "    <tr>\n",
       "      <th>0</th>\n",
       "      <td>2389</td>\n",
       "      <td>4240</td>\n",
       "      <td>1 days 14:57:48</td>\n",
       "      <td>705436</td>\n",
       "    </tr>\n",
       "    <tr>\n",
       "      <th>1</th>\n",
       "      <td>7614</td>\n",
       "      <td>9544</td>\n",
       "      <td>4 days 02:14:23</td>\n",
       "      <td>859266</td>\n",
       "    </tr>\n",
       "    <tr>\n",
       "      <th>2</th>\n",
       "      <td>2052</td>\n",
       "      <td>2427</td>\n",
       "      <td>0 days 06:08:57</td>\n",
       "      <td>812416</td>\n",
       "    </tr>\n",
       "    <tr>\n",
       "      <th>3</th>\n",
       "      <td>9635</td>\n",
       "      <td>8054</td>\n",
       "      <td>0 days 23:40:19</td>\n",
       "      <td>162312</td>\n",
       "    </tr>\n",
       "    <tr>\n",
       "      <th>4</th>\n",
       "      <td>8154</td>\n",
       "      <td>5503</td>\n",
       "      <td>1 days 13:21:53</td>\n",
       "      <td>658844</td>\n",
       "    </tr>\n",
       "  </tbody>\n",
       "</table>\n",
       "</div>"
      ],
      "text/plain": [
       "   client_id  company_id           delay  revenue\n",
       "0       2389        4240 1 days 14:57:48   705436\n",
       "1       7614        9544 4 days 02:14:23   859266\n",
       "2       2052        2427 0 days 06:08:57   812416\n",
       "3       9635        8054 0 days 23:40:19   162312\n",
       "4       8154        5503 1 days 13:21:53   658844"
      ]
     },
     "execution_count": 242,
     "metadata": {},
     "output_type": "execute_result"
    }
   ],
   "source": [
    "delays.delay = pd.to_timedelta(delays.delay.str.replace('-', ''))\n",
    "delays.head()"
   ]
  },
  {
   "cell_type": "markdown",
   "id": "806e350f",
   "metadata": {},
   "source": [
    "**Задача 8.**"
   ]
  },
  {
   "cell_type": "code",
   "execution_count": 243,
   "id": "5748fba1",
   "metadata": {},
   "outputs": [
    {
     "data": {
      "text/html": [
       "<div>\n",
       "<style scoped>\n",
       "    .dataframe tbody tr th:only-of-type {\n",
       "        vertical-align: middle;\n",
       "    }\n",
       "\n",
       "    .dataframe tbody tr th {\n",
       "        vertical-align: top;\n",
       "    }\n",
       "\n",
       "    .dataframe thead th {\n",
       "        text-align: right;\n",
       "    }\n",
       "</style>\n",
       "<table border=\"1\" class=\"dataframe\">\n",
       "  <thead>\n",
       "    <tr style=\"text-align: right;\">\n",
       "      <th></th>\n",
       "      <th>client_id</th>\n",
       "      <th>company_id</th>\n",
       "      <th>delay</th>\n",
       "      <th>revenue</th>\n",
       "      <th>delay_categorical</th>\n",
       "    </tr>\n",
       "  </thead>\n",
       "  <tbody>\n",
       "    <tr>\n",
       "      <th>0</th>\n",
       "      <td>2389</td>\n",
       "      <td>4240</td>\n",
       "      <td>1 days 14:57:48</td>\n",
       "      <td>705436</td>\n",
       "      <td>(0 days 00:27:11.587000, 1 days 16:19:58.66666...</td>\n",
       "    </tr>\n",
       "    <tr>\n",
       "      <th>1</th>\n",
       "      <td>7614</td>\n",
       "      <td>9544</td>\n",
       "      <td>4 days 02:14:23</td>\n",
       "      <td>859266</td>\n",
       "      <td>(3 days 08:05:36.333333333, 4 days 23:51:14]</td>\n",
       "    </tr>\n",
       "    <tr>\n",
       "      <th>2</th>\n",
       "      <td>2052</td>\n",
       "      <td>2427</td>\n",
       "      <td>0 days 06:08:57</td>\n",
       "      <td>812416</td>\n",
       "      <td>(0 days 00:27:11.587000, 1 days 16:19:58.66666...</td>\n",
       "    </tr>\n",
       "    <tr>\n",
       "      <th>3</th>\n",
       "      <td>9635</td>\n",
       "      <td>8054</td>\n",
       "      <td>0 days 23:40:19</td>\n",
       "      <td>162312</td>\n",
       "      <td>(0 days 00:27:11.587000, 1 days 16:19:58.66666...</td>\n",
       "    </tr>\n",
       "    <tr>\n",
       "      <th>4</th>\n",
       "      <td>8154</td>\n",
       "      <td>5503</td>\n",
       "      <td>1 days 13:21:53</td>\n",
       "      <td>658844</td>\n",
       "      <td>(0 days 00:27:11.587000, 1 days 16:19:58.66666...</td>\n",
       "    </tr>\n",
       "  </tbody>\n",
       "</table>\n",
       "</div>"
      ],
      "text/plain": [
       "   client_id  company_id           delay  revenue  \\\n",
       "0       2389        4240 1 days 14:57:48   705436   \n",
       "1       7614        9544 4 days 02:14:23   859266   \n",
       "2       2052        2427 0 days 06:08:57   812416   \n",
       "3       9635        8054 0 days 23:40:19   162312   \n",
       "4       8154        5503 1 days 13:21:53   658844   \n",
       "\n",
       "                                   delay_categorical  \n",
       "0  (0 days 00:27:11.587000, 1 days 16:19:58.66666...  \n",
       "1       (3 days 08:05:36.333333333, 4 days 23:51:14]  \n",
       "2  (0 days 00:27:11.587000, 1 days 16:19:58.66666...  \n",
       "3  (0 days 00:27:11.587000, 1 days 16:19:58.66666...  \n",
       "4  (0 days 00:27:11.587000, 1 days 16:19:58.66666...  "
      ]
     },
     "execution_count": 243,
     "metadata": {},
     "output_type": "execute_result"
    }
   ],
   "source": [
    "delays['delay_categorical'] = pd.cut(x=delays.delay, bins=3)\n",
    "delays.head()"
   ]
  },
  {
   "cell_type": "markdown",
   "id": "78dfcbd4",
   "metadata": {},
   "source": [
    "**Задача 9.**"
   ]
  },
  {
   "cell_type": "code",
   "execution_count": 244,
   "id": "9f24aeba",
   "metadata": {},
   "outputs": [
    {
     "data": {
      "text/html": [
       "<div>\n",
       "<style scoped>\n",
       "    .dataframe tbody tr th:only-of-type {\n",
       "        vertical-align: middle;\n",
       "    }\n",
       "\n",
       "    .dataframe tbody tr th {\n",
       "        vertical-align: top;\n",
       "    }\n",
       "\n",
       "    .dataframe thead th {\n",
       "        text-align: right;\n",
       "    }\n",
       "</style>\n",
       "<table border=\"1\" class=\"dataframe\">\n",
       "  <thead>\n",
       "    <tr style=\"text-align: right;\">\n",
       "      <th></th>\n",
       "      <th>client_id</th>\n",
       "      <th>company_id</th>\n",
       "      <th>delay</th>\n",
       "      <th>revenue</th>\n",
       "      <th>delay_categorical</th>\n",
       "    </tr>\n",
       "  </thead>\n",
       "  <tbody>\n",
       "    <tr>\n",
       "      <th>0</th>\n",
       "      <td>2389</td>\n",
       "      <td>4240</td>\n",
       "      <td>1 days 14:57:48</td>\n",
       "      <td>705436</td>\n",
       "      <td>1-2 days</td>\n",
       "    </tr>\n",
       "    <tr>\n",
       "      <th>1</th>\n",
       "      <td>7614</td>\n",
       "      <td>9544</td>\n",
       "      <td>4 days 02:14:23</td>\n",
       "      <td>859266</td>\n",
       "      <td>more than 3 days</td>\n",
       "    </tr>\n",
       "    <tr>\n",
       "      <th>2</th>\n",
       "      <td>2052</td>\n",
       "      <td>2427</td>\n",
       "      <td>0 days 06:08:57</td>\n",
       "      <td>812416</td>\n",
       "      <td>less than 1 day</td>\n",
       "    </tr>\n",
       "    <tr>\n",
       "      <th>3</th>\n",
       "      <td>9635</td>\n",
       "      <td>8054</td>\n",
       "      <td>0 days 23:40:19</td>\n",
       "      <td>162312</td>\n",
       "      <td>less than 1 day</td>\n",
       "    </tr>\n",
       "    <tr>\n",
       "      <th>4</th>\n",
       "      <td>8154</td>\n",
       "      <td>5503</td>\n",
       "      <td>1 days 13:21:53</td>\n",
       "      <td>658844</td>\n",
       "      <td>1-2 days</td>\n",
       "    </tr>\n",
       "  </tbody>\n",
       "</table>\n",
       "</div>"
      ],
      "text/plain": [
       "   client_id  company_id           delay  revenue delay_categorical\n",
       "0       2389        4240 1 days 14:57:48   705436          1-2 days\n",
       "1       7614        9544 4 days 02:14:23   859266  more than 3 days\n",
       "2       2052        2427 0 days 06:08:57   812416   less than 1 day\n",
       "3       9635        8054 0 days 23:40:19   162312   less than 1 day\n",
       "4       8154        5503 1 days 13:21:53   658844          1-2 days"
      ]
     },
     "execution_count": 244,
     "metadata": {},
     "output_type": "execute_result"
    }
   ],
   "source": [
    "bins = pd.to_timedelta(['0 days 00:00:00.000000', '1 days 00:00:00.000000',\n",
    "    '2 days 00:00:00.000000', '3 days 00:00:00.000000', f'{delays.delay.max()}'])\n",
    "labels = ['less than 1 day', '1-2 days', '2-3 days', 'more than 3 days']\n",
    "\n",
    "delays['delay_categorical'] = pd.cut(x=delays.delay, bins=bins, labels=labels)\n",
    "delays.head()"
   ]
  },
  {
   "cell_type": "markdown",
   "id": "5972c0df",
   "metadata": {},
   "source": [
    "**Задача 10.**"
   ]
  },
  {
   "cell_type": "code",
   "execution_count": 245,
   "id": "0c219bf7",
   "metadata": {},
   "outputs": [
    {
     "data": {
      "image/png": "[encoded data removed]",
      "text/plain": [
       "<Figure size 432x288 with 1 Axes>"
      ]
     },
     "metadata": {
      "needs_background": "light"
     },
     "output_type": "display_data"
    }
   ],
   "source": [
    "gap_data = delays.delay_categorical.value_counts()\n",
    "\n",
    "sns.barplot(x=gap_data.index, y=gap_data, orient=\"v\");"
   ]
  }
 ],
 "metadata": {
  "kernelspec": {
   "display_name": "Python 3 (ipykernel)",
   "language": "python",
   "name": "python3"
  },
  "language_info": {
   "codemirror_mode": {
    "name": "ipython",
    "version": 3
   },
   "file_extension": ".py",
   "mimetype": "text/x-python",
   "name": "python",
   "nbconvert_exporter": "python",
   "pygments_lexer": "ipython3",
   "version": "3.9.12"
  }
 },
 "nbformat": 4,
 "nbformat_minor": 5
}
