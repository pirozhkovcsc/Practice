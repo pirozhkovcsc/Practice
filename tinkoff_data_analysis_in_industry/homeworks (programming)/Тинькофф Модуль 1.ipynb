{
 "cells": [
  {
   "attachments": {},
   "cell_type": "markdown",
   "metadata": {},
   "source": [
    "# 2. SQL"
   ]
  },
  {
   "cell_type": "code",
   "execution_count": 1,
   "metadata": {},
   "outputs": [],
   "source": [
    "# !pip3 install psycopg2-binary\n",
    "# https://www.psycopg.org/docs/install.html#quick-install"
   ]
  },
  {
   "cell_type": "code",
   "execution_count": 2,
   "metadata": {},
   "outputs": [],
   "source": [
    "import psycopg2\n",
    "import pandas as pd\n",
    "import warnings\n",
    "warnings.filterwarnings(\"ignore\")"
   ]
  },
  {
   "cell_type": "code",
   "execution_count": 3,
   "metadata": {},
   "outputs": [],
   "source": [
    "conn = psycopg2.connect(\n",
    "    host=\"158.160.52.106\",\n",
    "    port=5432,\n",
    "    database=\"postgres\",\n",
    "    user=\"student\",\n",
    "    password=\"JvLda93aA\",\n",
    ")"
   ]
  },
  {
   "attachments": {},
   "cell_type": "markdown",
   "metadata": {},
   "source": [
    "### Задача 1. Со сколькими креативными агентствами мы работаем? Креативное агентство – это партнер без единой локации, но имеющий патент на хотя бы одну легенду."
   ]
  },
  {
   "cell_type": "code",
   "execution_count": 4,
   "metadata": {},
   "outputs": [
    {
     "data": {
      "text/html": [
       "<div>\n",
       "<style scoped>\n",
       "    .dataframe tbody tr th:only-of-type {\n",
       "        vertical-align: middle;\n",
       "    }\n",
       "\n",
       "    .dataframe tbody tr th {\n",
       "        vertical-align: top;\n",
       "    }\n",
       "\n",
       "    .dataframe thead th {\n",
       "        text-align: right;\n",
       "    }\n",
       "</style>\n",
       "<table border=\"1\" class=\"dataframe\">\n",
       "  <thead>\n",
       "    <tr style=\"text-align: right;\">\n",
       "      <th></th>\n",
       "      <th>amount</th>\n",
       "    </tr>\n",
       "  </thead>\n",
       "  <tbody>\n",
       "    <tr>\n",
       "      <th>0</th>\n",
       "      <td>4</td>\n",
       "    </tr>\n",
       "  </tbody>\n",
       "</table>\n",
       "</div>"
      ],
      "text/plain": [
       "   amount\n",
       "0       4"
      ]
     },
     "execution_count": 4,
     "metadata": {},
     "output_type": "execute_result"
    }
   ],
   "source": [
    "query_1 = '''\n",
    "\n",
    "select count(distinct t.partner_rk) as amount\n",
    "from\n",
    "(select p.partner_rk\n",
    "from \n",
    "msu_analytics.Partner p\n",
    "left join\n",
    "msu_analytics.Location l\n",
    "using(partner_rk)\n",
    "where l.partner_rk is null) t\n",
    "join\n",
    "msu_analytics.Legend\n",
    "using(partner_rk)\n",
    "\n",
    "        '''\n",
    "\n",
    "pd.read_sql(query_1, conn)"
   ]
  },
  {
   "cell_type": "markdown",
   "metadata": {},
   "source": [
    "### Задача 2. У какого квеста (укажите его quest_nm) разница доли состоявшихся квестов в декабре 2022 и в январе 2023 наибольшая по модулю? Долей считать количество состоявшихся квестов деленное на количество заявленных. В случае наличия нескольких квестов, подходящих под условие, требуется вывести тот, у которого значение quest_rk больше."
   ]
  },
  {
   "cell_type": "code",
   "execution_count": 5,
   "metadata": {},
   "outputs": [
    {
     "data": {
      "text/html": [
       "<div>\n",
       "<style scoped>\n",
       "    .dataframe tbody tr th:only-of-type {\n",
       "        vertical-align: middle;\n",
       "    }\n",
       "\n",
       "    .dataframe tbody tr th {\n",
       "        vertical-align: top;\n",
       "    }\n",
       "\n",
       "    .dataframe thead th {\n",
       "        text-align: right;\n",
       "    }\n",
       "</style>\n",
       "<table border=\"1\" class=\"dataframe\">\n",
       "  <thead>\n",
       "    <tr style=\"text-align: right;\">\n",
       "      <th></th>\n",
       "      <th>quest_rk</th>\n",
       "      <th>quest_nm</th>\n",
       "      <th>proportion</th>\n",
       "    </tr>\n",
       "  </thead>\n",
       "  <tbody>\n",
       "    <tr>\n",
       "      <th>0</th>\n",
       "      <td>9</td>\n",
       "      <td>Реактивный восходящий тренд</td>\n",
       "      <td>1.0</td>\n",
       "    </tr>\n",
       "  </tbody>\n",
       "</table>\n",
       "</div>"
      ],
      "text/plain": [
       "   quest_rk                     quest_nm  proportion\n",
       "0         9  Реактивный восходящий тренд         1.0"
      ]
     },
     "execution_count": 5,
     "metadata": {},
     "output_type": "execute_result"
    }
   ],
   "source": [
    "query_2 = '''\n",
    "\n",
    "select q.quest_rk,\n",
    "    q.quest_nm,\n",
    "    proportion\n",
    "from\n",
    "(select quest_rk,\n",
    "    abs(avg(game_flg) filter(where date_part('year', game_dttm) = 2022 and date_part('month', game_dttm) = 12) -\n",
    "    avg(game_flg) filter(where date_part('year', game_dttm) = 2023 and date_part('month', game_dttm) = 01)) as proportion\n",
    "from \n",
    "msu_analytics.Game g\n",
    "group by quest_rk) t\n",
    "left join\n",
    "msu_analytics.Quest q\n",
    "using(quest_rk)\n",
    "where proportion is not null\n",
    "order by proportion desc, t.quest_rk\n",
    "limit 1 --можно убрать limit 1 и посмотреть все полученные доли в порядке убывания\n",
    "\n",
    "        '''\n",
    "\n",
    "pd.read_sql(query_2, conn)"
   ]
  },
  {
   "cell_type": "markdown",
   "metadata": {},
   "source": [
    "# 3. Python"
   ]
  },
  {
   "cell_type": "code",
   "execution_count": 6,
   "metadata": {},
   "outputs": [],
   "source": [
    "import numpy as np\n",
    "import pandas as pd\n",
    "import math\n",
    "import random"
   ]
  },
  {
   "attachments": {},
   "cell_type": "markdown",
   "metadata": {},
   "source": [
    "Для выполнения задания потребуется самому сгенерировать данные с помощью модуля random (все пункты выполняются с помощью нее).\n",
    "\n",
    "Что необходимо, для создания будущей таблицы:\n",
    "\n",
    "0. Для генерации данных в random необходимо установить seed = \"АДВИ_2023\", всего длинна каждого списка $N = 1000$;\n",
    "\n",
    "1. **index колонка:** создать список из $N$ последовательных целых элементов от 1 до 1000 включительно, далее, с помощью random, перемешать его -> будем использовать дальше как индексы;\n",
    "\n",
    "2. **groups колонка:** создать список из $N$ элементов, состоящий из значений из списка `[\"группа_1\", \"группа_2\", \"группа_3\", \"группа_4\", \"группа_5\"]` (равномерное распределение);\n",
    "\n",
    "3. **uniform колонка:** создать список из N элементов, состоящий из целых значение из равномерного распределения [50, 100];\n",
    "\n",
    "4. **gauss_1, gauss_2, gauss_3 колонки:** Создать 3 списка из $N$ элементов каждый, заполненные значениями из нормальных распределений с параметрами:\n",
    "- $\\mu = 0, \\sigma^2 = 1$ -> третья колонка gauss_1;\n",
    "- $\\mu = 0, \\sigma^2 = 144$ -> четвертая колонка gauss_2;\n",
    "- $\\mu = 50, \\sigma^2 = 81$ -> пятая колонка gauss_3;\n",
    "5. Создать pandas DataFrame, где (1) будет индексом, (2)-(4) колонки, названия колонок `[\"groups\", \"uniform\", \"gauss_1\", \"gauss_2\", \"gauss_3\"]` соответственно, не забывая проверить, что типы колонок должны соответствовать заявленным типам данных;\n",
    "\n",
    "6. Для колонок `gauss_1` и `gauss_2` заменить значения на None:\n",
    "\n",
    "- Для `gauss_1`, если индекс у значения делится на 121 без остатка;\n",
    "- Для `gauss_2`, если дробная часть больше 0.95;\n",
    "7. Теперь, для пропущенных значений `gauss_1` и `gauss_2`:\n",
    "\n",
    "- Для `gauss_2` None заменить на среднее по колонке;\n",
    "- Удалить строчки из таблицы, где `gauss_1 == None`."
   ]
  },
  {
   "attachments": {},
   "cell_type": "markdown",
   "metadata": {},
   "source": [
    "### Пункт 0."
   ]
  },
  {
   "cell_type": "code",
   "execution_count": 7,
   "metadata": {},
   "outputs": [],
   "source": [
    "random.seed(\"АДВИ_2023\")"
   ]
  },
  {
   "attachments": {},
   "cell_type": "markdown",
   "metadata": {},
   "source": [
    "### Пункт 1."
   ]
  },
  {
   "cell_type": "code",
   "execution_count": 8,
   "metadata": {},
   "outputs": [],
   "source": [
    "index = np.arange(1, 1001)\n",
    "random.shuffle(index)"
   ]
  },
  {
   "attachments": {},
   "cell_type": "markdown",
   "metadata": {},
   "source": [
    "### Пункт 2."
   ]
  },
  {
   "cell_type": "code",
   "execution_count": 9,
   "metadata": {},
   "outputs": [],
   "source": [
    "groups = random.choices([\"группа_1\", \"группа_2\", \"группа_3\", \"группа_4\", \"группа_5\"], k=1000)"
   ]
  },
  {
   "attachments": {},
   "cell_type": "markdown",
   "metadata": {},
   "source": [
    "### Пункт 3."
   ]
  },
  {
   "cell_type": "code",
   "execution_count": 10,
   "metadata": {},
   "outputs": [],
   "source": [
    "uniform = [random.randint(50, 100) for _ in range(1000)]"
   ]
  },
  {
   "cell_type": "markdown",
   "metadata": {},
   "source": [
    "### Пункт 4."
   ]
  },
  {
   "cell_type": "code",
   "execution_count": 11,
   "metadata": {},
   "outputs": [],
   "source": [
    "gauss_1 = [random.gauss(mu=0, sigma=1) for _ in range(1000)]\n",
    "gauss_2 = [random.gauss(mu=0, sigma=12) for _ in range(1000)]\n",
    "gauss_3 = [random.gauss(mu=50, sigma=9) for _ in range(1000)]"
   ]
  },
  {
   "attachments": {},
   "cell_type": "markdown",
   "metadata": {},
   "source": [
    "### Пункт 5."
   ]
  },
  {
   "cell_type": "code",
   "execution_count": 12,
   "metadata": {},
   "outputs": [],
   "source": [
    "df = pd.DataFrame(index=index, \n",
    "                  columns=[\"groups\", \"uniform\", \"gauss_1\", \"gauss_2\", \"gauss_3\"]\n",
    ")"
   ]
  },
  {
   "cell_type": "code",
   "execution_count": 13,
   "metadata": {},
   "outputs": [],
   "source": [
    "df['groups'] = groups\n",
    "df['uniform'] = uniform\n",
    "df['gauss_1'] = gauss_1\n",
    "df['gauss_2'] = gauss_2\n",
    "df['gauss_3'] = gauss_3"
   ]
  },
  {
   "cell_type": "markdown",
   "metadata": {},
   "source": [
    "### Пункт 6."
   ]
  },
  {
   "cell_type": "code",
   "execution_count": 14,
   "metadata": {},
   "outputs": [],
   "source": [
    "df.loc[df.index % 121 == 0, 'gauss_1'] = np.nan\n",
    "df.loc[df.gauss_2.apply(lambda x: x - math.floor(x) > 0.95), 'gauss_2'] = np.nan"
   ]
  },
  {
   "attachments": {},
   "cell_type": "markdown",
   "metadata": {},
   "source": [
    "### Пункт 7."
   ]
  },
  {
   "cell_type": "code",
   "execution_count": 15,
   "metadata": {},
   "outputs": [],
   "source": [
    "df.gauss_2.fillna(df.gauss_2.mean(), inplace=True)\n",
    "df = df[~df.gauss_1.isna()]"
   ]
  },
  {
   "cell_type": "code",
   "execution_count": 16,
   "metadata": {},
   "outputs": [
    {
     "data": {
      "text/html": [
       "<div>\n",
       "<style scoped>\n",
       "    .dataframe tbody tr th:only-of-type {\n",
       "        vertical-align: middle;\n",
       "    }\n",
       "\n",
       "    .dataframe tbody tr th {\n",
       "        vertical-align: top;\n",
       "    }\n",
       "\n",
       "    .dataframe thead th {\n",
       "        text-align: right;\n",
       "    }\n",
       "</style>\n",
       "<table border=\"1\" class=\"dataframe\">\n",
       "  <thead>\n",
       "    <tr style=\"text-align: right;\">\n",
       "      <th></th>\n",
       "      <th>groups</th>\n",
       "      <th>uniform</th>\n",
       "      <th>gauss_1</th>\n",
       "      <th>gauss_2</th>\n",
       "      <th>gauss_3</th>\n",
       "    </tr>\n",
       "  </thead>\n",
       "  <tbody>\n",
       "    <tr>\n",
       "      <th>476</th>\n",
       "      <td>группа_1</td>\n",
       "      <td>95</td>\n",
       "      <td>3.010291</td>\n",
       "      <td>2.156346</td>\n",
       "      <td>57.455851</td>\n",
       "    </tr>\n",
       "    <tr>\n",
       "      <th>315</th>\n",
       "      <td>группа_5</td>\n",
       "      <td>77</td>\n",
       "      <td>0.190277</td>\n",
       "      <td>-9.934550</td>\n",
       "      <td>62.694177</td>\n",
       "    </tr>\n",
       "    <tr>\n",
       "      <th>490</th>\n",
       "      <td>группа_4</td>\n",
       "      <td>96</td>\n",
       "      <td>-0.282161</td>\n",
       "      <td>9.211071</td>\n",
       "      <td>54.688895</td>\n",
       "    </tr>\n",
       "    <tr>\n",
       "      <th>748</th>\n",
       "      <td>группа_3</td>\n",
       "      <td>56</td>\n",
       "      <td>1.127080</td>\n",
       "      <td>-12.391793</td>\n",
       "      <td>30.192353</td>\n",
       "    </tr>\n",
       "    <tr>\n",
       "      <th>471</th>\n",
       "      <td>группа_5</td>\n",
       "      <td>52</td>\n",
       "      <td>-1.238270</td>\n",
       "      <td>10.938748</td>\n",
       "      <td>52.682052</td>\n",
       "    </tr>\n",
       "  </tbody>\n",
       "</table>\n",
       "</div>"
      ],
      "text/plain": [
       "       groups  uniform   gauss_1    gauss_2    gauss_3\n",
       "476  группа_1       95  3.010291   2.156346  57.455851\n",
       "315  группа_5       77  0.190277  -9.934550  62.694177\n",
       "490  группа_4       96 -0.282161   9.211071  54.688895\n",
       "748  группа_3       56  1.127080 -12.391793  30.192353\n",
       "471  группа_5       52 -1.238270  10.938748  52.682052"
      ]
     },
     "execution_count": 16,
     "metadata": {},
     "output_type": "execute_result"
    }
   ],
   "source": [
    "df.head()"
   ]
  },
  {
   "attachments": {},
   "cell_type": "markdown",
   "metadata": {},
   "source": [
    "### Задача 1. Сколько записей всего получилось?"
   ]
  },
  {
   "cell_type": "code",
   "execution_count": 17,
   "metadata": {},
   "outputs": [
    {
     "data": {
      "text/plain": [
       "992"
      ]
     },
     "execution_count": 17,
     "metadata": {},
     "output_type": "execute_result"
    }
   ],
   "source": [
    "df.shape[0]"
   ]
  },
  {
   "attachments": {},
   "cell_type": "markdown",
   "metadata": {},
   "source": [
    "### Задача 2. Найти среднее и среднеквадратичное отклонение у `gauss_2`."
   ]
  },
  {
   "cell_type": "code",
   "execution_count": 18,
   "metadata": {},
   "outputs": [
    {
     "data": {
      "text/plain": [
       "(-0.26, 11.93)"
      ]
     },
     "execution_count": 18,
     "metadata": {},
     "output_type": "execute_result"
    }
   ],
   "source": [
    "round(df.gauss_2.mean(), 2), round(df.gauss_2.std(), 2)"
   ]
  },
  {
   "attachments": {},
   "cell_type": "markdown",
   "metadata": {},
   "source": [
    "### Задача 3. Какая группа встречается чаще всего и сколько раз?"
   ]
  },
  {
   "cell_type": "code",
   "execution_count": 19,
   "metadata": {},
   "outputs": [
    {
     "data": {
      "text/plain": [
       "группа_4    222\n",
       "группа_1    215\n",
       "группа_2    194\n",
       "группа_3    184\n",
       "группа_5    177\n",
       "Name: groups, dtype: int64"
      ]
     },
     "execution_count": 19,
     "metadata": {},
     "output_type": "execute_result"
    }
   ],
   "source": [
    "df.groups.value_counts()"
   ]
  },
  {
   "attachments": {},
   "cell_type": "markdown",
   "metadata": {},
   "source": [
    "### Задача 4. Найти минимальный индекс из `groups == 'группа_5'`."
   ]
  },
  {
   "cell_type": "code",
   "execution_count": 20,
   "metadata": {},
   "outputs": [
    {
     "data": {
      "text/plain": [
       "6"
      ]
     },
     "execution_count": 20,
     "metadata": {},
     "output_type": "execute_result"
    }
   ],
   "source": [
    "df.loc[df.groups == 'группа_5'].index.min()"
   ]
  },
  {
   "attachments": {},
   "cell_type": "markdown",
   "metadata": {},
   "source": [
    "### Задача 5. Сколько элементов в колонке `uniform` больше, чем ее квантиль порядка 0.9?"
   ]
  },
  {
   "cell_type": "code",
   "execution_count": 21,
   "metadata": {},
   "outputs": [
    {
     "data": {
      "text/plain": [
       "118"
      ]
     },
     "execution_count": 21,
     "metadata": {},
     "output_type": "execute_result"
    }
   ],
   "source": [
    "(df.uniform >= np.quantile(a=df.uniform, q=0.9)).sum()"
   ]
  },
  {
   "attachments": {},
   "cell_type": "markdown",
   "metadata": {},
   "source": [
    "### Задача 6. Найти группу с самой большой медианой в колонке `gauss_3`. Вывести эту группу и медиану."
   ]
  },
  {
   "cell_type": "code",
   "execution_count": 22,
   "metadata": {},
   "outputs": [
    {
     "data": {
      "text/html": [
       "<div>\n",
       "<style scoped>\n",
       "    .dataframe tbody tr th:only-of-type {\n",
       "        vertical-align: middle;\n",
       "    }\n",
       "\n",
       "    .dataframe tbody tr th {\n",
       "        vertical-align: top;\n",
       "    }\n",
       "\n",
       "    .dataframe thead th {\n",
       "        text-align: right;\n",
       "    }\n",
       "</style>\n",
       "<table border=\"1\" class=\"dataframe\">\n",
       "  <thead>\n",
       "    <tr style=\"text-align: right;\">\n",
       "      <th></th>\n",
       "      <th>groups</th>\n",
       "      <th>gauss_3</th>\n",
       "    </tr>\n",
       "  </thead>\n",
       "  <tbody>\n",
       "    <tr>\n",
       "      <th>1</th>\n",
       "      <td>группа_2</td>\n",
       "      <td>49.99</td>\n",
       "    </tr>\n",
       "  </tbody>\n",
       "</table>\n",
       "</div>"
      ],
      "text/plain": [
       "     groups  gauss_3\n",
       "1  группа_2    49.99"
      ]
     },
     "execution_count": 22,
     "metadata": {},
     "output_type": "execute_result"
    }
   ],
   "source": [
    "df.groupby(['groups'], as_index=False).agg({'gauss_3': np.median}) \\\n",
    "    .sort_values('gauss_3', ascending=False).head(1).round(2)"
   ]
  },
  {
   "attachments": {},
   "cell_type": "markdown",
   "metadata": {},
   "source": [
    "### Задача 7. Вычислить минимумы в колонке `uniform` в разбивке по группам. Среди них выбрать группу с максимальным минимумом (если такой **единственной** нет, то сделать то же самое с колонкой `gauss_1`). Затем у данной группы вычислить минимальное значение в колонке `gauss_2`. В ответе ожидается группа и минимальное значение в колонке `gauss_2` для этой группы."
   ]
  },
  {
   "cell_type": "code",
   "execution_count": 23,
   "metadata": {},
   "outputs": [
    {
     "data": {
      "text/html": [
       "<div>\n",
       "<style scoped>\n",
       "    .dataframe tbody tr th:only-of-type {\n",
       "        vertical-align: middle;\n",
       "    }\n",
       "\n",
       "    .dataframe tbody tr th {\n",
       "        vertical-align: top;\n",
       "    }\n",
       "\n",
       "    .dataframe thead th {\n",
       "        text-align: right;\n",
       "    }\n",
       "</style>\n",
       "<table border=\"1\" class=\"dataframe\">\n",
       "  <thead>\n",
       "    <tr style=\"text-align: right;\">\n",
       "      <th></th>\n",
       "      <th>groups</th>\n",
       "      <th>uniform</th>\n",
       "    </tr>\n",
       "  </thead>\n",
       "  <tbody>\n",
       "    <tr>\n",
       "      <th>0</th>\n",
       "      <td>группа_1</td>\n",
       "      <td>50</td>\n",
       "    </tr>\n",
       "    <tr>\n",
       "      <th>1</th>\n",
       "      <td>группа_2</td>\n",
       "      <td>50</td>\n",
       "    </tr>\n",
       "    <tr>\n",
       "      <th>2</th>\n",
       "      <td>группа_3</td>\n",
       "      <td>50</td>\n",
       "    </tr>\n",
       "    <tr>\n",
       "      <th>3</th>\n",
       "      <td>группа_4</td>\n",
       "      <td>50</td>\n",
       "    </tr>\n",
       "    <tr>\n",
       "      <th>4</th>\n",
       "      <td>группа_5</td>\n",
       "      <td>50</td>\n",
       "    </tr>\n",
       "  </tbody>\n",
       "</table>\n",
       "</div>"
      ],
      "text/plain": [
       "     groups  uniform\n",
       "0  группа_1       50\n",
       "1  группа_2       50\n",
       "2  группа_3       50\n",
       "3  группа_4       50\n",
       "4  группа_5       50"
      ]
     },
     "execution_count": 23,
     "metadata": {},
     "output_type": "execute_result"
    }
   ],
   "source": [
    "df.groupby(['groups'], as_index=False).agg({'uniform': min}) # Такого нет"
   ]
  },
  {
   "cell_type": "code",
   "execution_count": 24,
   "metadata": {},
   "outputs": [
    {
     "data": {
      "text/plain": [
       "array(['группа_3'], dtype=object)"
      ]
     },
     "execution_count": 24,
     "metadata": {},
     "output_type": "execute_result"
    }
   ],
   "source": [
    "df.groupby(['groups'], as_index=False).agg({'gauss_1': min}).sort_values('gauss_1', ascending=False) \\\n",
    "     .head(1)['groups'].values # группа 3"
   ]
  },
  {
   "cell_type": "code",
   "execution_count": 25,
   "metadata": {},
   "outputs": [
    {
     "data": {
      "text/plain": [
       "-36.19"
      ]
     },
     "execution_count": 25,
     "metadata": {},
     "output_type": "execute_result"
    }
   ],
   "source": [
    "df.loc[df.groups == 'группа_3'].gauss_2.min().round(2)"
   ]
  },
  {
   "attachments": {},
   "cell_type": "markdown",
   "metadata": {},
   "source": [
    "### Задача 8. Добавить колонку `gauss = (gauss_1 + gauss_2) / gauss_3`. Вычислить у нее квантиль порядка 0.7."
   ]
  },
  {
   "cell_type": "code",
   "execution_count": 26,
   "metadata": {},
   "outputs": [],
   "source": [
    "df['gauss'] = (df.gauss_1 + df.gauss_2) / df.gauss_3"
   ]
  },
  {
   "cell_type": "code",
   "execution_count": 27,
   "metadata": {},
   "outputs": [
    {
     "data": {
      "text/plain": [
       "0.11"
      ]
     },
     "execution_count": 27,
     "metadata": {},
     "output_type": "execute_result"
    }
   ],
   "source": [
    "np.quantile(a=df.gauss, q=0.7).round(2)"
   ]
  }
 ],
 "metadata": {
  "kernelspec": {
   "display_name": "base",
   "language": "python",
   "name": "python3"
  },
  "language_info": {
   "codemirror_mode": {
    "name": "ipython",
    "version": 3
   },
   "file_extension": ".py",
   "mimetype": "text/x-python",
   "name": "python",
   "nbconvert_exporter": "python",
   "pygments_lexer": "ipython3",
   "version": "3.10.9"
  },
  "orig_nbformat": 4,
  "vscode": {
   "interpreter": {
    "hash": "86b34ed3c3133d18abca1a7478c638bf2ec364040bada6a3f6362ac01a633aad"
   }
  }
 },
 "nbformat": 4,
 "nbformat_minor": 2
}
