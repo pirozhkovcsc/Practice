{
 "cells": [
  {
   "cell_type": "code",
   "execution_count": 1,
   "metadata": {},
   "outputs": [],
   "source": [
    "# Если медленно работает автодополнение в Jupyter Notebook, выполнить:\n",
    "%config IPCompleter.greedy=True"
   ]
  },
  {
   "cell_type": "code",
   "execution_count": 3,
   "metadata": {},
   "outputs": [],
   "source": [
    "import pandas as pd\n",
    "import numpy as np\n",
    "\n",
    "from sklearn import tree\n",
    "from sklearn.model_selection import train_test_split\n",
    "from sklearn.model_selection import cross_val_score\n",
    "from sklearn.model_selection import GridSearchCV\n",
    "from sklearn.metrics import precision_score, recall_score, plot_roc_curve, plot_confusion_matrix, \\\n",
    "    plot_precision_recall_curve, accuracy_score\n",
    "\n",
    "import matplotlib.pyplot as plt\n",
    "import seaborn as sns\n",
    "sns.set(rc={'figure.figsize': (9, 6)})"
   ]
  },
  {
   "cell_type": "markdown",
   "metadata": {},
   "source": [
    "**Задача 2.**"
   ]
  },
  {
   "cell_type": "code",
   "execution_count": 4,
   "metadata": {},
   "outputs": [],
   "source": [
    "cats_and_dogs = pd.read_csv('https://stepik.org/media/attachments/course/4852/dogs_n_cats.csv')"
   ]
  },
  {
   "cell_type": "code",
   "execution_count": 5,
   "metadata": {},
   "outputs": [],
   "source": [
    "cats_and_dogs = pd.get_dummies(cats_and_dogs)"
   ]
  },
  {
   "cell_type": "code",
   "execution_count": 6,
   "metadata": {},
   "outputs": [],
   "source": [
    "X_train = cats_and_dogs.drop(['Вид_котик', 'Вид_собачка'], axis=1)\n",
    "y_train = cats_and_dogs.Вид_собачка"
   ]
  },
  {
   "cell_type": "code",
   "execution_count": 7,
   "metadata": {},
   "outputs": [
    {
     "data": {
      "text/html": [
       "<div>\n",
       "<style scoped>\n",
       "    .dataframe tbody tr th:only-of-type {\n",
       "        vertical-align: middle;\n",
       "    }\n",
       "\n",
       "    .dataframe tbody tr th {\n",
       "        vertical-align: top;\n",
       "    }\n",
       "\n",
       "    .dataframe thead th {\n",
       "        text-align: right;\n",
       "    }\n",
       "</style>\n",
       "<table border=\"1\" class=\"dataframe\">\n",
       "  <thead>\n",
       "    <tr style=\"text-align: right;\">\n",
       "      <th></th>\n",
       "      <th>Длина</th>\n",
       "      <th>Высота</th>\n",
       "      <th>Шерстист</th>\n",
       "      <th>Гавкает</th>\n",
       "      <th>Лазает по деревьям</th>\n",
       "    </tr>\n",
       "  </thead>\n",
       "  <tbody>\n",
       "    <tr>\n",
       "      <th>0</th>\n",
       "      <td>15</td>\n",
       "      <td>18.0</td>\n",
       "      <td>1</td>\n",
       "      <td>1</td>\n",
       "      <td>0</td>\n",
       "    </tr>\n",
       "    <tr>\n",
       "      <th>1</th>\n",
       "      <td>20</td>\n",
       "      <td>24.0</td>\n",
       "      <td>1</td>\n",
       "      <td>0</td>\n",
       "      <td>0</td>\n",
       "    </tr>\n",
       "    <tr>\n",
       "      <th>2</th>\n",
       "      <td>34</td>\n",
       "      <td>40.8</td>\n",
       "      <td>1</td>\n",
       "      <td>1</td>\n",
       "      <td>0</td>\n",
       "    </tr>\n",
       "    <tr>\n",
       "      <th>3</th>\n",
       "      <td>26</td>\n",
       "      <td>31.2</td>\n",
       "      <td>1</td>\n",
       "      <td>1</td>\n",
       "      <td>0</td>\n",
       "    </tr>\n",
       "    <tr>\n",
       "      <th>4</th>\n",
       "      <td>16</td>\n",
       "      <td>19.2</td>\n",
       "      <td>1</td>\n",
       "      <td>1</td>\n",
       "      <td>0</td>\n",
       "    </tr>\n",
       "  </tbody>\n",
       "</table>\n",
       "</div>"
      ],
      "text/plain": [
       "   Длина  Высота  Шерстист  Гавкает  Лазает по деревьям\n",
       "0     15    18.0         1        1                   0\n",
       "1     20    24.0         1        0                   0\n",
       "2     34    40.8         1        1                   0\n",
       "3     26    31.2         1        1                   0\n",
       "4     16    19.2         1        1                   0"
      ]
     },
     "execution_count": 7,
     "metadata": {},
     "output_type": "execute_result"
    }
   ],
   "source": [
    "X_train.head()"
   ]
  },
  {
   "cell_type": "code",
   "execution_count": 8,
   "metadata": {},
   "outputs": [
    {
     "data": {
      "text/plain": [
       "0    1\n",
       "1    1\n",
       "2    1\n",
       "3    1\n",
       "4    1\n",
       "Name: Вид_собачка, dtype: uint8"
      ]
     },
     "execution_count": 8,
     "metadata": {},
     "output_type": "execute_result"
    }
   ],
   "source": [
    "y_train.head()"
   ]
  },
  {
   "cell_type": "code",
   "execution_count": 11,
   "metadata": {},
   "outputs": [
    {
     "name": "stderr",
     "output_type": "stream",
     "text": [
      "C:\\Users\\csc20\\AppData\\Local\\Temp\\ipykernel_936\\313977494.py:10: FutureWarning: The frame.append method is deprecated and will be removed from pandas in a future version. Use pandas.concat instead.\n",
      "  scores = scores.append(temp)\n",
      "C:\\Users\\csc20\\AppData\\Local\\Temp\\ipykernel_936\\313977494.py:10: FutureWarning: The frame.append method is deprecated and will be removed from pandas in a future version. Use pandas.concat instead.\n",
      "  scores = scores.append(temp)\n",
      "C:\\Users\\csc20\\AppData\\Local\\Temp\\ipykernel_936\\313977494.py:10: FutureWarning: The frame.append method is deprecated and will be removed from pandas in a future version. Use pandas.concat instead.\n",
      "  scores = scores.append(temp)\n",
      "C:\\Users\\csc20\\AppData\\Local\\Temp\\ipykernel_936\\313977494.py:10: FutureWarning: The frame.append method is deprecated and will be removed from pandas in a future version. Use pandas.concat instead.\n",
      "  scores = scores.append(temp)\n",
      "C:\\Users\\csc20\\AppData\\Local\\Temp\\ipykernel_936\\313977494.py:10: FutureWarning: The frame.append method is deprecated and will be removed from pandas in a future version. Use pandas.concat instead.\n",
      "  scores = scores.append(temp)\n",
      "C:\\Users\\csc20\\AppData\\Local\\Temp\\ipykernel_936\\313977494.py:10: FutureWarning: The frame.append method is deprecated and will be removed from pandas in a future version. Use pandas.concat instead.\n",
      "  scores = scores.append(temp)\n",
      "C:\\Users\\csc20\\AppData\\Local\\Temp\\ipykernel_936\\313977494.py:10: FutureWarning: The frame.append method is deprecated and will be removed from pandas in a future version. Use pandas.concat instead.\n",
      "  scores = scores.append(temp)\n",
      "C:\\Users\\csc20\\AppData\\Local\\Temp\\ipykernel_936\\313977494.py:10: FutureWarning: The frame.append method is deprecated and will be removed from pandas in a future version. Use pandas.concat instead.\n",
      "  scores = scores.append(temp)\n",
      "C:\\Users\\csc20\\AppData\\Local\\Temp\\ipykernel_936\\313977494.py:10: FutureWarning: The frame.append method is deprecated and will be removed from pandas in a future version. Use pandas.concat instead.\n",
      "  scores = scores.append(temp)\n",
      "C:\\Users\\csc20\\AppData\\Local\\Temp\\ipykernel_936\\313977494.py:10: FutureWarning: The frame.append method is deprecated and will be removed from pandas in a future version. Use pandas.concat instead.\n",
      "  scores = scores.append(temp)\n",
      "C:\\Users\\csc20\\AppData\\Local\\Temp\\ipykernel_936\\313977494.py:10: FutureWarning: The frame.append method is deprecated and will be removed from pandas in a future version. Use pandas.concat instead.\n",
      "  scores = scores.append(temp)\n",
      "C:\\Users\\csc20\\AppData\\Local\\Temp\\ipykernel_936\\313977494.py:10: FutureWarning: The frame.append method is deprecated and will be removed from pandas in a future version. Use pandas.concat instead.\n",
      "  scores = scores.append(temp)\n",
      "C:\\Users\\csc20\\AppData\\Local\\Temp\\ipykernel_936\\313977494.py:10: FutureWarning: The frame.append method is deprecated and will be removed from pandas in a future version. Use pandas.concat instead.\n",
      "  scores = scores.append(temp)\n",
      "C:\\Users\\csc20\\AppData\\Local\\Temp\\ipykernel_936\\313977494.py:10: FutureWarning: The frame.append method is deprecated and will be removed from pandas in a future version. Use pandas.concat instead.\n",
      "  scores = scores.append(temp)\n",
      "C:\\Users\\csc20\\AppData\\Local\\Temp\\ipykernel_936\\313977494.py:10: FutureWarning: The frame.append method is deprecated and will be removed from pandas in a future version. Use pandas.concat instead.\n",
      "  scores = scores.append(temp)\n",
      "C:\\Users\\csc20\\AppData\\Local\\Temp\\ipykernel_936\\313977494.py:10: FutureWarning: The frame.append method is deprecated and will be removed from pandas in a future version. Use pandas.concat instead.\n",
      "  scores = scores.append(temp)\n",
      "C:\\Users\\csc20\\AppData\\Local\\Temp\\ipykernel_936\\313977494.py:10: FutureWarning: The frame.append method is deprecated and will be removed from pandas in a future version. Use pandas.concat instead.\n",
      "  scores = scores.append(temp)\n",
      "C:\\Users\\csc20\\AppData\\Local\\Temp\\ipykernel_936\\313977494.py:10: FutureWarning: The frame.append method is deprecated and will be removed from pandas in a future version. Use pandas.concat instead.\n",
      "  scores = scores.append(temp)\n",
      "C:\\Users\\csc20\\AppData\\Local\\Temp\\ipykernel_936\\313977494.py:10: FutureWarning: The frame.append method is deprecated and will be removed from pandas in a future version. Use pandas.concat instead.\n",
      "  scores = scores.append(temp)\n",
      "C:\\Users\\csc20\\AppData\\Local\\Temp\\ipykernel_936\\313977494.py:10: FutureWarning: The frame.append method is deprecated and will be removed from pandas in a future version. Use pandas.concat instead.\n",
      "  scores = scores.append(temp)\n",
      "C:\\Users\\csc20\\AppData\\Local\\Temp\\ipykernel_936\\313977494.py:10: FutureWarning: The frame.append method is deprecated and will be removed from pandas in a future version. Use pandas.concat instead.\n",
      "  scores = scores.append(temp)\n",
      "C:\\Users\\csc20\\AppData\\Local\\Temp\\ipykernel_936\\313977494.py:10: FutureWarning: The frame.append method is deprecated and will be removed from pandas in a future version. Use pandas.concat instead.\n",
      "  scores = scores.append(temp)\n",
      "C:\\Users\\csc20\\AppData\\Local\\Temp\\ipykernel_936\\313977494.py:10: FutureWarning: The frame.append method is deprecated and will be removed from pandas in a future version. Use pandas.concat instead.\n",
      "  scores = scores.append(temp)\n",
      "C:\\Users\\csc20\\AppData\\Local\\Temp\\ipykernel_936\\313977494.py:10: FutureWarning: The frame.append method is deprecated and will be removed from pandas in a future version. Use pandas.concat instead.\n",
      "  scores = scores.append(temp)\n",
      "C:\\Users\\csc20\\AppData\\Local\\Temp\\ipykernel_936\\313977494.py:10: FutureWarning: The frame.append method is deprecated and will be removed from pandas in a future version. Use pandas.concat instead.\n",
      "  scores = scores.append(temp)\n",
      "C:\\Users\\csc20\\AppData\\Local\\Temp\\ipykernel_936\\313977494.py:10: FutureWarning: The frame.append method is deprecated and will be removed from pandas in a future version. Use pandas.concat instead.\n",
      "  scores = scores.append(temp)\n",
      "C:\\Users\\csc20\\AppData\\Local\\Temp\\ipykernel_936\\313977494.py:10: FutureWarning: The frame.append method is deprecated and will be removed from pandas in a future version. Use pandas.concat instead.\n",
      "  scores = scores.append(temp)\n",
      "C:\\Users\\csc20\\AppData\\Local\\Temp\\ipykernel_936\\313977494.py:10: FutureWarning: The frame.append method is deprecated and will be removed from pandas in a future version. Use pandas.concat instead.\n",
      "  scores = scores.append(temp)\n",
      "C:\\Users\\csc20\\AppData\\Local\\Temp\\ipykernel_936\\313977494.py:10: FutureWarning: The frame.append method is deprecated and will be removed from pandas in a future version. Use pandas.concat instead.\n",
      "  scores = scores.append(temp)\n",
      "C:\\Users\\csc20\\AppData\\Local\\Temp\\ipykernel_936\\313977494.py:10: FutureWarning: The frame.append method is deprecated and will be removed from pandas in a future version. Use pandas.concat instead.\n",
      "  scores = scores.append(temp)\n",
      "C:\\Users\\csc20\\AppData\\Local\\Temp\\ipykernel_936\\313977494.py:10: FutureWarning: The frame.append method is deprecated and will be removed from pandas in a future version. Use pandas.concat instead.\n",
      "  scores = scores.append(temp)\n",
      "C:\\Users\\csc20\\AppData\\Local\\Temp\\ipykernel_936\\313977494.py:10: FutureWarning: The frame.append method is deprecated and will be removed from pandas in a future version. Use pandas.concat instead.\n",
      "  scores = scores.append(temp)\n",
      "C:\\Users\\csc20\\AppData\\Local\\Temp\\ipykernel_936\\313977494.py:10: FutureWarning: The frame.append method is deprecated and will be removed from pandas in a future version. Use pandas.concat instead.\n",
      "  scores = scores.append(temp)\n",
      "C:\\Users\\csc20\\AppData\\Local\\Temp\\ipykernel_936\\313977494.py:10: FutureWarning: The frame.append method is deprecated and will be removed from pandas in a future version. Use pandas.concat instead.\n",
      "  scores = scores.append(temp)\n",
      "C:\\Users\\csc20\\AppData\\Local\\Temp\\ipykernel_936\\313977494.py:10: FutureWarning: The frame.append method is deprecated and will be removed from pandas in a future version. Use pandas.concat instead.\n",
      "  scores = scores.append(temp)\n",
      "C:\\Users\\csc20\\AppData\\Local\\Temp\\ipykernel_936\\313977494.py:10: FutureWarning: The frame.append method is deprecated and will be removed from pandas in a future version. Use pandas.concat instead.\n",
      "  scores = scores.append(temp)\n",
      "C:\\Users\\csc20\\AppData\\Local\\Temp\\ipykernel_936\\313977494.py:10: FutureWarning: The frame.append method is deprecated and will be removed from pandas in a future version. Use pandas.concat instead.\n",
      "  scores = scores.append(temp)\n",
      "C:\\Users\\csc20\\AppData\\Local\\Temp\\ipykernel_936\\313977494.py:10: FutureWarning: The frame.append method is deprecated and will be removed from pandas in a future version. Use pandas.concat instead.\n",
      "  scores = scores.append(temp)\n",
      "C:\\Users\\csc20\\AppData\\Local\\Temp\\ipykernel_936\\313977494.py:10: FutureWarning: The frame.append method is deprecated and will be removed from pandas in a future version. Use pandas.concat instead.\n",
      "  scores = scores.append(temp)\n"
     ]
    },
    {
     "name": "stderr",
     "output_type": "stream",
     "text": [
      "C:\\Users\\csc20\\AppData\\Local\\Temp\\ipykernel_936\\313977494.py:10: FutureWarning: The frame.append method is deprecated and will be removed from pandas in a future version. Use pandas.concat instead.\n",
      "  scores = scores.append(temp)\n",
      "C:\\Users\\csc20\\AppData\\Local\\Temp\\ipykernel_936\\313977494.py:10: FutureWarning: The frame.append method is deprecated and will be removed from pandas in a future version. Use pandas.concat instead.\n",
      "  scores = scores.append(temp)\n",
      "C:\\Users\\csc20\\AppData\\Local\\Temp\\ipykernel_936\\313977494.py:10: FutureWarning: The frame.append method is deprecated and will be removed from pandas in a future version. Use pandas.concat instead.\n",
      "  scores = scores.append(temp)\n",
      "C:\\Users\\csc20\\AppData\\Local\\Temp\\ipykernel_936\\313977494.py:10: FutureWarning: The frame.append method is deprecated and will be removed from pandas in a future version. Use pandas.concat instead.\n",
      "  scores = scores.append(temp)\n",
      "C:\\Users\\csc20\\AppData\\Local\\Temp\\ipykernel_936\\313977494.py:10: FutureWarning: The frame.append method is deprecated and will be removed from pandas in a future version. Use pandas.concat instead.\n",
      "  scores = scores.append(temp)\n",
      "C:\\Users\\csc20\\AppData\\Local\\Temp\\ipykernel_936\\313977494.py:10: FutureWarning: The frame.append method is deprecated and will be removed from pandas in a future version. Use pandas.concat instead.\n",
      "  scores = scores.append(temp)\n",
      "C:\\Users\\csc20\\AppData\\Local\\Temp\\ipykernel_936\\313977494.py:10: FutureWarning: The frame.append method is deprecated and will be removed from pandas in a future version. Use pandas.concat instead.\n",
      "  scores = scores.append(temp)\n",
      "C:\\Users\\csc20\\AppData\\Local\\Temp\\ipykernel_936\\313977494.py:10: FutureWarning: The frame.append method is deprecated and will be removed from pandas in a future version. Use pandas.concat instead.\n",
      "  scores = scores.append(temp)\n",
      "C:\\Users\\csc20\\AppData\\Local\\Temp\\ipykernel_936\\313977494.py:10: FutureWarning: The frame.append method is deprecated and will be removed from pandas in a future version. Use pandas.concat instead.\n",
      "  scores = scores.append(temp)\n",
      "C:\\Users\\csc20\\AppData\\Local\\Temp\\ipykernel_936\\313977494.py:10: FutureWarning: The frame.append method is deprecated and will be removed from pandas in a future version. Use pandas.concat instead.\n",
      "  scores = scores.append(temp)\n",
      "C:\\Users\\csc20\\AppData\\Local\\Temp\\ipykernel_936\\313977494.py:10: FutureWarning: The frame.append method is deprecated and will be removed from pandas in a future version. Use pandas.concat instead.\n",
      "  scores = scores.append(temp)\n",
      "C:\\Users\\csc20\\AppData\\Local\\Temp\\ipykernel_936\\313977494.py:10: FutureWarning: The frame.append method is deprecated and will be removed from pandas in a future version. Use pandas.concat instead.\n",
      "  scores = scores.append(temp)\n",
      "C:\\Users\\csc20\\AppData\\Local\\Temp\\ipykernel_936\\313977494.py:10: FutureWarning: The frame.append method is deprecated and will be removed from pandas in a future version. Use pandas.concat instead.\n",
      "  scores = scores.append(temp)\n",
      "C:\\Users\\csc20\\AppData\\Local\\Temp\\ipykernel_936\\313977494.py:10: FutureWarning: The frame.append method is deprecated and will be removed from pandas in a future version. Use pandas.concat instead.\n",
      "  scores = scores.append(temp)\n",
      "C:\\Users\\csc20\\AppData\\Local\\Temp\\ipykernel_936\\313977494.py:10: FutureWarning: The frame.append method is deprecated and will be removed from pandas in a future version. Use pandas.concat instead.\n",
      "  scores = scores.append(temp)\n",
      "C:\\Users\\csc20\\AppData\\Local\\Temp\\ipykernel_936\\313977494.py:10: FutureWarning: The frame.append method is deprecated and will be removed from pandas in a future version. Use pandas.concat instead.\n",
      "  scores = scores.append(temp)\n",
      "C:\\Users\\csc20\\AppData\\Local\\Temp\\ipykernel_936\\313977494.py:10: FutureWarning: The frame.append method is deprecated and will be removed from pandas in a future version. Use pandas.concat instead.\n",
      "  scores = scores.append(temp)\n",
      "C:\\Users\\csc20\\AppData\\Local\\Temp\\ipykernel_936\\313977494.py:10: FutureWarning: The frame.append method is deprecated and will be removed from pandas in a future version. Use pandas.concat instead.\n",
      "  scores = scores.append(temp)\n",
      "C:\\Users\\csc20\\AppData\\Local\\Temp\\ipykernel_936\\313977494.py:10: FutureWarning: The frame.append method is deprecated and will be removed from pandas in a future version. Use pandas.concat instead.\n",
      "  scores = scores.append(temp)\n",
      "C:\\Users\\csc20\\AppData\\Local\\Temp\\ipykernel_936\\313977494.py:10: FutureWarning: The frame.append method is deprecated and will be removed from pandas in a future version. Use pandas.concat instead.\n",
      "  scores = scores.append(temp)\n",
      "C:\\Users\\csc20\\AppData\\Local\\Temp\\ipykernel_936\\313977494.py:10: FutureWarning: The frame.append method is deprecated and will be removed from pandas in a future version. Use pandas.concat instead.\n",
      "  scores = scores.append(temp)\n",
      "C:\\Users\\csc20\\AppData\\Local\\Temp\\ipykernel_936\\313977494.py:10: FutureWarning: The frame.append method is deprecated and will be removed from pandas in a future version. Use pandas.concat instead.\n",
      "  scores = scores.append(temp)\n",
      "C:\\Users\\csc20\\AppData\\Local\\Temp\\ipykernel_936\\313977494.py:10: FutureWarning: The frame.append method is deprecated and will be removed from pandas in a future version. Use pandas.concat instead.\n",
      "  scores = scores.append(temp)\n",
      "C:\\Users\\csc20\\AppData\\Local\\Temp\\ipykernel_936\\313977494.py:10: FutureWarning: The frame.append method is deprecated and will be removed from pandas in a future version. Use pandas.concat instead.\n",
      "  scores = scores.append(temp)\n",
      "C:\\Users\\csc20\\AppData\\Local\\Temp\\ipykernel_936\\313977494.py:10: FutureWarning: The frame.append method is deprecated and will be removed from pandas in a future version. Use pandas.concat instead.\n",
      "  scores = scores.append(temp)\n",
      "C:\\Users\\csc20\\AppData\\Local\\Temp\\ipykernel_936\\313977494.py:10: FutureWarning: The frame.append method is deprecated and will be removed from pandas in a future version. Use pandas.concat instead.\n",
      "  scores = scores.append(temp)\n",
      "C:\\Users\\csc20\\AppData\\Local\\Temp\\ipykernel_936\\313977494.py:10: FutureWarning: The frame.append method is deprecated and will be removed from pandas in a future version. Use pandas.concat instead.\n",
      "  scores = scores.append(temp)\n",
      "C:\\Users\\csc20\\AppData\\Local\\Temp\\ipykernel_936\\313977494.py:10: FutureWarning: The frame.append method is deprecated and will be removed from pandas in a future version. Use pandas.concat instead.\n",
      "  scores = scores.append(temp)\n",
      "C:\\Users\\csc20\\AppData\\Local\\Temp\\ipykernel_936\\313977494.py:10: FutureWarning: The frame.append method is deprecated and will be removed from pandas in a future version. Use pandas.concat instead.\n",
      "  scores = scores.append(temp)\n",
      "C:\\Users\\csc20\\AppData\\Local\\Temp\\ipykernel_936\\313977494.py:10: FutureWarning: The frame.append method is deprecated and will be removed from pandas in a future version. Use pandas.concat instead.\n",
      "  scores = scores.append(temp)\n",
      "C:\\Users\\csc20\\AppData\\Local\\Temp\\ipykernel_936\\313977494.py:10: FutureWarning: The frame.append method is deprecated and will be removed from pandas in a future version. Use pandas.concat instead.\n",
      "  scores = scores.append(temp)\n",
      "C:\\Users\\csc20\\AppData\\Local\\Temp\\ipykernel_936\\313977494.py:10: FutureWarning: The frame.append method is deprecated and will be removed from pandas in a future version. Use pandas.concat instead.\n",
      "  scores = scores.append(temp)\n",
      "C:\\Users\\csc20\\AppData\\Local\\Temp\\ipykernel_936\\313977494.py:10: FutureWarning: The frame.append method is deprecated and will be removed from pandas in a future version. Use pandas.concat instead.\n",
      "  scores = scores.append(temp)\n",
      "C:\\Users\\csc20\\AppData\\Local\\Temp\\ipykernel_936\\313977494.py:10: FutureWarning: The frame.append method is deprecated and will be removed from pandas in a future version. Use pandas.concat instead.\n",
      "  scores = scores.append(temp)\n",
      "C:\\Users\\csc20\\AppData\\Local\\Temp\\ipykernel_936\\313977494.py:10: FutureWarning: The frame.append method is deprecated and will be removed from pandas in a future version. Use pandas.concat instead.\n",
      "  scores = scores.append(temp)\n",
      "C:\\Users\\csc20\\AppData\\Local\\Temp\\ipykernel_936\\313977494.py:10: FutureWarning: The frame.append method is deprecated and will be removed from pandas in a future version. Use pandas.concat instead.\n",
      "  scores = scores.append(temp)\n",
      "C:\\Users\\csc20\\AppData\\Local\\Temp\\ipykernel_936\\313977494.py:10: FutureWarning: The frame.append method is deprecated and will be removed from pandas in a future version. Use pandas.concat instead.\n",
      "  scores = scores.append(temp)\n",
      "C:\\Users\\csc20\\AppData\\Local\\Temp\\ipykernel_936\\313977494.py:10: FutureWarning: The frame.append method is deprecated and will be removed from pandas in a future version. Use pandas.concat instead.\n",
      "  scores = scores.append(temp)\n",
      "C:\\Users\\csc20\\AppData\\Local\\Temp\\ipykernel_936\\313977494.py:10: FutureWarning: The frame.append method is deprecated and will be removed from pandas in a future version. Use pandas.concat instead.\n",
      "  scores = scores.append(temp)\n",
      "C:\\Users\\csc20\\AppData\\Local\\Temp\\ipykernel_936\\313977494.py:10: FutureWarning: The frame.append method is deprecated and will be removed from pandas in a future version. Use pandas.concat instead.\n",
      "  scores = scores.append(temp)\n"
     ]
    },
    {
     "name": "stderr",
     "output_type": "stream",
     "text": [
      "C:\\Users\\csc20\\AppData\\Local\\Temp\\ipykernel_936\\313977494.py:10: FutureWarning: The frame.append method is deprecated and will be removed from pandas in a future version. Use pandas.concat instead.\n",
      "  scores = scores.append(temp)\n",
      "C:\\Users\\csc20\\AppData\\Local\\Temp\\ipykernel_936\\313977494.py:10: FutureWarning: The frame.append method is deprecated and will be removed from pandas in a future version. Use pandas.concat instead.\n",
      "  scores = scores.append(temp)\n",
      "C:\\Users\\csc20\\AppData\\Local\\Temp\\ipykernel_936\\313977494.py:10: FutureWarning: The frame.append method is deprecated and will be removed from pandas in a future version. Use pandas.concat instead.\n",
      "  scores = scores.append(temp)\n",
      "C:\\Users\\csc20\\AppData\\Local\\Temp\\ipykernel_936\\313977494.py:10: FutureWarning: The frame.append method is deprecated and will be removed from pandas in a future version. Use pandas.concat instead.\n",
      "  scores = scores.append(temp)\n",
      "C:\\Users\\csc20\\AppData\\Local\\Temp\\ipykernel_936\\313977494.py:10: FutureWarning: The frame.append method is deprecated and will be removed from pandas in a future version. Use pandas.concat instead.\n",
      "  scores = scores.append(temp)\n",
      "C:\\Users\\csc20\\AppData\\Local\\Temp\\ipykernel_936\\313977494.py:10: FutureWarning: The frame.append method is deprecated and will be removed from pandas in a future version. Use pandas.concat instead.\n",
      "  scores = scores.append(temp)\n",
      "C:\\Users\\csc20\\AppData\\Local\\Temp\\ipykernel_936\\313977494.py:10: FutureWarning: The frame.append method is deprecated and will be removed from pandas in a future version. Use pandas.concat instead.\n",
      "  scores = scores.append(temp)\n",
      "C:\\Users\\csc20\\AppData\\Local\\Temp\\ipykernel_936\\313977494.py:10: FutureWarning: The frame.append method is deprecated and will be removed from pandas in a future version. Use pandas.concat instead.\n",
      "  scores = scores.append(temp)\n",
      "C:\\Users\\csc20\\AppData\\Local\\Temp\\ipykernel_936\\313977494.py:10: FutureWarning: The frame.append method is deprecated and will be removed from pandas in a future version. Use pandas.concat instead.\n",
      "  scores = scores.append(temp)\n",
      "C:\\Users\\csc20\\AppData\\Local\\Temp\\ipykernel_936\\313977494.py:10: FutureWarning: The frame.append method is deprecated and will be removed from pandas in a future version. Use pandas.concat instead.\n",
      "  scores = scores.append(temp)\n",
      "C:\\Users\\csc20\\AppData\\Local\\Temp\\ipykernel_936\\313977494.py:10: FutureWarning: The frame.append method is deprecated and will be removed from pandas in a future version. Use pandas.concat instead.\n",
      "  scores = scores.append(temp)\n",
      "C:\\Users\\csc20\\AppData\\Local\\Temp\\ipykernel_936\\313977494.py:10: FutureWarning: The frame.append method is deprecated and will be removed from pandas in a future version. Use pandas.concat instead.\n",
      "  scores = scores.append(temp)\n",
      "C:\\Users\\csc20\\AppData\\Local\\Temp\\ipykernel_936\\313977494.py:10: FutureWarning: The frame.append method is deprecated and will be removed from pandas in a future version. Use pandas.concat instead.\n",
      "  scores = scores.append(temp)\n",
      "C:\\Users\\csc20\\AppData\\Local\\Temp\\ipykernel_936\\313977494.py:10: FutureWarning: The frame.append method is deprecated and will be removed from pandas in a future version. Use pandas.concat instead.\n",
      "  scores = scores.append(temp)\n",
      "C:\\Users\\csc20\\AppData\\Local\\Temp\\ipykernel_936\\313977494.py:10: FutureWarning: The frame.append method is deprecated and will be removed from pandas in a future version. Use pandas.concat instead.\n",
      "  scores = scores.append(temp)\n",
      "C:\\Users\\csc20\\AppData\\Local\\Temp\\ipykernel_936\\313977494.py:10: FutureWarning: The frame.append method is deprecated and will be removed from pandas in a future version. Use pandas.concat instead.\n",
      "  scores = scores.append(temp)\n",
      "C:\\Users\\csc20\\AppData\\Local\\Temp\\ipykernel_936\\313977494.py:10: FutureWarning: The frame.append method is deprecated and will be removed from pandas in a future version. Use pandas.concat instead.\n",
      "  scores = scores.append(temp)\n",
      "C:\\Users\\csc20\\AppData\\Local\\Temp\\ipykernel_936\\313977494.py:10: FutureWarning: The frame.append method is deprecated and will be removed from pandas in a future version. Use pandas.concat instead.\n",
      "  scores = scores.append(temp)\n",
      "C:\\Users\\csc20\\AppData\\Local\\Temp\\ipykernel_936\\313977494.py:10: FutureWarning: The frame.append method is deprecated and will be removed from pandas in a future version. Use pandas.concat instead.\n",
      "  scores = scores.append(temp)\n",
      "C:\\Users\\csc20\\AppData\\Local\\Temp\\ipykernel_936\\313977494.py:10: FutureWarning: The frame.append method is deprecated and will be removed from pandas in a future version. Use pandas.concat instead.\n",
      "  scores = scores.append(temp)\n"
     ]
    },
    {
     "data": {
      "text/html": [
       "<div>\n",
       "<style scoped>\n",
       "    .dataframe tbody tr th:only-of-type {\n",
       "        vertical-align: middle;\n",
       "    }\n",
       "\n",
       "    .dataframe tbody tr th {\n",
       "        vertical-align: top;\n",
       "    }\n",
       "\n",
       "    .dataframe thead th {\n",
       "        text-align: right;\n",
       "    }\n",
       "</style>\n",
       "<table border=\"1\" class=\"dataframe\">\n",
       "  <thead>\n",
       "    <tr style=\"text-align: right;\">\n",
       "      <th></th>\n",
       "      <th>max_depth</th>\n",
       "      <th>mean_cross_val_score</th>\n",
       "    </tr>\n",
       "  </thead>\n",
       "  <tbody>\n",
       "    <tr>\n",
       "      <th>0</th>\n",
       "      <td>1</td>\n",
       "      <td>1.0</td>\n",
       "    </tr>\n",
       "    <tr>\n",
       "      <th>0</th>\n",
       "      <td>2</td>\n",
       "      <td>1.0</td>\n",
       "    </tr>\n",
       "    <tr>\n",
       "      <th>0</th>\n",
       "      <td>3</td>\n",
       "      <td>1.0</td>\n",
       "    </tr>\n",
       "    <tr>\n",
       "      <th>0</th>\n",
       "      <td>4</td>\n",
       "      <td>1.0</td>\n",
       "    </tr>\n",
       "    <tr>\n",
       "      <th>0</th>\n",
       "      <td>5</td>\n",
       "      <td>1.0</td>\n",
       "    </tr>\n",
       "    <tr>\n",
       "      <th>...</th>\n",
       "      <td>...</td>\n",
       "      <td>...</td>\n",
       "    </tr>\n",
       "    <tr>\n",
       "      <th>0</th>\n",
       "      <td>95</td>\n",
       "      <td>1.0</td>\n",
       "    </tr>\n",
       "    <tr>\n",
       "      <th>0</th>\n",
       "      <td>96</td>\n",
       "      <td>1.0</td>\n",
       "    </tr>\n",
       "    <tr>\n",
       "      <th>0</th>\n",
       "      <td>97</td>\n",
       "      <td>1.0</td>\n",
       "    </tr>\n",
       "    <tr>\n",
       "      <th>0</th>\n",
       "      <td>98</td>\n",
       "      <td>1.0</td>\n",
       "    </tr>\n",
       "    <tr>\n",
       "      <th>0</th>\n",
       "      <td>99</td>\n",
       "      <td>1.0</td>\n",
       "    </tr>\n",
       "  </tbody>\n",
       "</table>\n",
       "<p>99 rows × 2 columns</p>\n",
       "</div>"
      ],
      "text/plain": [
       "    max_depth  mean_cross_val_score\n",
       "0           1                   1.0\n",
       "0           2                   1.0\n",
       "0           3                   1.0\n",
       "0           4                   1.0\n",
       "0           5                   1.0\n",
       "..        ...                   ...\n",
       "0          95                   1.0\n",
       "0          96                   1.0\n",
       "0          97                   1.0\n",
       "0          98                   1.0\n",
       "0          99                   1.0\n",
       "\n",
       "[99 rows x 2 columns]"
      ]
     },
     "execution_count": 11,
     "metadata": {},
     "output_type": "execute_result"
    }
   ],
   "source": [
    "scores = pd.DataFrame()\n",
    "\n",
    "for max_depth in range(1, 100):\n",
    "    clf = tree.DecisionTreeClassifier(criterion='entropy', max_depth=max_depth)\n",
    "    mean_cross_val_score = cross_val_score(clf, X_train, y_train, cv=5).mean()\n",
    "    temp = pd.DataFrame({\n",
    "        'max_depth': [max_depth],\n",
    "        'mean_cross_val_score': [mean_cross_val_score],\n",
    "    })\n",
    "    scores = scores.append(temp)\n",
    "\n",
    "scores"
   ]
  },
  {
   "cell_type": "markdown",
   "metadata": {},
   "source": [
    "Отсюда очевидно, что хватает глубины 1.\n",
    "\n",
    "Можно даже в этом убедиться следующим образом:"
   ]
  },
  {
   "cell_type": "code",
   "execution_count": 12,
   "metadata": {},
   "outputs": [
    {
     "data": {
      "image/png": "[encoded data removed]",
      "text/plain": [
       "<Figure size 800x400 with 1 Axes>"
      ]
     },
     "metadata": {},
     "output_type": "display_data"
    }
   ],
   "source": [
    "my_tr = tree.DecisionTreeClassifier(criterion='entropy', max_depth=1)\n",
    "my_tr.fit(X_train, y_train)\n",
    "\n",
    "# Визуализируем решающее дерево:\n",
    "plt.figure(figsize=(10, 5), dpi=80)\n",
    "tree.plot_tree(my_tr, feature_names=cats_and_dogs.columns, class_names=['Negative', 'Positive'], filled=True);"
   ]
  },
  {
   "cell_type": "markdown",
   "metadata": {},
   "source": [
    "Значит, если высота <= 11.8, то это кошка, а если нет, то собака. Тогда"
   ]
  },
  {
   "cell_type": "code",
   "execution_count": 13,
   "metadata": {},
   "outputs": [
    {
     "data": {
      "text/plain": [
       "53"
      ]
     },
     "execution_count": 13,
     "metadata": {},
     "output_type": "execute_result"
    }
   ],
   "source": [
    "data = pd.read_json('dataset_209691_15.txt')\n",
    "len(data[data.Высота > 11.8])"
   ]
  },
  {
   "cell_type": "markdown",
   "metadata": {},
   "source": [
    "А можно использовать `fit.predict('test_data')`:"
   ]
  },
  {
   "cell_type": "code",
   "execution_count": 14,
   "metadata": {},
   "outputs": [
    {
     "data": {
      "text/plain": [
       "53"
      ]
     },
     "execution_count": 14,
     "metadata": {},
     "output_type": "execute_result"
    }
   ],
   "source": [
    "my_tr.predict(data).sum()"
   ]
  }
 ],
 "metadata": {
  "kernelspec": {
   "display_name": "Python 3 (ipykernel)",
   "language": "python",
   "name": "python3"
  },
  "language_info": {
   "codemirror_mode": {
    "name": "ipython",
    "version": 3
   },
   "file_extension": ".py",
   "mimetype": "text/x-python",
   "name": "python",
   "nbconvert_exporter": "python",
   "pygments_lexer": "ipython3",
   "version": "3.9.12"
  }
 },
 "nbformat": 4,
 "nbformat_minor": 2
}
