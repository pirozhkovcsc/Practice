{
 "cells": [
  {
   "cell_type": "markdown",
   "id": "cdbdab9c",
   "metadata": {},
   "source": [
    "## Реализация сверточного слоя"
   ]
  },
  {
   "cell_type": "markdown",
   "id": "518614e2",
   "metadata": {},
   "source": [
    "**Шаг 1.**"
   ]
  },
  {
   "cell_type": "markdown",
   "id": "d6d08e02",
   "metadata": {},
   "source": [
    "[Ссылка на задание](https://stepik.org/lesson/309343/step/2?unit=291492)"
   ]
  },
  {
   "cell_type": "markdown",
   "id": "4812b9c8",
   "metadata": {},
   "source": [
    "Про функцию `torch.nn.functional.pad` легко найти информацию в интернете, например, [здесь](https://russianblogs.com/article/52261256505/#:~:text=Torch.nn.functional.pad(input%2C%20pad%2C%20mode%3D'constant'%2C%20value%3D0).%20Описание,параметров%20раскрытия%20для%20определенного%20измерения)\n",
    "\n",
    "Первый аргумент **input** говорит тензор, который мы расширяем;\n",
    "\n",
    "Второй аргумент **pad** говорит по каким размерностям сколько и чего добавлять;\n",
    "\n",
    "Третий аргумент **mode** говорит, что добавлять будем константу;\n",
    "\n",
    "Четвертый аргумент **value** говорит, какую именно константу будем добавлять.\n",
    "\n",
    "Воспользуемся ей, чтобы решить задачу."
   ]
  },
  {
   "cell_type": "code",
   "execution_count": 109,
   "id": "dacc42ef",
   "metadata": {},
   "outputs": [],
   "source": [
    "import torch\n",
    "\n",
    "# Создаем входной массив из двух изображений RGB 3*3\n",
    "input_images = torch.tensor(\n",
    "      [[[[0,  1,  2],\n",
    "         [3,  4,  5],\n",
    "         [6,  7,  8]],\n",
    "\n",
    "        [[9, 10, 11],\n",
    "         [12, 13, 14],\n",
    "         [15, 16, 17]],\n",
    "\n",
    "        [[18, 19, 20],\n",
    "         [21, 22, 23],\n",
    "         [24, 25, 26]]],\n",
    "\n",
    "\n",
    "       [[[27, 28, 29],\n",
    "         [30, 31, 32],\n",
    "         [33, 34, 35]],\n",
    "\n",
    "        [[36, 37, 38],\n",
    "         [39, 40, 41],\n",
    "         [42, 43, 44]],\n",
    "\n",
    "        [[45, 46, 47],\n",
    "         [48, 49, 50],\n",
    "         [51, 52, 53]]]])\n",
    "\n",
    "def get_padding2d(input_images):\n",
    "    return torch.nn.functional.pad(input=input_images, pad=(1, 1, 1, 1), mode='constant', value=0).float()\n",
    "\n",
    "\n",
    "correct_padded_images = torch.tensor(\n",
    "       [[[[0.,  0.,  0.,  0.,  0.],\n",
    "          [0.,  0.,  1.,  2.,  0.],\n",
    "          [0.,  3.,  4.,  5.,  0.],\n",
    "          [0.,  6.,  7.,  8.,  0.],\n",
    "          [0.,  0.,  0.,  0.,  0.]],\n",
    "\n",
    "         [[0.,  0.,  0.,  0.,  0.],\n",
    "          [0.,  9., 10., 11.,  0.],\n",
    "          [0., 12., 13., 14.,  0.],\n",
    "          [0., 15., 16., 17.,  0.],\n",
    "          [0.,  0.,  0.,  0.,  0.]],\n",
    "\n",
    "         [[0.,  0.,  0.,  0.,  0.],\n",
    "          [0., 18., 19., 20.,  0.],\n",
    "          [0., 21., 22., 23.,  0.],\n",
    "          [0., 24., 25., 26.,  0.],\n",
    "          [0.,  0.,  0.,  0.,  0.]]],\n",
    "\n",
    "\n",
    "        [[[0.,  0.,  0.,  0.,  0.],\n",
    "          [0., 27., 28., 29.,  0.],\n",
    "          [0., 30., 31., 32.,  0.],\n",
    "          [0., 33., 34., 35.,  0.],\n",
    "          [0.,  0.,  0.,  0.,  0.]],\n",
    "\n",
    "         [[0.,  0.,  0.,  0.,  0.],\n",
    "          [0., 36., 37., 38.,  0.],\n",
    "          [0., 39., 40., 41.,  0.],\n",
    "          [0., 42., 43., 44.,  0.],\n",
    "          [0.,  0.,  0.,  0.,  0.]],\n",
    "\n",
    "         [[0.,  0.,  0.,  0.,  0.],\n",
    "          [0., 45., 46., 47.,  0.],\n",
    "          [0., 48., 49., 50.,  0.],\n",
    "          [0., 51., 52., 53.,  0.],\n",
    "          [0.,  0.,  0.,  0.,  0.]]]])"
   ]
  },
  {
   "cell_type": "code",
   "execution_count": 106,
   "id": "59bcbff2",
   "metadata": {},
   "outputs": [
    {
     "name": "stdout",
     "output_type": "stream",
     "text": [
      "True\n"
     ]
    }
   ],
   "source": [
    "# Проверка\n",
    "\n",
    "print(torch.allclose(get_padding2d(input_images), correct_padded_images))"
   ]
  },
  {
   "cell_type": "markdown",
   "id": "5be7b8ff",
   "metadata": {},
   "source": [
    "**Шаг 2.**"
   ]
  },
  {
   "cell_type": "markdown",
   "id": "8489e6f4",
   "metadata": {},
   "source": [
    "[Ссылка на задачу](https://stepik.org/lesson/309343/step/3?unit=291492)"
   ]
  },
  {
   "cell_type": "code",
   "execution_count": 113,
   "id": "22da9b2e",
   "metadata": {},
   "outputs": [
    {
     "name": "stdout",
     "output_type": "stream",
     "text": [
      "True\n"
     ]
    }
   ],
   "source": [
    "import numpy as np\n",
    "\n",
    "\n",
    "def calc_out_shape(input_matrix_shape, out_channels, kernel_size, stride, padding):\n",
    "    out_shape = [input_matrix_shape[0], out_channels,\n",
    "                (input_matrix_shape[2] + 2*padding - kernel_size) // stride + 1,\n",
    "                (input_matrix_shape[3] + 2*padding - kernel_size) // stride + 1]\n",
    "\n",
    "    return out_shape\n",
    "\n",
    "print(np.array_equal(\n",
    "    calc_out_shape(input_matrix_shape=[2, 3, 10, 10],\n",
    "                   out_channels=10,\n",
    "                   kernel_size=3,\n",
    "                   stride=1,\n",
    "                   padding=0),\n",
    "    [2, 10, 8, 8]))"
   ]
  },
  {
   "cell_type": "markdown",
   "id": "a5eb8925",
   "metadata": {},
   "source": [
    "**Шаг 3.**"
   ]
  },
  {
   "cell_type": "markdown",
   "id": "39850b76",
   "metadata": {},
   "source": [
    "[Ссылка на задачу](https://stepik.org/lesson/309343/step/5?unit=291492)"
   ]
  },
  {
   "cell_type": "code",
   "execution_count": 259,
   "id": "26e520a3",
   "metadata": {},
   "outputs": [],
   "source": [
    "import torch\n",
    "from abc import ABC, abstractmethod\n",
    "\n",
    "\n",
    "def calc_out_shape(input_matrix_shape, out_channels, kernel_size, stride, padding):\n",
    "    batch_size, channels_count, input_height, input_width = input_matrix_shape\n",
    "    output_height = (input_height + 2 * padding - (kernel_size - 1) - 1) // stride + 1\n",
    "    output_width = (input_width + 2 * padding - (kernel_size - 1) - 1) // stride + 1\n",
    "\n",
    "    return batch_size, out_channels, output_height, output_width\n",
    "\n",
    "\n",
    "class ABCConv2d(ABC):\n",
    "    def __init__(self, in_channels, out_channels, kernel_size, stride):\n",
    "        self.in_channels = in_channels\n",
    "        self.out_channels = out_channels\n",
    "        self.kernel_size = kernel_size\n",
    "        self.stride = stride\n",
    "\n",
    "    def set_kernel(self, kernel):\n",
    "        self.kernel = kernel\n",
    "\n",
    "    @abstractmethod\n",
    "    def __call__(self, input_tensor):\n",
    "        pass\n",
    "\n",
    "\n",
    "class Conv2d(ABCConv2d):\n",
    "    def __init__(self, in_channels, out_channels, kernel_size, stride):\n",
    "        self.conv2d = torch.nn.Conv2d(in_channels, out_channels, kernel_size,\n",
    "                                      stride, padding=0, bias=False)\n",
    "\n",
    "    def set_kernel(self, kernel):\n",
    "        self.conv2d.weight.data = kernel\n",
    "\n",
    "    def __call__(self, input_tensor):\n",
    "        return self.conv2d(input_tensor)\n",
    "\n",
    "\n",
    "def create_and_call_conv2d_layer(conv2d_layer_class, stride, kernel, input_matrix):\n",
    "    out_channels = kernel.shape[0]\n",
    "    in_channels = kernel.shape[1]\n",
    "    kernel_size = kernel.shape[2]\n",
    "\n",
    "    layer = conv2d_layer_class(in_channels, out_channels, kernel_size, stride)\n",
    "    layer.set_kernel(kernel)\n",
    "\n",
    "    return layer(input_matrix)\n",
    "\n",
    "\n",
    "def test_conv2d_layer(conv2d_layer_class, batch_size=2,\n",
    "                      input_height=4, input_width=4, stride=2):\n",
    "    kernel = torch.tensor(\n",
    "                      [[[[0., 1, 0],\n",
    "                         [1,  2, 1],\n",
    "                         [0,  1, 0]],\n",
    "\n",
    "                        [[1, 2, 1],\n",
    "                         [0, 3, 3],\n",
    "                         [0, 1, 10]],\n",
    "\n",
    "                        [[10, 11, 12],\n",
    "                         [13, 14, 15],\n",
    "                         [16, 17, 18]]]])\n",
    "\n",
    "    in_channels = kernel.shape[1]\n",
    "\n",
    "    input_tensor = torch.arange(0, batch_size * in_channels *\n",
    "                                input_height * input_width,\n",
    "                                out=torch.FloatTensor()) \\\n",
    "        .reshape(batch_size, in_channels, input_height, input_width)\n",
    "\n",
    "    custom_conv2d_out = create_and_call_conv2d_layer(\n",
    "        conv2d_layer_class, stride, kernel, input_tensor)\n",
    "    conv2d_out = create_and_call_conv2d_layer(\n",
    "        Conv2d, stride, kernel, input_tensor)\n",
    "\n",
    "    return torch.allclose(custom_conv2d_out, conv2d_out) \\\n",
    "             and (custom_conv2d_out.shape == conv2d_out.shape)\n",
    "\n",
    "\n",
    "# Сверточный слой через циклы.\n",
    "class Conv2dLoop(ABCConv2d):\n",
    "    def __call__(self, input_tensor):\n",
    "        li = []\n",
    "        batch_size, out_channels, output_height, output_width = calc_out_shape(input_tensor.shape, self.out_channels, self.kernel_size, self.stride, 0)\n",
    "        for i in range(batch_size): # Бегаем по батчам (количество изображениq)       \n",
    "            li.append([])\n",
    "            input_height, input_width = input_tensor[i].shape[1:]\n",
    "            for j in range(out_channels): # Также бегаем по выходным каналам (количество элементров в ядре)\n",
    "                b = []\n",
    "                for h in range(0, input_height, self.stride): # Здесь мы будем спускаться вниз\n",
    "                    for w in range(0, input_width, self.stride): # Здесь будем идти вправо\n",
    "                        if (h + self.kernel_size <= input_height) and (w + self.kernel_size <= input_width):\n",
    "                            summ = 0\n",
    "                            for k in range(self.in_channels):\n",
    "                                summ += (self.kernel[j][k] * input_tensor[i][k][h:(h + self.kernel_size), w:(w + self.kernel_size)]).sum()\n",
    "                            b.append(summ)\n",
    "                li[i].append(torch.tensor(b).reshape(output_height, output_width).tolist())    \n",
    "        return torch.tensor(li)"
   ]
  },
  {
   "cell_type": "code",
   "execution_count": 261,
   "id": "35dbc4d5",
   "metadata": {},
   "outputs": [
    {
     "name": "stdout",
     "output_type": "stream",
     "text": [
      "True\n"
     ]
    }
   ],
   "source": [
    "# Корректность реализации определится в сравнении со стандартным слоем из pytorch.\n",
    "# Проверка происходит автоматически вызовом следующего кода\n",
    "# (раскомментируйте для самостоятельной проверки,\n",
    "#  в коде для сдачи задания должно быть закомментировано):\n",
    "\n",
    "print(test_conv2d_layer(Conv2dLoop))"
   ]
  },
  {
   "cell_type": "markdown",
   "id": "29065199",
   "metadata": {},
   "source": [
    "**Шаг 4.**"
   ]
  }
 ],
 "metadata": {
  "kernelspec": {
   "display_name": "Python 3 (ipykernel)",
   "language": "python",
   "name": "python3"
  },
  "language_info": {
   "codemirror_mode": {
    "name": "ipython",
    "version": 3
   },
   "file_extension": ".py",
   "mimetype": "text/x-python",
   "name": "python",
   "nbconvert_exporter": "python",
   "pygments_lexer": "ipython3",
   "version": "3.9.12"
  }
 },
 "nbformat": 4,
 "nbformat_minor": 5
}
