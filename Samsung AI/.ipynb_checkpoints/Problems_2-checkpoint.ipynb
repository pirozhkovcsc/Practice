{
 "cells": [
  {
   "cell_type": "markdown",
   "id": "47e5cf19",
   "metadata": {},
   "source": [
    "## Problems_2"
   ]
  },
  {
   "cell_type": "code",
   "execution_count": 26,
   "id": "10709d53",
   "metadata": {},
   "outputs": [],
   "source": [
    "import torch"
   ]
  },
  {
   "cell_type": "markdown",
   "id": "6c52cc8b",
   "metadata": {},
   "source": [
    "**Задача 1.**"
   ]
  },
  {
   "cell_type": "markdown",
   "id": "42003f0d",
   "metadata": {},
   "source": [
    "[Ссылка на задачу](https://stepik.org/lesson/236466/step/5?unit=208889)"
   ]
  },
  {
   "cell_type": "code",
   "execution_count": 31,
   "id": "41f2b8de",
   "metadata": {},
   "outputs": [],
   "source": [
    "w = torch.tensor([[5., 10.], [1., 2.]], requires_grad=True)\n",
    "function =  (w + 7).log().log().prod()\n",
    "function.backward()"
   ]
  },
  {
   "cell_type": "code",
   "execution_count": 32,
   "id": "e6e6f34b",
   "metadata": {},
   "outputs": [
    {
     "name": "stdout",
     "output_type": "stream",
     "text": [
      "tensor([[0.0201, 0.0109],\n",
      "        [0.0449, 0.0351]])\n"
     ]
    }
   ],
   "source": [
    "print(w.grad) # Для самопроверки"
   ]
  },
  {
   "cell_type": "markdown",
   "id": "abcb7a6a",
   "metadata": {},
   "source": [
    "**Задача 2.**"
   ]
  },
  {
   "cell_type": "markdown",
   "id": "3ea56b16",
   "metadata": {},
   "source": [
    "[Ссылка на задачу](https://stepik.org/lesson/236466/step/7?unit=208889)"
   ]
  },
  {
   "cell_type": "code",
   "execution_count": 37,
   "id": "5e755e29",
   "metadata": {},
   "outputs": [],
   "source": [
    "w = torch.tensor([[5., 10.], [1., 2.]], requires_grad=True)\n",
    "alpha = 0.001\n",
    "\n",
    "for i in range(500):\n",
    "    function = (w + 7).log().log().prod()\n",
    "    function.backward()\n",
    "    w.data -= alpha * w.grad # Здесь движемся на одну итерацию вперед, причем меняем именно данные тензора\n",
    "    w.grad.zero_() # Здесь сбрасываем градиент, точнее, обнуляем его\n",
    "                   # (если этого не делать, то после каждой итерации он будет суммироваться)"
   ]
  },
  {
   "cell_type": "code",
   "execution_count": 38,
   "id": "b7e06b49",
   "metadata": {},
   "outputs": [
    {
     "name": "stdout",
     "output_type": "stream",
     "text": [
      "tensor([[4.9900, 9.9948],\n",
      "        [0.9775, 1.9825]])\n"
     ]
    }
   ],
   "source": [
    "print(w.data) # Для самопроверки"
   ]
  },
  {
   "cell_type": "markdown",
   "id": "ede5f0a1",
   "metadata": {},
   "source": [
    "**Задача 3.**"
   ]
  },
  {
   "cell_type": "markdown",
   "id": "68ac7225",
   "metadata": {},
   "source": [
    "[Ссылка на задачу](https://stepik.org/lesson/236466/step/9?unit=208889)"
   ]
  },
  {
   "cell_type": "code",
   "execution_count": 45,
   "id": "774c9696",
   "metadata": {},
   "outputs": [],
   "source": [
    "import torch\n",
    "\n",
    "w = torch.tensor([[5., 10.], [1., 2.]], requires_grad=True)\n",
    "optimizer = torch.optim.SGD([w], lr=0.001)\n",
    "\n",
    "for _ in range(500):\n",
    "    function = (w + 7).log().log().prod()\n",
    "    function.backward()\n",
    "    optimizer.step() # Оптимайзер сам делает переход на следующую итерацию, так как метод backward был выполнен, т.е посчитали градиент \n",
    "    optimizer.zero_grad()\n"
   ]
  },
  {
   "cell_type": "code",
   "execution_count": 46,
   "id": "5170a8cf",
   "metadata": {},
   "outputs": [
    {
     "name": "stdout",
     "output_type": "stream",
     "text": [
      "tensor([[4.9900, 9.9948],\n",
      "        [0.9775, 1.9825]], requires_grad=True)\n"
     ]
    }
   ],
   "source": [
    "print(w)"
   ]
  }
 ],
 "metadata": {
  "kernelspec": {
   "display_name": "Python 3 (ipykernel)",
   "language": "python",
   "name": "python3"
  },
  "language_info": {
   "codemirror_mode": {
    "name": "ipython",
    "version": 3
   },
   "file_extension": ".py",
   "mimetype": "text/x-python",
   "name": "python",
   "nbconvert_exporter": "python",
   "pygments_lexer": "ipython3",
   "version": "3.9.12"
  }
 },
 "nbformat": 4,
 "nbformat_minor": 5
}
