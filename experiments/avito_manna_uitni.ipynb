{
 "cells": [
  {
   "attachments": {},
   "cell_type": "markdown",
   "metadata": {},
   "source": [
    "Данный notebook будет опираться на следующую статью: [тык](https://habr.com/ru/company/avito/blog/709596/). Здесь мы поэтапно разберем и разжуем все изложенные в статье кейсы. Иногда будем это делать с доказательствами или давать ссылки на них."
   ]
  },
  {
   "cell_type": "markdown",
   "metadata": {},
   "source": [
    "## Эксперимент 1"
   ]
  },
  {
   "attachments": {},
   "cell_type": "markdown",
   "metadata": {},
   "source": [
    "Идея такая: попробуем показать на примере, что тест Манна-Уитни не проверяет равенство средних. Давайте для этого возьмем выборки из двух распределений, у которых равны средние и медианы, а также они будут симметричны относительно нуля. После этого проведем A/A тест на уровне значимости $\\alpha = 0.05$ на примере двух тестов - тест Манна-Уитни и Т-тест, где за нулевую гипотезу возьмем равенство средних двух распределений. А также потроим доверительный интервал для истинной ошибки 1-ого рода и поясним, как мы это сделали."
   ]
  },
  {
   "cell_type": "code",
   "execution_count": 11,
   "metadata": {},
   "outputs": [],
   "source": [
    "import pandas as pd\n",
    "from tqdm.notebook import tqdm # tqdm – библиотека для визуализации прогресса в цикле\n",
    "import numpy as np\n",
    "import scipy.stats as sps\n",
    "from statsmodels.stats.proportion import proportion_confint"
   ]
  },
  {
   "cell_type": "code",
   "execution_count": 12,
   "metadata": {},
   "outputs": [],
   "source": [
    "def experiment_1(length=5000, lb_1=-5, ub_1=5, lb_2=-150, ub_2=150, size_1=1500, size_2=1500):\n",
    "    ttest_effect_counter = 0\n",
    "    mu_effect_counter = 0\n",
    "\n",
    "    ttest_pvalues = []\n",
    "    mu_pvalues = []\n",
    "\n",
    "    for i in tqdm(range(length)):\n",
    "        uniform_1 = np.random.uniform(low=lb_1, high=ub_1, size=size_1)\n",
    "        uniform_2 = np.random.uniform(low=lb_2, high=ub_2, size=size_2)\n",
    "        ttest_pvalues.append(sps.ttest_ind(a=uniform_1, b=uniform_2, equal_var=False, alternative='two-sided').pvalue)\n",
    "        mu_pvalues.append(sps.mannwhitneyu(x=uniform_1, y=uniform_2, alternative='two-sided').pvalue)\n",
    "\n",
    "        if ttest_pvalues[i] < 0.05:\n",
    "            ttest_effect_counter += 1\n",
    "        if mu_pvalues[i] < 0.05:\n",
    "            mu_effect_counter += 1\n",
    "\n",
    "    p_1 = ttest_effect_counter / length\n",
    "    p_2 = mu_effect_counter / length\n",
    "    conf_p_1 = proportion_confint(count=ttest_effect_counter, nobs=length, alpha=0.05, method='wilson')\n",
    "    conf_p_2 = proportion_confint(count=mu_effect_counter, nobs=length, alpha=0.05, method='wilson')\n",
    "\n",
    "    print(f\"Доля полученных эффектов для ttest = {p_1}\\nДоверительный интервал для этой доли = {conf_p_1}\",\n",
    "        f\"Доля полученных эффектов для mutest = {p_2}\\nДоверительный интервал для этой доли = {conf_p_2}\", sep='\\n\\n')"
   ]
  },
  {
   "cell_type": "code",
   "execution_count": 13,
   "metadata": {},
   "outputs": [
    {
     "data": {
      "application/vnd.jupyter.widget-view+json": {
       "model_id": "18533a5cb8f94ca89665180934b77e70",
       "version_major": 2,
       "version_minor": 0
      },
      "text/plain": [
       "  0%|          | 0/5000 [00:00<?, ?it/s]"
      ]
     },
     "metadata": {},
     "output_type": "display_data"
    },
    {
     "name": "stdout",
     "output_type": "stream",
     "text": [
      "Доля полученных эффектов для ttest = 0.0516\n",
      "Доверительный интервал для этой доли = (0.045805193052696626, 0.05808328205163061)\n",
      "\n",
      "Доля полученных эффектов для mutest = 0.115\n",
      "Доверительный интервал для этой доли = (0.10645134542601838, 0.12413978507167563)\n"
     ]
    }
   ],
   "source": [
    "experiment_1()"
   ]
  },
  {
   "attachments": {},
   "cell_type": "markdown",
   "metadata": {},
   "source": [
    "Как мы видим, доля полученных эффектов там, где их быть не должно, - для Т-тест близка к 0.05, что согласуется с тем, что p-value равномерно распределена при верной нулевой гипотезе. Поэтому если мы отвергали основную гипотезу на уровне $\\alpha=0.05$, то и доля должна быть близка к этому значению $\\alpha=0.05$. Как мы видим, для Манна-Уитни теста это далеко не так, значит, с необходимостью либо нулевая гипотеза не может быть верна, либо этот тест вообще не подразумевал в нулевой гипотезе то, что мы пытаемся проверить! Так как первый вариант невозможен (ведь средние и правда равны в двух выборках), значит, остается только второй вариант."
   ]
  },
  {
   "attachments": {},
   "cell_type": "markdown",
   "metadata": {},
   "source": [
    "Мы строили доверительный интервал для истинной ошибки 1-ого рода с помощью метода Вилсона. Если коротко, это просто нормальная аппроксимация для классической t-статистики. Где в качестве выборочного среднего берется доля, полученная в нашем эксперименте. Как несложно показать, данная t-статистика имеет нормальное распределение (Теорема Слуцкого + ЗБЧ + Теорема непрерывности). Стало быть, легко построить ассимптотический доверительный интервал, что в этом методе и делается. Подробнее можно почитать вот [здесь](https://en.wikipedia.org/wiki/Binomial_proportion_confidence_interval)"
   ]
  },
  {
   "attachments": {},
   "cell_type": "markdown",
   "metadata": {},
   "source": [
    "На самом деле, тест Манна-Уитни проверяет полное совпадение распределений у двух групп: тестовой и контрольной, против сложной альтернативы, что распределения отличаются на некоторый сдвиг $C$!\n",
    "\n",
    "К слову, было логично получить долю ложных прокрасов аж в два раза больше, чем у Т-теста. Так как Манна-Уитни проверяет более сильный факт."
   ]
  },
  {
   "attachments": {},
   "cell_type": "markdown",
   "metadata": {},
   "source": [
    "Для этого снова запустим нашу функцию `experiment_1`, но уже подадим туда две выборки, взятые из **одинакового** распределения, и посмотрим, что из этого получится:)"
   ]
  },
  {
   "cell_type": "code",
   "execution_count": 14,
   "metadata": {},
   "outputs": [
    {
     "data": {
      "application/vnd.jupyter.widget-view+json": {
       "model_id": "9feb9c6402a84a979976417d6e54aece",
       "version_major": 2,
       "version_minor": 0
      },
      "text/plain": [
       "  0%|          | 0/5000 [00:00<?, ?it/s]"
      ]
     },
     "metadata": {},
     "output_type": "display_data"
    },
    {
     "name": "stdout",
     "output_type": "stream",
     "text": [
      "Доля полученных эффектов для ttest = 0.054\n",
      "Доверительный интервал для этой доли = (0.048070671178201296, 0.06061411895678967)\n",
      "\n",
      "Доля полученных эффектов для mutest = 0.0544\n",
      "Доверительный интервал для этой доли = (0.04844859105944088, 0.06103558491399404)\n"
     ]
    }
   ],
   "source": [
    "experiment_1(length=5000, lb_1=-5, ub_1=5, lb_2=-5, ub_2=5, size_1=2500, size_2=2500)"
   ]
  },
  {
   "attachments": {},
   "cell_type": "markdown",
   "metadata": {},
   "source": [
    "Да! \n",
    "\n",
    "Мы как раз получили обе близкие к $\\alpha = 0.05$ доли, как и должны были получить теоретически."
   ]
  },
  {
   "cell_type": "markdown",
   "metadata": {},
   "source": [
    "## Эксперимент 2"
   ]
  },
  {
   "cell_type": "code",
   "execution_count": null,
   "metadata": {},
   "outputs": [],
   "source": []
  },
  {
   "cell_type": "code",
   "execution_count": null,
   "metadata": {},
   "outputs": [],
   "source": []
  },
  {
   "cell_type": "code",
   "execution_count": null,
   "metadata": {},
   "outputs": [],
   "source": []
  },
  {
   "cell_type": "code",
   "execution_count": null,
   "metadata": {},
   "outputs": [],
   "source": []
  },
  {
   "cell_type": "code",
   "execution_count": null,
   "metadata": {},
   "outputs": [],
   "source": []
  }
 ],
 "metadata": {
  "kernelspec": {
   "display_name": "base",
   "language": "python",
   "name": "python3"
  },
  "language_info": {
   "codemirror_mode": {
    "name": "ipython",
    "version": 3
   },
   "file_extension": ".py",
   "mimetype": "text/x-python",
   "name": "python",
   "nbconvert_exporter": "python",
   "pygments_lexer": "ipython3",
   "version": "3.10.9"
  },
  "orig_nbformat": 4,
  "vscode": {
   "interpreter": {
    "hash": "86b34ed3c3133d18abca1a7478c638bf2ec364040bada6a3f6362ac01a633aad"
   }
  }
 },
 "nbformat": 4,
 "nbformat_minor": 2
}
