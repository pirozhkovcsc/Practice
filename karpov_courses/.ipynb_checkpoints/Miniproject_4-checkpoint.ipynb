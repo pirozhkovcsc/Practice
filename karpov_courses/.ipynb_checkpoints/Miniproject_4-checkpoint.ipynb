{
 "cells": [
  {
   "cell_type": "markdown",
   "id": "9e1a0896",
   "metadata": {},
   "source": [
    "# Task"
   ]
  },
  {
   "cell_type": "markdown",
   "id": "ef935428",
   "metadata": {},
   "source": [
    "1) Соберите все данные из папки data в один датафрэйм, имеющий следующие столбцы: колонки из самих файлов (product_id, quantity), а также имя пользователя (name), и дата этих покупок (date, соответствует названию папки, где лежит папка с пользователем)\n",
    "\n",
    "2) Выясните, какой пользователь купил больше всего товаров. Если их несколько, то перечислите имена через запятую с пробелом и в алфавитном порядке.\n",
    "\n",
    "3) Найдите топ-10 товаров по числу проданных единиц за всё время и постройте барплот. Сколько было продано единиц товара с product_id==56?\n",
    "\n",
    "4) Визуализируйте продажи по дням.\n",
    "\n",
    "5) Сколько пользователей приобрели какой-либо товар повторно (более 1 раза)? Повтором будем считать покупку товара с одинаковым product_id, совершенную в разные дни. "
   ]
  },
  {
   "cell_type": "markdown",
   "id": "c1bb669c",
   "metadata": {},
   "source": [
    "Подгрузим нужные библиотеки:"
   ]
  },
  {
   "cell_type": "code",
   "execution_count": 89,
   "id": "58c8bbac",
   "metadata": {},
   "outputs": [],
   "source": [
    "import pandas as pd\n",
    "import seaborn as sns\n",
    "import os"
   ]
  },
  {
   "cell_type": "markdown",
   "id": "ba300633",
   "metadata": {},
   "source": [
    "**Задача 1.**"
   ]
  },
  {
   "cell_type": "markdown",
   "id": "58ece8f5",
   "metadata": {},
   "source": [
    "Сначала считаем zipfile (data.zip) и переведем его в папку (data) в нашей директории karpov_courses, так будет намного удобнее.\n",
    "\n",
    "Укажем два пути: путь к zip файлу и путь к директории, в которую хотим разархивировать zip файл:"
   ]
  },
  {
   "cell_type": "code",
   "execution_count": 36,
   "id": "4a015518",
   "metadata": {},
   "outputs": [],
   "source": [
    "path_to_zip_file        = 'C:/Users/csc20/karpov_courses/data.zip'\n",
    "directory_to_extract_to = 'C:/Users/csc20/karpov_courses/'"
   ]
  },
  {
   "cell_type": "code",
   "execution_count": 37,
   "id": "85389d6e",
   "metadata": {},
   "outputs": [],
   "source": [
    "import zipfile\n",
    "with zipfile.ZipFile(path_to_zip_file, 'r') as zip_ref:\n",
    "    zip_ref.extractall(directory_to_extract_to)"
   ]
  },
  {
   "cell_type": "markdown",
   "id": "c8f339ca",
   "metadata": {},
   "source": [
    "С помощью метода listdir можно убедиться, что в директории karpov_courses в папке data лежит наш разархивированный zip файл:\n"
   ]
  },
  {
   "cell_type": "code",
   "execution_count": 41,
   "id": "3808d600",
   "metadata": {},
   "outputs": [
    {
     "data": {
      "text/plain": [
       "['Alexey_Smirnov',\n",
       " 'Anton_Petrov',\n",
       " 'Kirill_Petrov',\n",
       " 'Petr_Fedorov',\n",
       " 'Vasiliy_Ivanov',\n",
       " 'Vasiliy_Petrov']"
      ]
     },
     "execution_count": 41,
     "metadata": {},
     "output_type": "execute_result"
    }
   ],
   "source": [
    "os.listdir('C:/Users/csc20/karpov_courses/data/2020-12-03/Alexey_Smirnov/')"
   ]
  },
  {
   "cell_type": "code",
   "execution_count": 120,
   "id": "360ca208",
   "metadata": {},
   "outputs": [],
   "source": [
    "# Создадим пока скелет датафрейма, в который будем класть  данные\n",
    "df = pd.DataFrame(columns=['product_id', 'quantity', 'name', 'date'])\n",
    "\n",
    "# Пробежимся по каждому дню, залезем в каждую папку, считаем данные и добавим их в df (метод concat)\n",
    "for i in range(3, 10):\n",
    "    path = f'C:/Users/csc20/karpov_courses/data/2020-12-0{i}'\n",
    "    for name in os.listdir(path):\n",
    "        gap_data = pd.read_csv(f'{path}/{name}/data.csv',\n",
    "                               index_col=0)\n",
    "        gap_data = gap_data.assign(name=name,\n",
    "                                   date=f'2020-12-0{i}')\n",
    "        \n",
    "        df = pd.concat([df, gap_data])"
   ]
  },
  {
   "cell_type": "code",
   "execution_count": 84,
   "id": "ea4e640a",
   "metadata": {},
   "outputs": [
    {
     "data": {
      "text/html": [
       "<div>\n",
       "<style scoped>\n",
       "    .dataframe tbody tr th:only-of-type {\n",
       "        vertical-align: middle;\n",
       "    }\n",
       "\n",
       "    .dataframe tbody tr th {\n",
       "        vertical-align: top;\n",
       "    }\n",
       "\n",
       "    .dataframe thead th {\n",
       "        text-align: right;\n",
       "    }\n",
       "</style>\n",
       "<table border=\"1\" class=\"dataframe\">\n",
       "  <thead>\n",
       "    <tr style=\"text-align: right;\">\n",
       "      <th></th>\n",
       "      <th>product_id</th>\n",
       "      <th>quantity</th>\n",
       "      <th>name</th>\n",
       "      <th>date</th>\n",
       "    </tr>\n",
       "  </thead>\n",
       "  <tbody>\n",
       "    <tr>\n",
       "      <th>0</th>\n",
       "      <td>47</td>\n",
       "      <td>1</td>\n",
       "      <td>Alexey_Smirnov</td>\n",
       "      <td>2020-12-03</td>\n",
       "    </tr>\n",
       "    <tr>\n",
       "      <th>1</th>\n",
       "      <td>57</td>\n",
       "      <td>1</td>\n",
       "      <td>Alexey_Smirnov</td>\n",
       "      <td>2020-12-03</td>\n",
       "    </tr>\n",
       "    <tr>\n",
       "      <th>2</th>\n",
       "      <td>14</td>\n",
       "      <td>2</td>\n",
       "      <td>Alexey_Smirnov</td>\n",
       "      <td>2020-12-03</td>\n",
       "    </tr>\n",
       "    <tr>\n",
       "      <th>3</th>\n",
       "      <td>52</td>\n",
       "      <td>1</td>\n",
       "      <td>Alexey_Smirnov</td>\n",
       "      <td>2020-12-03</td>\n",
       "    </tr>\n",
       "    <tr>\n",
       "      <th>4</th>\n",
       "      <td>1</td>\n",
       "      <td>4</td>\n",
       "      <td>Alexey_Smirnov</td>\n",
       "      <td>2020-12-03</td>\n",
       "    </tr>\n",
       "    <tr>\n",
       "      <th>...</th>\n",
       "      <td>...</td>\n",
       "      <td>...</td>\n",
       "      <td>...</td>\n",
       "      <td>...</td>\n",
       "    </tr>\n",
       "    <tr>\n",
       "      <th>1</th>\n",
       "      <td>66</td>\n",
       "      <td>4</td>\n",
       "      <td>Rostislav_Petrov</td>\n",
       "      <td>2020-12-09</td>\n",
       "    </tr>\n",
       "    <tr>\n",
       "      <th>2</th>\n",
       "      <td>39</td>\n",
       "      <td>2</td>\n",
       "      <td>Rostislav_Petrov</td>\n",
       "      <td>2020-12-09</td>\n",
       "    </tr>\n",
       "    <tr>\n",
       "      <th>0</th>\n",
       "      <td>82</td>\n",
       "      <td>4</td>\n",
       "      <td>Vasiliy_Ivanov</td>\n",
       "      <td>2020-12-09</td>\n",
       "    </tr>\n",
       "    <tr>\n",
       "      <th>1</th>\n",
       "      <td>74</td>\n",
       "      <td>2</td>\n",
       "      <td>Vasiliy_Ivanov</td>\n",
       "      <td>2020-12-09</td>\n",
       "    </tr>\n",
       "    <tr>\n",
       "      <th>2</th>\n",
       "      <td>54</td>\n",
       "      <td>3</td>\n",
       "      <td>Vasiliy_Ivanov</td>\n",
       "      <td>2020-12-09</td>\n",
       "    </tr>\n",
       "  </tbody>\n",
       "</table>\n",
       "<p>161 rows × 4 columns</p>\n",
       "</div>"
      ],
      "text/plain": [
       "   product_id quantity              name        date\n",
       "0          47        1    Alexey_Smirnov  2020-12-03\n",
       "1          57        1    Alexey_Smirnov  2020-12-03\n",
       "2          14        2    Alexey_Smirnov  2020-12-03\n",
       "3          52        1    Alexey_Smirnov  2020-12-03\n",
       "4           1        4    Alexey_Smirnov  2020-12-03\n",
       "..        ...      ...               ...         ...\n",
       "1          66        4  Rostislav_Petrov  2020-12-09\n",
       "2          39        2  Rostislav_Petrov  2020-12-09\n",
       "0          82        4    Vasiliy_Ivanov  2020-12-09\n",
       "1          74        2    Vasiliy_Ivanov  2020-12-09\n",
       "2          54        3    Vasiliy_Ivanov  2020-12-09\n",
       "\n",
       "[161 rows x 4 columns]"
      ]
     },
     "execution_count": 84,
     "metadata": {},
     "output_type": "execute_result"
    }
   ],
   "source": [
    "df"
   ]
  },
  {
   "cell_type": "markdown",
   "id": "39577a5a",
   "metadata": {},
   "source": [
    "**Задача 2.**"
   ]
  },
  {
   "cell_type": "code",
   "execution_count": 85,
   "id": "3bc8b894",
   "metadata": {},
   "outputs": [
    {
     "data": {
      "text/html": [
       "<div>\n",
       "<style scoped>\n",
       "    .dataframe tbody tr th:only-of-type {\n",
       "        vertical-align: middle;\n",
       "    }\n",
       "\n",
       "    .dataframe tbody tr th {\n",
       "        vertical-align: top;\n",
       "    }\n",
       "\n",
       "    .dataframe thead th {\n",
       "        text-align: right;\n",
       "    }\n",
       "</style>\n",
       "<table border=\"1\" class=\"dataframe\">\n",
       "  <thead>\n",
       "    <tr style=\"text-align: right;\">\n",
       "      <th></th>\n",
       "      <th>name</th>\n",
       "      <th>quantity</th>\n",
       "    </tr>\n",
       "  </thead>\n",
       "  <tbody>\n",
       "    <tr>\n",
       "      <th>3</th>\n",
       "      <td>Alexey_Smirnov</td>\n",
       "      <td>52</td>\n",
       "    </tr>\n",
       "    <tr>\n",
       "      <th>13</th>\n",
       "      <td>Petr_Smirnov</td>\n",
       "      <td>52</td>\n",
       "    </tr>\n",
       "    <tr>\n",
       "      <th>6</th>\n",
       "      <td>Anton_Smirnov</td>\n",
       "      <td>45</td>\n",
       "    </tr>\n",
       "    <tr>\n",
       "      <th>10</th>\n",
       "      <td>Petr_Fedorov</td>\n",
       "      <td>34</td>\n",
       "    </tr>\n",
       "    <tr>\n",
       "      <th>7</th>\n",
       "      <td>Kirill_Fedorov</td>\n",
       "      <td>28</td>\n",
       "    </tr>\n",
       "  </tbody>\n",
       "</table>\n",
       "</div>"
      ],
      "text/plain": [
       "              name quantity\n",
       "3   Alexey_Smirnov       52\n",
       "13    Petr_Smirnov       52\n",
       "6    Anton_Smirnov       45\n",
       "10    Petr_Fedorov       34\n",
       "7   Kirill_Fedorov       28"
      ]
     },
     "execution_count": 85,
     "metadata": {},
     "output_type": "execute_result"
    }
   ],
   "source": [
    "df.groupby('name', as_index=False).agg({'quantity': 'sum'}).sort_values('quantity', ascending=False).head()\n",
    "\n",
    "# Отсюда видно, что это Alexey_Smirnov и Petr_Smirnov"
   ]
  },
  {
   "cell_type": "markdown",
   "id": "22e539f9",
   "metadata": {},
   "source": [
    "**Задача 3.**"
   ]
  },
  {
   "cell_type": "code",
   "execution_count": 99,
   "id": "cb865f08",
   "metadata": {},
   "outputs": [
    {
     "data": {
      "text/html": [
       "<div>\n",
       "<style scoped>\n",
       "    .dataframe tbody tr th:only-of-type {\n",
       "        vertical-align: middle;\n",
       "    }\n",
       "\n",
       "    .dataframe tbody tr th {\n",
       "        vertical-align: top;\n",
       "    }\n",
       "\n",
       "    .dataframe thead th {\n",
       "        text-align: right;\n",
       "    }\n",
       "</style>\n",
       "<table border=\"1\" class=\"dataframe\">\n",
       "  <thead>\n",
       "    <tr style=\"text-align: right;\">\n",
       "      <th></th>\n",
       "      <th>product_id</th>\n",
       "      <th>quantity</th>\n",
       "    </tr>\n",
       "  </thead>\n",
       "  <tbody>\n",
       "    <tr>\n",
       "      <th>22</th>\n",
       "      <td>27</td>\n",
       "      <td>20</td>\n",
       "    </tr>\n",
       "    <tr>\n",
       "      <th>42</th>\n",
       "      <td>56</td>\n",
       "      <td>18</td>\n",
       "    </tr>\n",
       "    <tr>\n",
       "      <th>21</th>\n",
       "      <td>24</td>\n",
       "      <td>15</td>\n",
       "    </tr>\n",
       "    <tr>\n",
       "      <th>51</th>\n",
       "      <td>74</td>\n",
       "      <td>15</td>\n",
       "    </tr>\n",
       "    <tr>\n",
       "      <th>32</th>\n",
       "      <td>41</td>\n",
       "      <td>14</td>\n",
       "    </tr>\n",
       "  </tbody>\n",
       "</table>\n",
       "</div>"
      ],
      "text/plain": [
       "   product_id quantity\n",
       "22         27       20\n",
       "42         56       18\n",
       "21         24       15\n",
       "51         74       15\n",
       "32         41       14"
      ]
     },
     "execution_count": 99,
     "metadata": {},
     "output_type": "execute_result"
    }
   ],
   "source": [
    "sale_by_product_id = df.groupby('product_id', as_index=False).agg({'quantity': 'sum'}) \\\n",
    "    .sort_values('quantity', ascending=False).head(10)\n",
    "\n",
    "sale_by_product_id.head()\n",
    "# Отсюда видно, что было продано 18 единиц товара с product_id==56"
   ]
  },
  {
   "cell_type": "code",
   "execution_count": 109,
   "id": "b9350cd1",
   "metadata": {},
   "outputs": [
    {
     "data": {
      "image/png": "[encoded data removed]",
      "text/plain": [
       "<Figure size 432x288 with 1 Axes>"
      ]
     },
     "metadata": {
      "needs_background": "light"
     },
     "output_type": "display_data"
    }
   ],
   "source": [
    "ax = sns.barplot(x=sale_by_product_id.product_id, y=sale_by_product_id.quantity);\n",
    "\n",
    "ax.set_xlabel('\\nProduct id')\n",
    "ax.set_ylabel('Quantity\\n')\n",
    "ax.set_title('Sale by product id');"
   ]
  },
  {
   "cell_type": "markdown",
   "id": "4f16fab2",
   "metadata": {},
   "source": [
    "**Задача 4.**"
   ]
  },
  {
   "cell_type": "code",
   "execution_count": 110,
   "id": "5ad00824",
   "metadata": {},
   "outputs": [
    {
     "data": {
      "text/html": [
       "<div>\n",
       "<style scoped>\n",
       "    .dataframe tbody tr th:only-of-type {\n",
       "        vertical-align: middle;\n",
       "    }\n",
       "\n",
       "    .dataframe tbody tr th {\n",
       "        vertical-align: top;\n",
       "    }\n",
       "\n",
       "    .dataframe thead th {\n",
       "        text-align: right;\n",
       "    }\n",
       "</style>\n",
       "<table border=\"1\" class=\"dataframe\">\n",
       "  <thead>\n",
       "    <tr style=\"text-align: right;\">\n",
       "      <th></th>\n",
       "      <th>date</th>\n",
       "      <th>quantity</th>\n",
       "    </tr>\n",
       "  </thead>\n",
       "  <tbody>\n",
       "    <tr>\n",
       "      <th>0</th>\n",
       "      <td>2020-12-03</td>\n",
       "      <td>60</td>\n",
       "    </tr>\n",
       "    <tr>\n",
       "      <th>1</th>\n",
       "      <td>2020-12-04</td>\n",
       "      <td>113</td>\n",
       "    </tr>\n",
       "    <tr>\n",
       "      <th>2</th>\n",
       "      <td>2020-12-05</td>\n",
       "      <td>61</td>\n",
       "    </tr>\n",
       "    <tr>\n",
       "      <th>3</th>\n",
       "      <td>2020-12-06</td>\n",
       "      <td>15</td>\n",
       "    </tr>\n",
       "    <tr>\n",
       "      <th>4</th>\n",
       "      <td>2020-12-07</td>\n",
       "      <td>94</td>\n",
       "    </tr>\n",
       "    <tr>\n",
       "      <th>5</th>\n",
       "      <td>2020-12-08</td>\n",
       "      <td>68</td>\n",
       "    </tr>\n",
       "    <tr>\n",
       "      <th>6</th>\n",
       "      <td>2020-12-09</td>\n",
       "      <td>69</td>\n",
       "    </tr>\n",
       "  </tbody>\n",
       "</table>\n",
       "</div>"
      ],
      "text/plain": [
       "         date quantity\n",
       "0  2020-12-03       60\n",
       "1  2020-12-04      113\n",
       "2  2020-12-05       61\n",
       "3  2020-12-06       15\n",
       "4  2020-12-07       94\n",
       "5  2020-12-08       68\n",
       "6  2020-12-09       69"
      ]
     },
     "execution_count": 110,
     "metadata": {},
     "output_type": "execute_result"
    }
   ],
   "source": [
    "sale_by_day = df.groupby('date', as_index=False).agg({'quantity': 'sum'})\n",
    "\n",
    "sale_by_day"
   ]
  },
  {
   "cell_type": "code",
   "execution_count": 111,
   "id": "4a967b67",
   "metadata": {},
   "outputs": [
    {
     "data": {
      "image/png": "[encoded data removed]",
      "text/plain": [
       "<Figure size 432x288 with 1 Axes>"
      ]
     },
     "metadata": {
      "needs_background": "light"
     },
     "output_type": "display_data"
    }
   ],
   "source": [
    "ax = sns.barplot(x=sale_by_day.date, y=sale_by_day.quantity);\n",
    "\n",
    "ax.set_xlabel('\\nDate')\n",
    "ax.set_ylabel('Quantity\\n')\n",
    "ax.set_title('Sale by day')\n",
    "ax.set_xticklabels(ax.get_xticklabels(), rotation=30);"
   ]
  },
  {
   "cell_type": "markdown",
   "id": "b9b2aec6",
   "metadata": {},
   "source": [
    "**Задача 5.**"
   ]
  },
  {
   "cell_type": "code",
   "execution_count": 116,
   "id": "c13312ff",
   "metadata": {},
   "outputs": [
    {
     "data": {
      "text/plain": [
       "2"
      ]
     },
     "execution_count": 116,
     "metadata": {},
     "output_type": "execute_result"
    }
   ],
   "source": [
    "df.groupby(['name', 'product_id'], as_index=False).agg({'date': pd.Series.nunique}) \\\n",
    "    .query(\"date > 1\").name.nunique()"
   ]
  }
 ],
 "metadata": {
  "kernelspec": {
   "display_name": "Python 3 (ipykernel)",
   "language": "python",
   "name": "python3"
  },
  "language_info": {
   "codemirror_mode": {
    "name": "ipython",
    "version": 3
   },
   "file_extension": ".py",
   "mimetype": "text/x-python",
   "name": "python",
   "nbconvert_exporter": "python",
   "pygments_lexer": "ipython3",
   "version": "3.9.12"
  }
 },
 "nbformat": 4,
 "nbformat_minor": 5
}
